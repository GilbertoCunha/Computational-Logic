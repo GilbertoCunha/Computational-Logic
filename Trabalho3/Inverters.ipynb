{
 "cells": [
  {
   "cell_type": "markdown",
   "metadata": {},
   "source": [
    "# Inversores"
   ]
  },
  {
   "cell_type": "code",
   "execution_count": 1,
   "metadata": {},
   "outputs": [],
   "source": [
    "from z3 import *\n",
    "import numpy as np"
   ]
  },
  {
   "cell_type": "markdown",
   "metadata": {},
   "source": [
    "Possibilidades:\n",
    "\n",
    "- Todos os inversores a 0: 1 caso\n",
    "- Todos os inversores a 1: 1 caso - Única possibilidade para no passo a seguir ficarem os inversores todos a 0\n",
    "- Um dos inversores a 0: 1 caso\n",
    "- Um dos inversores a 1: 1 caso\n",
    "- Dois inversores a 0 (e a 1): 2 casos - zeros seguidos ou alternados"
   ]
  },
  {
   "cell_type": "markdown",
   "metadata": {},
   "source": [
    "## Variante"
   ]
  },
  {
   "cell_type": "code",
   "execution_count": 5,
   "metadata": {},
   "outputs": [],
   "source": [
    "def declare(i, num_inv=4):\n",
    "    state = {j: {\"in\": Int(f\"in_s{i}_i{j}\"), \"out\": Int(f\"out_s{i}_i{j}\")} for j in range(num_inv)}\n",
    "    return state\n",
    "\n",
    "def init(state):\n",
    "    conds = []\n",
    "    for i in state:\n",
    "        conds.append(Or(state[i][\"in\"] == 0, state[i][\"in\"] == 1))\n",
    "        conds.append(Or(state[i][\"out\"] == 0, state[i][\"out\"] == 1))\n",
    "        conds.append(state[i][\"out\"] == state[(i+1)%len(state)][\"in\"])\n",
    "    \n",
    "    return And(conds)\n",
    "\n",
    "def invert(inv_atual, inv_ant):\n",
    "    c1 = inv_atual[\"out\"] == inv_ant[\"out\"]\n",
    "    c2 = inv_atual[\"out\"] == 1 - inv_ant[\"in\"]\n",
    "    r = Or(c1, c2)\n",
    "    \n",
    "    return r  \n",
    "    \n",
    "def trans(sys_atual, sys_ant):\n",
    "    # Restrições da determinação do output de cada inversor\n",
    "    conds = []\n",
    "    for i in sys_atual:\n",
    "        conds.append(sys_atual[(i+1)%len(sys_atual)][\"in\"] == sys_atual[i][\"out\"])\n",
    "        conds.append(invert(sys_atual[i], sys_ant[i]))\n",
    "    \n",
    "    r = And(conds)\n",
    "    \n",
    "    return r"
   ]
  },
  {
   "cell_type": "code",
   "execution_count": 21,
   "metadata": {},
   "outputs": [],
   "source": [
    "def kinduction_always(declare, init, trans, inv, pos, k, prop=\"variant decrease\"):\n",
    "    solver = Solver()\n",
    "    trace = {i: declare(i) for i in range(k+1)}\n",
    "    solver.add(init(trace[0]))\n",
    "    \n",
    "    # Testar k casos de base\n",
    "    for i in range(k):\n",
    "        solver.add(trans(trace[i+1], trace[i]))\n",
    "        solver.add(pos(trace[i]))\n",
    "    solver.add(Or([Not(inv(trace[i])) for i in range(k)]))\n",
    "        \n",
    "    if solver.check() == sat:\n",
    "        print(f\"The {prop} breaks down in (at least) one of the initial states.\\n\")\n",
    "        m = solver.model()\n",
    "        \n",
    "        output = {}\n",
    "        for i in range(k):\n",
    "            elems = [elem for elem in m if f\"_s{i}_\" in str(elem)]\n",
    "            output[i] = {str(elem): m[elem] for elem in elems if \"out\" in str(elem)}\n",
    "        \n",
    "        for k in output.keys():\n",
    "            keys = sorted(output[k].keys())\n",
    "            output[k] = [output[k][key] for key in keys]\n",
    "            print(k, output[k])\n",
    "                \n",
    "        return\n",
    "    elif solver.check() != unsat:\n",
    "        return\n",
    "        \n",
    "    # Testar caso indutivo\n",
    "    solver = Solver()\n",
    "    for i in range(k):\n",
    "        solver.add(trans(trace[i+1], trace[i]))\n",
    "        solver.add(inv(trace[i]))\n",
    "    solver.add(Not(inv(trace[k])))\n",
    "    \n",
    "    if solver.check() == sat:\n",
    "        print(f\"The {prop} fails in the inductive state.\\n\")\n",
    "        \n",
    "        m = solver.model()\n",
    "        \n",
    "        output = {}\n",
    "        for i in range(k):\n",
    "            elems = [elem for elem in m if f\"_s{i}_\" in str(elem)]\n",
    "            output[i] = {str(elem): m[elem] for elem in elems if \"out\" in str(elem)}\n",
    "        \n",
    "        for k in output.keys():\n",
    "            keys = sorted(output[k].keys())\n",
    "            output[k] = [output[k][key] for key in keys]\n",
    "            print(k, output[k])\n",
    "                \n",
    "        return\n",
    "    else:\n",
    "        print(f\"The {prop} holds.\")"
   ]
  },
  {
   "cell_type": "code",
   "execution_count": 22,
   "metadata": {},
   "outputs": [
    {
     "name": "stdout",
     "output_type": "stream",
     "text": [
      "The variant decrease breaks down in (at least) one of the initial states.\n",
      "\n",
      "0 [0, 0, 1, 0]\n",
      "1 [1, 1, 1, 0]\n",
      "2 [1, 1, 1, 0]\n",
      "3 [1, 0, 0, 0]\n",
      "4 [1, 0, 1, 1]\n",
      "5 [0, 0, 1, 1]\n",
      "6 [0, 0, 1, 1]\n",
      "7 [0, 0, 1, 1]\n",
      "8 [0, 0, 1, 1]\n",
      "9 [0, 0, 1, 1]\n"
     ]
    }
   ],
   "source": [
    "def positive_state(state):\n",
    "    return Sum([state[i][\"out\"] for i in state]) > 0\n",
    "\n",
    "def variant(state):\n",
    "    return Sum([state[i][\"out\"] for i in state])\n",
    "\n",
    "def var_positive(state):\n",
    "    return variant(state) >= 0\n",
    "\n",
    "def var_decreases(state, l=2):\n",
    "    states = {i: declare(-i) for i in range(1, l)}\n",
    "    \n",
    "    conds = [trans(states[1], state)]\n",
    "    for i in range(1, l-1):\n",
    "        conds.append(trans(states[i+1], states[i]))\n",
    "        \n",
    "    c1 = And(conds)\n",
    "    c2 = Or(variant(states[l-1])<variant(state), variant(states[l-1])==0)\n",
    "    \n",
    "    lista = []\n",
    "    for i in state:\n",
    "        lista.append(state[i][\"out\"])\n",
    "        lista.append(state[i][\"in\"])\n",
    "    \n",
    "    r = ForAll(lista, Implies(c1, c2))\n",
    "    return r\n",
    "\n",
    "def var_useful(state):\n",
    "    return Implies(variant(state)==0, Sum([state[i][\"out\"] for i in state])==0)\n",
    "\n",
    "kinduction_always(declare, init, trans, var_decreases, positive_state, 10)"
   ]
  },
  {
   "cell_type": "code",
   "execution_count": 8,
   "metadata": {},
   "outputs": [
    {
     "name": "stdout",
     "output_type": "stream",
     "text": [
      "0 [1, 1, 1, 1]\n",
      "1 [0, 0, 1, 1]\n",
      "2 [0, 0, 1, 1]\n",
      "3 [0, 1, 1, 1]\n",
      "4 [0, 1, 1, 1]\n",
      "5 [0, 1, 1, 0]\n",
      "6 [1, 1, 0, 0]\n",
      "7 [1, 1, 0, 0]\n",
      "8 [1, 0, 0, 1]\n",
      "9 [0, 0, 1, 1]\n"
     ]
    }
   ],
   "source": [
    "def time_evolution(declare, init, trans, k):\n",
    "    # Criar o solver e o traço de estados temporais\n",
    "    solver = Solver()\n",
    "    states = {i: declare(i) for i in range(k)}\n",
    "\n",
    "    # Inicializar o primeiro estado temporal\n",
    "    solver.add(init(states[0]))\n",
    "\n",
    "    # Fazer a transição de estados\n",
    "    for i in range(1, k):\n",
    "        solver.add(trans(states[i], states[i-1]))\n",
    "\n",
    "    if solver.check() == sat:\n",
    "        m = solver.model()\n",
    "        \n",
    "        output = {}\n",
    "        for i in range(k):\n",
    "            elems = [elem for elem in m if f\"_s{i}_\" in str(elem)]\n",
    "            output[i] = {str(elem): m[elem] for elem in elems if \"out\" in str(elem)}\n",
    "        \n",
    "        for k in output.keys():\n",
    "            keys = sorted(output[k].keys())\n",
    "            output[k] = [output[k][key] for key in keys]\n",
    "            print(k, output[k])\n",
    "            \n",
    "    return\n",
    "\n",
    "time_evolution(declare, init, trans, 10)"
   ]
  },
  {
   "cell_type": "code",
   "execution_count": 9,
   "metadata": {},
   "outputs": [
    {
     "name": "stdout",
     "output_type": "stream",
     "text": [
      "Possible starting state: [0, 0, 0, 0]\n",
      "Possible starting state: [1, 1, 1, 1]\n"
     ]
    }
   ],
   "source": [
    "def possible_states(declare, init, trans, inv, var, k):\n",
    "    solver = Solver()\n",
    "    trace = {i: declare(i) for i in range(k)}\n",
    "    solver.add(init(trace[0]))\n",
    "    \n",
    "    for i in range(k-1):\n",
    "        solver.add(trans(trace[i+1], trace[i]))\n",
    "    solver.add(And([inv(trace[i]) for i in range(k)]))\n",
    "        \n",
    "    while solver.check() == sat:\n",
    "        m = solver.model()\n",
    "        \n",
    "        outputs, inputs = [], []\n",
    "        for i in trace[0]:\n",
    "            outputs.append([m[elem] for elem in m if f\"out_s0_i{i}\" in str(elem)][0])\n",
    "            inputs.append([m[elem] for elem in m if f\"in_s0_i{i}\" in str(elem)][0])\n",
    "        \n",
    "        print(f\"Possible starting state: {outputs}\")\n",
    "            \n",
    "        for i in trace[0]:\n",
    "            solver.add(trace[0][i][\"out\"] != outputs[i])\n",
    "            solver.add(trace[0][i][\"in\"] != inputs[i])\n",
    "                \n",
    "    return\n",
    "    \n",
    "possible_states(declare, init, trans, var_decreases, variant, 100)"
   ]
  },
  {
   "cell_type": "code",
   "execution_count": null,
   "metadata": {},
   "outputs": [],
   "source": []
  }
 ],
 "metadata": {
  "kernelspec": {
   "display_name": "Python 3",
   "language": "python",
   "name": "python3"
  },
  "language_info": {
   "codemirror_mode": {
    "name": "ipython",
    "version": 3
   },
   "file_extension": ".py",
   "mimetype": "text/x-python",
   "name": "python",
   "nbconvert_exporter": "python",
   "pygments_lexer": "ipython3",
   "version": "3.8.3"
  }
 },
 "nbformat": 4,
 "nbformat_minor": 4
}
