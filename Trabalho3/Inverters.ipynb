{
 "cells": [
  {
   "cell_type": "markdown",
   "metadata": {},
   "source": [
    "# Inverters"
   ]
  },
  {
   "cell_type": "code",
   "execution_count": 1,
   "metadata": {},
   "outputs": [],
   "source": [
    "from z3 import *\n",
    "import numpy as np"
   ]
  },
  {
   "cell_type": "markdown",
   "metadata": {},
   "source": [
    "## Definição do sistema e da sua evolução temporal"
   ]
  },
  {
   "cell_type": "markdown",
   "metadata": {},
   "source": [
    "Vamos representar o nosso problema com um FOTS $\\; \\Sigma \\equiv \\langle \\mathcal{T},\\mathcal{M},\\mathbf{init},\\mathbf{trans}\\rangle\\;$. Seja $\\mathcal{I}$ o nosso conjunto de inversores.\n",
    "\n",
    " - $\\mathcal{T}$ é uma SMT de inteiros\n",
    "\n",
    " - O conjunto $\\mathcal{M} = \\{ (\\mathtt{in}_i, \\mathtt{out}_i) \\; | \\; i \\in \\mathcal{I} \\}$ representa o conjunto de entradas e saidas de cada inversor.\n",
    " \n",
    " - De forma a facilitar a notação, considere-se $\\rho_i$ o inversor a seguir ao inversor $i$\n",
    " \n",
    "A função $\\mathbf{init}$ pode ser descrita da seguinte forma:\n",
    "\n",
    "$$\\mathbf{init}(m) \\equiv \\bigwedge_{i \\in \\mathcal{I}} \\Big( \\big( \\mathtt{in}_i = 0 \\vee \\mathtt{in}_i = 1 \\big)\\wedge \\big(\\mathtt{out}_i = 0 \\vee \\mathtt{out}_i = 1 \\big) \\wedge \\mathtt{in}_{\\rho_i} = \\mathtt{out}_i \\Big)$$"
   ]
  },
  {
   "cell_type": "code",
   "execution_count": 2,
   "metadata": {},
   "outputs": [],
   "source": [
    "def declare(i, num_inv=4):\n",
    "    state = {j: {\"in\": Int(f\"in_s{i}_i{j}\"), \"out\": Int(f\"out_s{i}_i{j}\")} for j in range(num_inv)}\n",
    "    return state\n",
    "\n",
    "def init(state):\n",
    "    conds = []\n",
    "    for i in state:\n",
    "        conds.append(Or(state[i][\"in\"] == 0, state[i][\"in\"] == 1))\n",
    "        conds.append(Or(state[i][\"out\"] == 0, state[i][\"out\"] == 1))\n",
    "        conds.append(state[i][\"out\"] == state[(i+1)%len(state)][\"in\"])\n",
    "    \n",
    "    return And(conds)"
   ]
  },
  {
   "cell_type": "markdown",
   "metadata": {},
   "source": [
    "A função $\\mathbf{invert}$ define a evolução do output de um inversor, e tem a seguinte definição:\n",
    "\n",
    "$$\\mathbf{invert}(m,m',i) \\, \\equiv \\, \\mathtt{out}_i'=\\mathtt{out}_i \\, \\vee \\, \\mathtt{out}_i'= 1 - \\mathtt{in}_i$$\n",
    "\n",
    "Utilizando esta definição, podemos agora definir a função $\\mathbf{trans}(m,m')$:\n",
    "\n",
    "$$\\mathbf{trans}(m,m') \\, \\equiv \\, \\bigwedge_{i \\in \\mathcal{I}} \\big( \\mathtt{in}_{\\rho_i}' = \\mathtt{out}_i' \\wedge \\mathbf{invert}(m,m',i) \\big) $$"
   ]
  },
  {
   "cell_type": "code",
   "execution_count": 3,
   "metadata": {},
   "outputs": [],
   "source": [
    "def invert(inv_atual, inv_ant):\n",
    "    c1 = inv_atual[\"out\"] == inv_ant[\"out\"]\n",
    "    c2 = inv_atual[\"out\"] == 1 - inv_ant[\"in\"]\n",
    "    r = Or(c1, c2)\n",
    "    \n",
    "    return r  \n",
    "    \n",
    "def trans(sys_atual, sys_ant):\n",
    "    # Restrições da determinação do output de cada inversor\n",
    "    conds = []\n",
    "    for i in sys_atual:\n",
    "        conds.append(sys_atual[(i+1)%len(sys_atual)][\"in\"] == sys_atual[i][\"out\"])\n",
    "        conds.append(invert(sys_atual[i], sys_ant[i]))\n",
    "    \n",
    "    r = And(conds)\n",
    "    \n",
    "    return r"
   ]
  },
  {
   "cell_type": "markdown",
   "metadata": {},
   "source": [
    "Para visualizar a evolução temporal do sistema, foi criada a função $\\mathbf{time\\_evolution}$, que gera um traco $\\alpha$ de $k$ elementos do nosso sistema, definida da seguinte forma:\n",
    "\n",
    "$$ \\mathbf{time\\_evolution}(k) \\equiv \\mathbf{init}(\\alpha_0) \\wedge \\bigwedge_{0\\le i \\le k-1}\\mathbf{trans}(\\alpha_{i+1},\\alpha_i) $$\n",
    "\n",
    "Sendo $\\alpha_i$ o $i$-ésimo elemento do traco."
   ]
  },
  {
   "cell_type": "code",
   "execution_count": 4,
   "metadata": {},
   "outputs": [
    {
     "name": "stdout",
     "output_type": "stream",
     "text": [
      "0 [0, 1, 1, 1]\n",
      "1 [0, 1, 1, 1]\n",
      "2 [0, 1, 1, 0]\n",
      "3 [1, 1, 1, 0]\n",
      "4 [1, 1, 1, 0]\n",
      "5 [1, 0, 0, 0]\n",
      "6 [1, 0, 0, 0]\n",
      "7 [1, 0, 0, 1]\n",
      "8 [0, 0, 0, 1]\n",
      "9 [0, 1, 0, 1]\n"
     ]
    }
   ],
   "source": [
    "def time_evolution(declare, init, trans, k):\n",
    "    # Criar o solver e o traço de estados temporais\n",
    "    solver = Solver()\n",
    "    states = {i: declare(i) for i in range(k)}\n",
    "\n",
    "    # Inicializar o primeiro estado temporal\n",
    "    solver.add(init(states[0]))\n",
    "\n",
    "    # Fazer a transição de estados\n",
    "    for i in range(1, k):\n",
    "        solver.add(trans(states[i], states[i-1]))\n",
    "\n",
    "    if solver.check() == sat:\n",
    "        m = solver.model()\n",
    "        \n",
    "        output = {}\n",
    "        for i in range(k):\n",
    "            elems = [elem for elem in m if f\"_s{i}_\" in str(elem)]\n",
    "            output[i] = {str(elem): m[elem] for elem in elems if \"out\" in str(elem)}\n",
    "        \n",
    "        for k in output.keys():\n",
    "            keys = sorted(output[k].keys())\n",
    "            output[k] = [output[k][key] for key in keys]\n",
    "            print(k, output[k])\n",
    "            \n",
    "    return\n",
    "\n",
    "time_evolution(declare, init, trans, 10)"
   ]
  },
  {
   "cell_type": "markdown",
   "metadata": {},
   "source": [
    "### Provar que o programa não termina"
   ]
  },
  {
   "cell_type": "markdown",
   "metadata": {},
   "source": [
    "Para esta prova é utilizada $k$-indução e $k$-lookahead."
   ]
  },
  {
   "cell_type": "code",
   "execution_count": 5,
   "metadata": {},
   "outputs": [],
   "source": [
    "def kinduction_always(declare, init, trans, inv, k, prop=\"variant decrease\"):\n",
    "    solver = Solver()\n",
    "    trace = {i: declare(i) for i in range(k+1)}\n",
    "    solver.add(init(trace[0]))\n",
    "    \n",
    "    # Testar k casos de base\n",
    "    for i in range(k):\n",
    "        solver.add(trans(trace[i+1], trace[i]))\n",
    "    solver.add(Or([Not(inv(trace[i])) for i in range(k)]))\n",
    "    \n",
    "    # Impedir que estes terminem\n",
    "    for i in range(k-1):\n",
    "        solver.add(Not(Sum([trace[i][j][\"out\"] for j in trace[i]])==0))\n",
    "        \n",
    "    if solver.check() == sat:\n",
    "        print(f\"The {prop} breaks down in (at least) one of the initial states.\\n\")\n",
    "        m = solver.model()\n",
    "        \n",
    "        output = {}\n",
    "        for i in range(k):\n",
    "            elems = [elem for elem in m if f\"_s{i}_\" in str(elem)]\n",
    "            output[i] = {str(elem): m[elem] for elem in elems if \"out\" in str(elem)}\n",
    "        \n",
    "        for k in output.keys():\n",
    "            keys = sorted(output[k].keys())\n",
    "            output[k] = [output[k][key] for key in keys]\n",
    "            print(k, output[k])\n",
    "                \n",
    "        return\n",
    "    elif solver.check() != unsat:\n",
    "        return\n",
    "        \n",
    "    # Testar caso indutivo\n",
    "    solver = Solver()\n",
    "    solver.add(init(trace[0]))\n",
    "    for i in range(k):\n",
    "        solver.add(trans(trace[i+1], trace[i]))\n",
    "        solver.add(inv(trace[i]))\n",
    "    for i in range(k-1):\n",
    "        solver.add(Not(Sum([trace[i][j][\"out\"] for j in trace[i]])==0))    \n",
    "    solver.add(Not(inv(trace[k])))\n",
    "    \n",
    "    if solver.check() == sat:\n",
    "        print(f\"The {prop} fails in the inductive state.\\n\")\n",
    "        \n",
    "        m = solver.model()\n",
    "        \n",
    "        output = {}\n",
    "        for i in range(k):\n",
    "            elems = [elem for elem in m if f\"_s{i}_\" in str(elem)]\n",
    "            output[i] = {str(elem): m[elem] for elem in elems if \"out\" in str(elem)}\n",
    "        \n",
    "        for k in output.keys():\n",
    "            keys = sorted(output[k].keys())\n",
    "            output[k] = [output[k][key] for key in keys]\n",
    "            print(k, output[k])\n",
    "                \n",
    "        return\n",
    "    else:\n",
    "        print(f\"The {prop} holds.\")\n",
    "        \n",
    "        \n",
    "def klookahead(declare, init, trans, inv, k, l=2, prop=\"variant decrease\"):\n",
    "    solver = Solver()\n",
    "    trace = {i: declare(i) for i in range(k+1)}\n",
    "    solver.add(init(trace[0]))\n",
    "    \n",
    "    # Testar k casos de base\n",
    "    for i in range(k):\n",
    "        solver.add(trans(trace[i+1], trace[i]))\n",
    "    for i in range(k):\n",
    "        solver.add(Not(Sum([trace[i][j][\"out\"] for j in trace[i]])==0))\n",
    "    solver.add(Or([Not(inv(trace[i], l)) for i in range(k)]))\n",
    "        \n",
    "    if solver.check() == sat:\n",
    "        print(f\"The {prop} breaks down in (at least) one of the initial states.\\n\")       \n",
    "        return\n",
    "    elif solver.check() != unsat:\n",
    "        return\n",
    "        \n",
    "    # Testar caso indutivo\n",
    "    solver = Solver()\n",
    "    solver.add(init(trace[0]))\n",
    "    for i in range(k):\n",
    "        solver.add(trans(trace[i+1], trace[i]))\n",
    "        solver.add(inv(trace[i], l))\n",
    "    for i in range(k-1):\n",
    "        solver.add(Not(Sum([trace[i][j][\"out\"] for j in trace[i]])==0))\n",
    "    solver.add(Not(inv(trace[k], l)))\n",
    "    \n",
    "    if solver.check() == sat:\n",
    "        print(f\"The {prop} fails in the inductive state.\\n\")\n",
    "        return\n",
    "    else:\n",
    "        print(f\"The {prop} holds.\")"
   ]
  },
  {
   "cell_type": "markdown",
   "metadata": {},
   "source": [
    "É, então, definido um variante $V$, definido como a soma dos outputs de todos os inversores.\n",
    "\n",
    "$$ V \\equiv \\sum_{i \\in\\mathcal{I}} \\mathtt{out}_i $$\n",
    "\n",
    "Para provar que este programa não termina é necessário provar que o variante é sempre positivo, que decresce e que é util:\n",
    "\n",
    "- Positivo: Provar por $k$-indução que, para todos os elementos do traço \n",
    "\n",
    "$$ \\, \\sum_{i \\in\\mathcal{I}} \\mathtt{out}_i \\geq 0 $$\n",
    "\n",
    "- Descrescente: Provar por $k$-lookahead que, para dois elementos $i$ e $i+k$ do traço\n",
    "\n",
    "$$ V_{i+k} < V_{i} $$\n",
    "\n",
    "- Util: Provar por $k$-indução que, para todos os elementos do traço\n",
    "\n",
    "$$ V=0 \\rightarrow  \\bigwedge_{i\\in \\mathcal{I}}\\mathtt{out}_i = 0  $$"
   ]
  },
  {
   "cell_type": "code",
   "execution_count": 6,
   "metadata": {},
   "outputs": [
    {
     "name": "stdout",
     "output_type": "stream",
     "text": [
      "The positivity of the variant holds.\n",
      "The usefulness of the variant holds.\n"
     ]
    }
   ],
   "source": [
    "def variant(state):\n",
    "    return Sum([state[i][\"out\"] for i in state])\n",
    "\n",
    "def var_positive(state):\n",
    "    return variant(state) >= 0\n",
    "\n",
    "def var_decreases(state, l=2):\n",
    "    states = {i: declare(-i) for i in range(1, l+1)}\n",
    "    \n",
    "    conds = [trans(states[1], state)]\n",
    "    for i in range(1, l):\n",
    "        conds += [trans(states[i+1], states[i])]\n",
    "        \n",
    "    c1 = And(conds)\n",
    "    c2 = Or(variant(states[l])<variant(state), variant(states[l])==0)\n",
    "    \n",
    "    lista = []\n",
    "    for i in state:\n",
    "        lista.append(state[i][\"out\"])\n",
    "        lista.append(state[i][\"in\"])\n",
    "    \n",
    "    r = ForAll(lista, Implies(c1, c2))  \n",
    "    return r\n",
    "\n",
    "def var_useful(state):\n",
    "    return Implies(variant(state)==0, And([state[i][\"out\"]==0 for i in state]))\n",
    "\n",
    "kinduction_always(declare, init, trans, var_positive, 1, \"positivity of the variant\")\n",
    "kinduction_always(declare, init, trans, var_useful, 1, \"usefulness of the variant\")"
   ]
  },
  {
   "cell_type": "code",
   "execution_count": 37,
   "metadata": {},
   "outputs": [
    {
     "name": "stdout",
     "output_type": "stream",
     "text": [
      "The variant decrease breaks down in (at least) one of the initial states.\n",
      "\n",
      "The variant decrease breaks down in (at least) one of the initial states.\n",
      "\n",
      "The variant decrease breaks down in (at least) one of the initial states.\n",
      "\n",
      "The variant decrease breaks down in (at least) one of the initial states.\n",
      "\n",
      "The variant decrease breaks down in (at least) one of the initial states.\n",
      "\n",
      "The variant decrease breaks down in (at least) one of the initial states.\n",
      "\n",
      "The variant decrease breaks down in (at least) one of the initial states.\n",
      "\n",
      "The variant decrease breaks down in (at least) one of the initial states.\n",
      "\n",
      "The variant decrease breaks down in (at least) one of the initial states.\n",
      "\n",
      "The variant decrease breaks down in (at least) one of the initial states.\n",
      "\n",
      "The variant decrease breaks down in (at least) one of the initial states.\n",
      "\n",
      "The variant decrease breaks down in (at least) one of the initial states.\n",
      "\n",
      "The variant decrease breaks down in (at least) one of the initial states.\n",
      "\n",
      "The variant decrease breaks down in (at least) one of the initial states.\n",
      "\n",
      "The variant decrease breaks down in (at least) one of the initial states.\n",
      "\n",
      "The variant decrease breaks down in (at least) one of the initial states.\n",
      "\n",
      "The variant decrease breaks down in (at least) one of the initial states.\n",
      "\n",
      "The variant decrease breaks down in (at least) one of the initial states.\n",
      "\n",
      "The variant decrease breaks down in (at least) one of the initial states.\n",
      "\n"
     ]
    }
   ],
   "source": [
    "for l in range(1, 20):\n",
    "    klookahead(declare, init, trans, var_decreases, 1, l)"
   ]
  },
  {
   "cell_type": "markdown",
   "metadata": {},
   "source": [
    "### Provar os estados iniciais para os quais o programa termina"
   ]
  },
  {
   "cell_type": "markdown",
   "metadata": {},
   "source": [
    "De forma a determinar os estados iniciais que permitem o término do programa, foi criada a função $\\mathbf{possible\\_states}$, definida da seguinte forma:\n",
    "\n",
    "$$ \\mathbf{possible\\_states}(k) \\equiv \\mathbf{init}(\\alpha_0) \\wedge \\bigwedge_{0\\le i \\le k-1}\\mathbf{trans}(\\alpha_{i+1},\\alpha_i) \\wedge \\bigvee_{0\\le i \\le k} \\mathbf{variant}(\\alpha_i)=0 $$\n"
   ]
  },
  {
   "cell_type": "code",
   "execution_count": 38,
   "metadata": {},
   "outputs": [
    {
     "name": "stdout",
     "output_type": "stream",
     "text": [
      "Possible starting state: [0, 0, 0, 0]\n",
      "Possible starting state: [1, 1, 1, 1]\n"
     ]
    }
   ],
   "source": [
    "def possible_states(declare, init, trans, k):\n",
    "    solver = Solver()\n",
    "    trace = {i: declare(i) for i in range(k)}\n",
    "    solver.add(init(trace[0]))\n",
    "    \n",
    "    for i in range(k-1):\n",
    "        solver.add(trans(trace[i+1], trace[i]))\n",
    "    solver.add(Or([variant(trace[i])==0 for i in range(k)]))\n",
    "        \n",
    "    while solver.check() == sat:\n",
    "        m = solver.model()\n",
    "        \n",
    "        outputs, inputs = [], []\n",
    "        for i in trace[0]:\n",
    "            outputs.append([m[elem] for elem in m if f\"out_s0_i{i}\" in str(elem)][0])\n",
    "            inputs.append([m[elem] for elem in m if f\"in_s0_i{i}\" in str(elem)][0])\n",
    "        \n",
    "        print(f\"Possible starting state: {outputs}\")\n",
    "            \n",
    "        for i in trace[0]:\n",
    "            solver.add(trace[0][i][\"out\"] != outputs[i])\n",
    "            solver.add(trace[0][i][\"in\"] != inputs[i])\n",
    "                \n",
    "    return\n",
    "    \n",
    "possible_states(declare, init, trans, 100)"
   ]
  }
 ],
 "metadata": {
  "kernelspec": {
   "display_name": "Python 3",
   "language": "python",
   "name": "python3"
  },
  "language_info": {
   "codemirror_mode": {
    "name": "ipython",
    "version": 3
   },
   "file_extension": ".py",
   "mimetype": "text/x-python",
   "name": "python",
   "nbconvert_exporter": "python",
   "pygments_lexer": "ipython3",
   "version": "3.8.3"
  }
 },
 "nbformat": 4,
 "nbformat_minor": 4
}
