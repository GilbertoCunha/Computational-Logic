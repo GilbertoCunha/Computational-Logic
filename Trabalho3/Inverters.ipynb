{
 "cells": [
  {
   "cell_type": "markdown",
   "metadata": {},
   "source": [
    "# Inversores"
   ]
  },
  {
   "cell_type": "code",
   "execution_count": 32,
   "metadata": {},
   "outputs": [],
   "source": [
    "from z3 import *\n",
    "import numpy as np"
   ]
  },
  {
   "cell_type": "raw",
   "metadata": {},
   "source": [
    "states = {i: System(...) for i in range(k)}\n",
    "s.add(states[0].initsystem()) # Restrições Z3 para inicialização do estado dos inversores\n",
    "\n",
    "for i in range(1, k):\n",
    "    s.add(trans(states[i-1], states[i])) # Restrições Z3 para determinar próximos\n",
    "                                         # estados temporais"
   ]
  },
  {
   "cell_type": "code",
   "execution_count": 43,
   "metadata": {},
   "outputs": [],
   "source": [
    "class Inverter:\n",
    "    def __init__(self, sys_id, inv_id):\n",
    "        self.input = Int(f\"in_s{sys_id}_i{inv_id}\")\n",
    "        self.out = Int(f\"out_s{sys_id}_i{inv_id}\")\n",
    "        \n",
    "    def initstate(self):\n",
    "        # Condição inicialização do estado\n",
    "        r = self.out == np.random.randint(2)\n",
    "        \n",
    "        return r\n",
    "\n",
    "class System:\n",
    "    def __init__(self, sys_id, num_inv=4):\n",
    "        self.invlist = [Inverter(sys_id, i) for i in range(num_inv)]\n",
    "        \n",
    "    def initsystem(self):\n",
    "        # Adicionar condições das variáveis \"state\" e \"out\" dos inversores\n",
    "        c1 = And([inv.initstate() for inv in self.invlist])\n",
    "        \n",
    "        # Adicionar condições das variáveis \"in\" dos inversores\n",
    "        c2 = And([self.invlist[i].input == self.invlist[i-1].out for i in range(len(self.invlist))])\n",
    "        \n",
    "        # Juntar as duas condições anteriores\n",
    "        r = And(c1, c2)\n",
    "        \n",
    "        return r\n",
    "    \n",
    "\n",
    "def invert(inv_atual, inv_ant):\n",
    "    c1 = inv_atual.out == inv_ant.out\n",
    "    c2 = inv_atual.out == 1 - inv_ant.input\n",
    "    r = Or(c1, c2)\n",
    "    \n",
    "    return r\n",
    "    \n",
    "    \n",
    "def trans(sys_atual, sys_ant):\n",
    "    # Restrições da determinação do output de cada inversor\n",
    "    conds = [sys_atual.invlist[i].input == sys_atual.invlist[i-1].out for i in range(len(sys_atual.invlist))]\n",
    "    for inv_atual, inv_ant in zip(sys_atual.invlist, sys_ant.invlist):\n",
    "        conds.append(invert(inv_atual, inv_ant))\n",
    "    \n",
    "    r = And(conds)\n",
    "    \n",
    "    return r\n",
    "\n",
    "\n",
    "def has_ended(sys):\n",
    "    # Verificar se todos os inversores estão a zero (sistema termina)\n",
    "    r = And([inv.out == 0 for inv in sys.invlist])\n",
    "    return r"
   ]
  },
  {
   "cell_type": "code",
   "execution_count": 44,
   "metadata": {},
   "outputs": [],
   "source": [
    "def eventually_ends(K):\n",
    "    r = False\n",
    "\n",
    "    for k in range(1, K+1):\n",
    "        # Criar o solver e o traço de estados temporais\n",
    "        solver = Solver()\n",
    "        states = {i: System(i) for i in range(k)}\n",
    "\n",
    "        # Inicializar o primeiro estado temporal\n",
    "        solver.add(states[0].initsystem())\n",
    "\n",
    "        # Fazer a transição de estados\n",
    "        for i in range(1, k):\n",
    "            solver.add(trans(states[i], states[i-1]))\n",
    "\n",
    "        for s in states:\n",
    "            solver.add(Not(has_ended(states[s])))\n",
    "\n",
    "        #if solver.check() == sat:\n",
    "        #    print(\"The system does not end\")\n",
    "        #    m = solver.model()\n",
    "        #    print(m)\n",
    "        #else:\n",
    "        if solver.check() == unsat:\n",
    "            r = True\n",
    "            break\n",
    "            \n",
    "    return r"
   ]
  },
  {
   "cell_type": "code",
   "execution_count": 49,
   "metadata": {},
   "outputs": [
    {
     "data": {
      "text/plain": [
       "False"
      ]
     },
     "execution_count": 49,
     "metadata": {},
     "output_type": "execute_result"
    }
   ],
   "source": [
    "eventually_ends(10)"
   ]
  },
  {
   "cell_type": "code",
   "execution_count": null,
   "metadata": {},
   "outputs": [],
   "source": []
  }
 ],
 "metadata": {
  "kernelspec": {
   "display_name": "Python 3",
   "language": "python",
   "name": "python3"
  },
  "language_info": {
   "codemirror_mode": {
    "name": "ipython",
    "version": 3
   },
   "file_extension": ".py",
   "mimetype": "text/x-python",
   "name": "python",
   "nbconvert_exporter": "python",
   "pygments_lexer": "ipython3",
   "version": "3.8.3"
  }
 },
 "nbformat": 4,
 "nbformat_minor": 4
}
