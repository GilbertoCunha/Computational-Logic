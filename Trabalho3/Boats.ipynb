{
 "cells": [
  {
   "cell_type": "markdown",
   "metadata": {},
   "source": [
    "# Controlo da rota de 3 navios num lago infinito"
   ]
  },
  {
   "cell_type": "code",
   "execution_count": 2,
   "metadata": {},
   "outputs": [],
   "source": [
    "from z3 import *\n",
    "import numpy as np\n",
    "from math import cos, sin"
   ]
  },
  {
   "cell_type": "code",
   "execution_count": null,
   "metadata": {},
   "outputs": [],
   "source": [
    "VEL_INIT, VEL_HIGH, VEL_LOW = 0, 10, 1 # velocidade em m/s\n",
    "THETA = 15 # angulo de viragem em graus\n",
    "TAU = 0.01 # intervalo de tempo entre estados temporais consecutivos em s\n",
    "\n",
    "GAUSS_DP = 80 # desvio padrao da gaussiana da inicializacao da posicao em m"
   ]
  },
  {
   "cell_type": "code",
   "execution_count": null,
   "metadata": {},
   "outputs": [],
   "source": [
    "def declare_boat(boat_id):\n",
    "    \"\"\"\n",
    "    A velocidade do state determina qual o seu modo:\n",
    "        - INIT: vel = VEL_INIT\n",
    "        - SAFE: vel = VEL_HIGH\n",
    "        - IMMINENT COLLISION: vel = VEL_LOW\n",
    "    \"\"\"\n",
    "    \n",
    "    state = {\n",
    "        \"vel\": Int(f\"b{boat_id}_v\"),\n",
    "        \"pos\": {\"x\": Real(f\"b{boat_id}_x\"), \"y\": Real(f\"b{boat_id}_y\")},\n",
    "        \"ang\": Int(f\"b{boat_id}_a\"),\n",
    "        \"time\": Real(f\"b{boat_id}_t\")\n",
    "    }\n",
    "    \n",
    "    return state\n",
    "\n",
    "\n",
    "def init_boat(state):\n",
    "    # cond_a = Or([state[\"ang\"] == i*THETA for i in range(360/15)])\n",
    "    \n",
    "    # Randomly defined angle\n",
    "    random_angle = np.random.shuffle([i*THETA for i in range(360/15)])[0]\n",
    "    cond_a = state[\"ang\"] == random_angle\n",
    "    \n",
    "    # Randomly defined position according to gaussian\n",
    "    cond_x = state[\"pos\"][\"x\"] == GAUSS_DP * np.random.randn()\n",
    "    cond_y = state[\"pos\"][\"y\"] == GAUSS_DP * np.random.randn()\n",
    "    \n",
    "    # Deterministic initial definitions\n",
    "    cond_v = state[\"vel\"] == VEL_INIT\n",
    "    cond_t = state[\"time\"] == 0\n",
    "    \n",
    "    return And(cond_a, cond_v, cond_t)\n",
    "\n",
    "\n",
    "def untimed_to_imminent(state):\n",
    "    return state[\"vel\"] == VEL_LOW\n",
    "\n",
    "\n",
    "def untimed_to_safe(state):\n",
    "    return state[\"vel\"] == VEL_HIGH\n",
    "\n",
    "\n",
    "def timed_safe(state_ant, state_atual):\n",
    "    # Definir evolucao do tempo\n",
    "    cond_t = state_atual[\"time\"] == state_ant[\"time\"] + TAU\n",
    "    \n",
    "    # Definir evolucao da abcissa\n",
    "    dx = state_ant[\"vel\"] * cos(state_ant[\"ang\"]) * TAU\n",
    "    cond_x = state_atual[\"pos\"][\"x\"] == state_ant[\"pos\"][\"x\"] + dx\n",
    "    \n",
    "    # Definir evolucao da ordenada\n",
    "    dy = state_ant[\"vel\"] * sin(state_ant[\"ang\"]) * TAU\n",
    "    cond_y = state_atual[\"pos\"][\"y\"] == state_ant[\"pos\"][\"y\"] + dy\n",
    "    \n",
    "    return And(cond_t, cond_x, cond_y)\n",
    "\n",
    "\n",
    "def timed_imminent(state_ant, state_atual):\n",
    "    # Definir evolucao do tempo\n",
    "    cond_t = state_atual[\"time\"] == state_ant[\"time\"] + TAU\n",
    "    \n",
    "    # Definir evolucao da abcissa\n",
    "    dx = state_ant[\"vel\"] * cos(state_ant[\"ang\"]) * TAU\n",
    "    cond_x = state_atual[\"pos\"][\"x\"] == state_ant[\"pos\"][\"x\"] + dx\n",
    "    \n",
    "    # Definir evolucao da ordenada\n",
    "    dy = state_ant[\"vel\"] * sin(state_ant[\"ang\"]) * TAU\n",
    "    cond_y = state_atual[\"pos\"][\"y\"] == state_ant[\"pos\"][\"y\"] + dy\n",
    "    \n",
    "    # Definir evolucao da rota\n",
    "    theta_pos = state_atual[\"ang\"] == state_ant[\"ang\"] + THETA\n",
    "    theta_neg = state_atual[\"ang\"] == state_ant[\"ang\"] - THETA\n",
    "    cond_a = Or(theta_pos, theta_neg)\n",
    "    \n",
    "    return And(cond_t, cond_x, cond_y, cond_a)\n",
    "\n",
    "\n",
    "def imminent_collision():\n",
    "    "
   ]
  }
 ],
 "metadata": {
  "kernelspec": {
   "display_name": "Python 3",
   "language": "python",
   "name": "python3"
  },
  "language_info": {
   "codemirror_mode": {
    "name": "ipython",
    "version": 3
   },
   "file_extension": ".py",
   "mimetype": "text/x-python",
   "name": "python",
   "nbconvert_exporter": "python",
   "pygments_lexer": "ipython3",
   "version": "3.8.6"
  }
 },
 "nbformat": 4,
 "nbformat_minor": 4
}
