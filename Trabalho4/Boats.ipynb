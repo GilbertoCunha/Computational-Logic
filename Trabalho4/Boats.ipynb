{
 "cells": [
  {
   "cell_type": "code",
   "execution_count": 1,
   "metadata": {},
   "outputs": [],
   "source": [
    "from z3 import *"
   ]
  },
  {
   "cell_type": "code",
   "execution_count": null,
   "metadata": {},
   "outputs": [],
   "source": [
    "V_STOP, V_LOW, V_HIGH = 0, 1, 10 # velocidades dos modos baixo e alto, em m\n",
    "THETA = 15 # angulo de viragem entre modos\n",
    "TAU = 3 # tempo minimo entre transicoes timed\n",
    "ALL_ROUTES = [i*THETA for i in range(int(360/THETA))] # todos os ângulos possíveis\n",
    "ALL_VELS = [V_STOP, V_LOW, V_HIGH] # todas as velocidades possiveis\n",
    "\n",
    "GAUSS_DP = 300 # desvio padrão da gaussiana de inicialização das posições em m\n",
    "\n",
    "Mode, (M_STOP, M_LOW, M_HIGH) = EnumSort(\"Mode\", (\"V_STOP\", \"V_LOW\", \"V_HIGH\"))"
   ]
  },
  {
   "cell_type": "code",
   "execution_count": null,
   "metadata": {},
   "outputs": [],
   "source": [
    "def declare(i, num_boats=3):\n",
    "    trace = {}\n",
    "    for j in range(num_boats):\n",
    "        trace[f\"b{j}\"] = {}\n",
    "        trace[f\"b{j}\"][\"v\"] = Const(f\"b{j}_v{i}\", Mode)\n",
    "        trace[f\"b{j}\"][\"a\"] = Int(f\"b{j}_a{i}\")\n",
    "        trace[f\"b{j}\"][\"sx\"] = Int(f\"b{j}_sx{i}\")\n",
    "        trace[f\"b{j}\"][\"sy\"] = Int(f\"b{j}_sy{i}\")\n",
    "        trace[f\"b{j}\"][\"x\"] = Real(f\"b{j}_x{i}\")\n",
    "        trace[f\"b{j}\"][\"y\"] = Real(f\"b{j}_y{i}\")\n",
    "        trace[f\"b{j}\"][\"t\"] = Real(f\"b{j}_t{i}\")"
   ]
  }
 ],
 "metadata": {
  "kernelspec": {
   "display_name": "Python 3",
   "language": "python",
   "name": "python3"
  },
  "language_info": {
   "codemirror_mode": {
    "name": "ipython",
    "version": 3
   },
   "file_extension": ".py",
   "mimetype": "text/x-python",
   "name": "python",
   "nbconvert_exporter": "python",
   "pygments_lexer": "ipython3",
   "version": "3.8.3"
  }
 },
 "nbformat": 4,
 "nbformat_minor": 4
}
