{
 "cells": [
  {
   "cell_type": "code",
   "execution_count": 1,
   "metadata": {},
   "outputs": [],
   "source": [
    "from IPython.display import display_html\n",
    "from itertools import product\n",
    "from math import sin, cos\n",
    "import pandas as pd\n",
    "import numpy as np\n",
    "from z3 import *"
   ]
  },
  {
   "cell_type": "code",
   "execution_count": 2,
   "metadata": {},
   "outputs": [],
   "source": [
    "V_STOP, V_LOW, V_HIGH = 0, 1, 10 # velocidades dos modos baixo e alto, em m\n",
    "L = 1e3 # Lado dos setores em m\n",
    "N = 10 # Numero de setores\n",
    "THETA = 15 # angulo de viragem entre modos\n",
    "TAU = 3 # tempo minimo entre transicoes timed\n",
    "ALL_ROUTES = [i*THETA for i in range(int(360/THETA))] # todos os ângulos possíveis\n",
    "ALL_VELS = [V_STOP, V_LOW, V_HIGH] # todas as velocidades possiveis\n",
    "\n",
    "Mode, (M_STOP, M_LOW, M_HIGH) = EnumSort(\"Mode\", (\"V_STOP\", \"V_LOW\", \"V_HIGH\"))"
   ]
  },
  {
   "cell_type": "code",
   "execution_count": 3,
   "metadata": {},
   "outputs": [],
   "source": [
    "deg_to_rad = lambda a: a * np.pi / 180\n",
    "vel_to_mode = lambda v: M_LOW if (v == V_LOW) else M_HIGH if (v == V_HIGH) else M_STOP\n",
    "mode_to_vel = lambda m: V_LOW if (m == M_LOW) else V_HIGH if (m == M_HIGH) else V_STOP\n",
    "z3tofloat = lambda v: float(v.numerator_as_long())/float(v.denominator_as_long())"
   ]
  },
  {
   "cell_type": "markdown",
   "metadata": {},
   "source": [
    "Considere-se um lago com $N \\times N$ setores, cada um de lado $L$. Podemos descrever um conjunto de barcos $\\mathcal{B}$ e o controlador através de um FOTS. Cada barco pode tomar um conjunto de rotas $\\mathcal{R} = \\{ 15, 30, \\dots, 345 \\}$ e um conjunto de velocidades $\\mathcal{V} = \\{\\mathtt{stop}, \\mathtt{low}, \\mathtt{high}\\}$\n",
    "\n",
    "Sejam $\\tilde{b} \\in \\mathcal{B}$ um barco aleatório e $\\tilde{\\varphi} \\in \\mathcal{R}$, $0 \\le \\tilde{\\mathtt{sx}} < N$ e $0 \\le \\tilde{\\mathtt{sy}} < N$ inteiros com valores aleatórios. Podemos então definir a inicialização do traço:\n",
    "\n",
    "$$ \\mathtt{init}(\\alpha) \\; \\equiv \\; \\forall_{b \\in \\mathcal{B}} \\; \\big( v_b = \\mathtt{high} \\; \\wedge \\; \\varphi_b = \\tilde{\\varphi} \\; \\wedge \\; \\mathtt{sx}_b = \\tilde{\\mathtt{sx}} \\; \\wedge \\; \\mathtt{sy}_b = \\tilde{\\mathtt{sy}} \\; \\wedge \\; L \\cdot \\mathtt{sx}_b \\le x_b \\le L \\cdot (\\mathtt{sx}_b+1) \\; \\wedge \\; L \\cdot \\mathtt{sy}_b \\le y_b \\le L \\cdot (\\mathtt{sy}_b+1) \\; \\wedge \\; t_b = 0 \\big) \\; \\wedge \\; v_c = v_{\\tilde{b}} \\; \\wedge \\; \\varphi_c = \\varphi_{\\tilde{b}} \\; \\wedge \\; \\mathtt{sx}_c = \\mathtt{sx}_{\\tilde{b}} \\; \\wedge \\; \\mathtt{sy}_c = \\mathtt{sy}_{\\tilde{b}}$$"
   ]
  },
  {
   "cell_type": "code",
   "execution_count": 4,
   "metadata": {},
   "outputs": [],
   "source": [
    "def declare(i, num_boats=3):\n",
    "    trace = {}\n",
    "    for j in range(num_boats):\n",
    "        trace[f\"b{j}\"] = {}\n",
    "        trace[f\"b{j}\"][\"v\"] = Const(f\"b{j}_v{i}\", Mode)\n",
    "        trace[f\"b{j}\"][\"a\"] = Int(f\"b{j}_a{i}\")\n",
    "        trace[f\"b{j}\"][\"sx\"] = Int(f\"b{j}_sx{i}\")\n",
    "        trace[f\"b{j}\"][\"sy\"] = Int(f\"b{j}_sy{i}\")\n",
    "        trace[f\"b{j}\"][\"x\"] = Real(f\"b{j}_x{i}\")\n",
    "        trace[f\"b{j}\"][\"y\"] = Real(f\"b{j}_y{i}\")\n",
    "        trace[f\"b{j}\"][\"t\"] = Real(f\"b{j}_t{i}\")\n",
    "        \n",
    "    trace[\"c\"] = {}\n",
    "    trace[\"c\"][\"v\"] = Const(f\"c_v{i}\", Mode)\n",
    "    trace[\"c\"][\"a\"] = Int(f\"c_a{i}\")\n",
    "    trace[\"c\"][\"sx\"] = Int(f\"c_sx{i}\")\n",
    "    trace[\"c\"][\"sy\"] = Int(f\"c_sy{i}\")\n",
    "    \n",
    "    return trace\n",
    "        \n",
    "        \n",
    "def init(trace):\n",
    "    r = []\n",
    "    for b in trace:\n",
    "        if \"b\" in b:\n",
    "            # Inicializar cada um dos barcos\n",
    "            r.append(trace[b][\"v\"] == M_HIGH)\n",
    "            index = np.random.randint(len(ALL_ROUTES))\n",
    "            r.append(trace[b][\"a\"] == ALL_ROUTES[index])\n",
    "            # r.append(trace[b][\"sx\"] == np.random.randint(N))\n",
    "            # r.append(trace[b][\"sy\"] == np.random.randint(N))\n",
    "            r.append(And(trace[b][\"x\"] >= L*trace[b][\"sx\"], trace[b][\"x\"] <= L*(trace[b][\"sx\"]+1)))\n",
    "            r.append(And(trace[b][\"y\"] >= L*trace[b][\"sy\"], trace[b][\"y\"] <= L*(trace[b][\"sy\"]+1)))\n",
    "            r.append(trace[b][\"t\"] == 0)\n",
    "            \n",
    "    r.append(trace[\"b0\"][\"sx\"] == 1)\n",
    "    r.append(trace[\"b0\"][\"sy\"] == 1)\n",
    "    r.append(trace[\"b1\"][\"sx\"] == 3)\n",
    "    r.append(trace[\"b1\"][\"sy\"] == 1)\n",
    "    r.append(trace[\"b2\"][\"sx\"] == 4)\n",
    "    r.append(trace[\"b2\"][\"sy\"] == 2)\n",
    "            \n",
    "    # Inicializar o controlador com o estado um barco aleatório\n",
    "    index = np.random.randint(len(trace)-1)\n",
    "    r.append(trace[\"c\"][\"v\"] == trace[f\"b{index}\"][\"v\"])\n",
    "    r.append(trace[\"c\"][\"a\"] == trace[f\"b{index}\"][\"a\"])\n",
    "    r.append(trace[\"c\"][\"sx\"] == trace[f\"b{index}\"][\"sx\"])\n",
    "    r.append(trace[\"c\"][\"sy\"] == trace[f\"b{index}\"][\"sy\"])\n",
    "            \n",
    "    return And(r)"
   ]
  },
  {
   "cell_type": "markdown",
   "metadata": {},
   "source": [
    "## Transições das variáveis contínuas"
   ]
  },
  {
   "cell_type": "markdown",
   "metadata": {},
   "source": [
    "Dado dois traços $\\alpha$ e $\\alpha'$ e um barco $b \\in \\mathcal{B}$ podemos definir a atualização da sua posição:\n",
    "\n",
    "$$ \\mathtt{updt\\_pos}(\\alpha, \\alpha', b) \\; \\equiv \\; \\forall_{v \\in \\mathcal{V}, \\varphi \\in \\mathcal{R}}, \\; v_b = v \\; \\wedge \\; \\varphi_b = \\varphi \\; \\wedge \\; x' = x + v \\cdot \\cos \\varphi \\cdot (t'-t) \\; \\wedge \\; y' = y + v \\cdot \\sin \\varphi \\cdot (t'-t) $$\n",
    "\n",
    "Tendo em conta que há três velocidades distintas para cada barco, temos de ter em conta todas as transições $\\mathtt{high} \\leftrightarrow \\mathtt{low}$ e $\\mathtt{low} \\leftrightarrow \\mathtt{stop}$, bem como as transições onde a velocidade fica inalterada:\n",
    "\n",
    "$$ \\mathtt{high\\_high}(\\alpha, \\alpha', b) \\; \\equiv \\; v_b = \\mathtt{high} \\; \\wedge \\; v_b' = \\mathtt{high} \\; \\wedge \\; t' > t \\; \\wedge \\; \\mathtt{update\\_pos}(\\alpha, \\alpha', b) $$\n",
    "\n",
    "$$ \\mathtt{high\\_low}(\\alpha, \\alpha', b) \\; \\equiv \\; v_b = \\mathtt{high} \\; \\wedge \\; v_b' = \\mathtt{low} \\; \\wedge \\; t' = t + 500 \\; \\wedge \\; \\mathtt{update\\_pos}(\\alpha, \\alpha', b) $$\n",
    "\n",
    "$$ \\mathtt{low\\_high}(\\alpha, \\alpha', b) \\; \\equiv \\; v_b = \\mathtt{low} \\; \\wedge \\; v_b' = \\mathtt{high} \\; \\wedge \\; t' = t + 500 \\; \\wedge \\;\\mathtt{update\\_pos}(\\alpha, \\alpha', b) $$\n",
    "\n",
    "$$ \\mathtt{low\\_low}(\\alpha, \\alpha', b) \\; \\equiv \\; v_b = \\mathtt{low} \\; \\wedge \\; v_b' = \\mathtt{low} \\; \\wedge \\; t' > t \\; \\wedge \\; \\mathtt{update\\_pos}(\\alpha, \\alpha', b) $$\n",
    "\n",
    "$$ \\mathtt{low\\_stop}(\\alpha, \\alpha', b) \\; \\equiv \\; v_b = \\mathtt{low} \\; \\wedge \\; v_b' = \\mathtt{stop} \\; \\wedge \\; t' = t + 50 \\; \\wedge \\; \\mathtt{update\\_pos}(\\alpha, \\alpha', b) $$\n",
    "\n",
    "$$ \\mathtt{stop\\_low}(\\alpha, \\alpha', b) \\; \\equiv \\; v_b = \\mathtt{stop} \\; \\wedge \\; v_b' = \\mathtt{low} \\; \\wedge \\; t' = t + 50 \\; \\wedge \\; \\mathtt{update\\_pos}(\\alpha, \\alpha', b) $$\n",
    "\n",
    "$$ \\mathtt{stop\\_stop}(\\alpha, \\alpha', b) \\; \\equiv \\; v_b = \\mathtt{stop} \\; \\wedge \\; v_b' = \\mathtt{stop} \\; \\wedge \\; t' > t \\; \\wedge \\; \\mathtt{update\\_pos}(\\alpha, \\alpha', b) $$"
   ]
  },
  {
   "cell_type": "markdown",
   "metadata": {},
   "source": [
    "Assim sendo, todas as mudanças de velocidade bem como posição e tempo de cada barco pode ser definida pela disjunção destas transições:\n",
    "\n",
    "$$ \\mathtt{vel\\_trans}(\\alpha, \\alpha', b) = \\mathtt{high\\_high}(\\alpha, \\alpha', b) \\; \\vee \\; \\mathtt{high\\_low}(\\alpha, \\alpha', b) \\; \\vee \\; \\mathtt{low\\_high}(\\alpha, \\alpha', b) \\; \\vee \\; \\mathtt{low\\_low}(\\alpha, \\alpha', b) \\; \\vee \\; \\mathtt{low\\_stop}(\\alpha, \\alpha', b) \\; \\vee \\; \\mathtt{stop\\_low}(\\alpha, \\alpha', b) \\; \\vee \\; \\mathtt{stop\\_stop}(\\alpha, \\alpha', b) $$"
   ]
  },
  {
   "cell_type": "code",
   "execution_count": 5,
   "metadata": {},
   "outputs": [],
   "source": [
    "def update_pos(prev, curr, b):\n",
    "    r = []\n",
    "    modes = list(product(*[ALL_ROUTES, ALL_VELS]))\n",
    "    \n",
    "    for a, v in modes:\n",
    "        vel = prev[b][\"v\"] == vel_to_mode(v)\n",
    "        ang = prev[b][\"a\"] == a\n",
    "        x = curr[b][\"x\"] == prev[b][\"x\"] + v * cos(deg_to_rad(a)) * (curr[b][\"t\"]-prev[b][\"t\"])\n",
    "        y = curr[b][\"y\"] == prev[b][\"y\"] + v * sin(deg_to_rad(a)) * (curr[b][\"t\"]-prev[b][\"t\"])\n",
    "        r.append(And(x, y, ang, vel))\n",
    "    \n",
    "    return Or(r)\n",
    "\n",
    "def high_high(prev, curr, b):\n",
    "    r = []\n",
    "    \n",
    "    r.append(And(prev[b][\"v\"] == M_HIGH, curr[b][\"v\"] == M_HIGH))\n",
    "    r.append(curr[b][\"t\"] > prev[b][\"t\"])\n",
    "    r.append(update_pos(prev, curr, b))\n",
    "    \n",
    "    return And(r)\n",
    "\n",
    "def high_low(prev, curr, b):\n",
    "    r = []\n",
    "    \n",
    "    # TODO: adicionar resticoes a rota\n",
    "    r.append(And(prev[b][\"v\"] == M_HIGH, curr[b][\"v\"] == M_LOW))\n",
    "    r.append(curr[b][\"t\"] == prev[b][\"t\"] + 500)\n",
    "    r.append(update_pos(prev, curr, b))\n",
    "    \n",
    "    return And(r)\n",
    "    \n",
    "def low_high(prev, curr, b):\n",
    "    r = []\n",
    "    \n",
    "    # TODO: adicionar resticoes a rota\n",
    "    r.append(And(prev[b][\"v\"] == M_LOW, curr[b][\"v\"] == M_HIGH))\n",
    "    r.append(curr[b][\"t\"] == prev[b][\"t\"] + 500)\n",
    "    r.append(update_pos(prev, curr, b))\n",
    "    \n",
    "    return And(r)\n",
    "\n",
    "def low_low(prev, curr, b):\n",
    "    r = []\n",
    "    \n",
    "    r.append(And(prev[b][\"v\"] == M_LOW, curr[b][\"v\"] == M_LOW))\n",
    "    r.append(curr[b][\"t\"] > prev[b][\"t\"])\n",
    "    r.append(update_pos(prev, curr, b))\n",
    "    \n",
    "    return And(r)\n",
    "    \n",
    "def low_stop(prev, curr, b):\n",
    "    r = []\n",
    "    \n",
    "    # TODO: adicionar resticoes a rota\n",
    "    r.append(And(prev[b][\"v\"] == M_LOW, curr[b][\"v\"] == M_STOP))\n",
    "    r.append(curr[b][\"t\"] == prev[b][\"t\"] + 50)\n",
    "    r.append(update_pos(prev, curr, b))\n",
    "    \n",
    "    return And(r)\n",
    "    \n",
    "def stop_low(prev, curr, b):\n",
    "    r = []\n",
    "    \n",
    "    # TODO: adicionar resticoes a rota\n",
    "    r.append(And(prev[b][\"v\"] == M_STOP, curr[b][\"v\"] == M_LOW))\n",
    "    r.append(curr[b][\"t\"] == prev[b][\"t\"] + 50)\n",
    "    r.append(update_pos(prev, curr, b))\n",
    "    \n",
    "    return And(r)\n",
    "\n",
    "def stop_stop(prev, curr, b):\n",
    "    r = []\n",
    "    \n",
    "    r.append(And(prev[b][\"v\"] == M_STOP, curr[b][\"v\"] == M_STOP))\n",
    "    r.append(curr[b][\"t\"] > prev[b][\"t\"])\n",
    "    r.append(update_pos(prev, curr, b))\n",
    "    \n",
    "    return And(r)"
   ]
  },
  {
   "cell_type": "markdown",
   "metadata": {},
   "source": [
    "## Untimed"
   ]
  },
  {
   "cell_type": "markdown",
   "metadata": {},
   "source": [
    "Considerações:\n",
    "\n",
    "- Quando um barco muda de setor e não está em perigo, ele continua no mesmo modo"
   ]
  },
  {
   "cell_type": "markdown",
   "metadata": {},
   "source": [
    "Para uma transição untimed ocorrer para algum dos barcos, então este deve mudar de setor. Podemos verificar se um barco muda de setor verificando se este transitou para setores adjacentes:\n",
    "\n",
    "$$ \\mathtt{sector\\_change}(\\alpha, \\alpha', b) \\; \\equiv \\; \\big( \\mathtt{sx}_b' = \\mathtt{sx}_b + 1 \\; \\wedge \\; \\mathtt{sy}_b' = \\mathtt{sy}_b \\big) \\; \\vee \\; \\big( \\mathtt{sx}_b' = \\mathtt{sx}_b - 1 \\; \\wedge \\; \\mathtt{sy}_b' = \\mathtt{sy}_b \\big) \\; \\vee \\; \\big( \\mathtt{sx}_b' = \\mathtt{sx}_b \\; \\wedge \\; \\mathtt{sy}_b' = \\mathtt{sy}_b + 1 \\big) \\; \\vee \\; \\big( \\mathtt{sx}_b' = \\mathtt{sx}_b \\; \\wedge \\; \\mathtt{sy}_b' = \\mathtt{sy}_b - 1 \\big) $$"
   ]
  },
  {
   "cell_type": "markdown",
   "metadata": {},
   "source": [
    "Quando um barco faz uma transição untimed, este fica com o modo e velocidade do controlador. Podemos agora definir uma transição untimed para os barcos:\n",
    "    \n",
    "$$ \\mathtt{untimedb}(\\alpha, \\alpha', b) \\; \\equiv \\; \\mathtt{vel\\_trans}(\\alpha, \\alpha', b) \\; \\wedge \\; 0 \\le \\mathtt{sx}_b' < N \\; \\wedge \\; 0 \\le \\mathtt{sy}' < N \\; \\wedge \\; \\mathtt{sx}_b' = x_b'/L \\; \\wedge \\; \\mathtt{sy}_b' = y_b'/L \\; \\wedge \\; \\mathtt{sector\\_change}(\\alpha, \\alpha', b) \\; \\wedge \\; \\mathtt{v}_b' = \\mathtt{v}_c' \\; \\wedge \\; \\mathtt{\\varphi}_b' = \\mathtt{\\varphi}_c' $$"
   ]
  },
  {
   "cell_type": "code",
   "execution_count": 6,
   "metadata": {},
   "outputs": [],
   "source": [
    "def sector_change(prev, curr, b):\n",
    "    left = And(curr[b][\"sx\"]==prev[b][\"sx\"]-1, curr[b][\"sy\"]==prev[b][\"sy\"])\n",
    "    right = And(curr[b][\"sx\"]==prev[b][\"sx\"]+1, curr[b][\"sy\"]==prev[b][\"sy\"])\n",
    "    up = And(curr[b][\"sx\"]==prev[b][\"sx\"], curr[b][\"sy\"]==prev[b][\"sy\"]+1)\n",
    "    down = And(curr[b][\"sx\"]==prev[b][\"sx\"], curr[b][\"sy\"]==prev[b][\"sy\"]-1)\n",
    "    return Or(left, right, up, down)\n",
    "\n",
    "def b_untimed(prev, curr, b):\n",
    "    # Mudança das variáveis contínuas do barco\n",
    "    low2stop, low2low, low2high = low_stop(prev, curr, b), low_low(prev, curr, b), low_high(prev, curr, b)\n",
    "    high2low, high2high = high_low(prev, curr, b), high_high(prev, curr, b)\n",
    "    xyt_evolve = Or(low2stop, low2low, low2high, high2low, high2high)\n",
    "    \n",
    "    # Mudança do setor do barco\n",
    "    sx = And(curr[b][\"sx\"] == curr[b][\"x\"] / L, curr[b][\"sx\"]>=0, curr[b][\"sx\"]<N)\n",
    "    sy = And(curr[b][\"sy\"] == curr[b][\"y\"] / L, curr[b][\"sy\"]>=0, curr[b][\"sy\"]<N)\n",
    "    sector = And(sx, sy)\n",
    "    \n",
    "    # Mundaça de modo do barco de acordo com o controlador\n",
    "    change = sector_change(prev, curr, b)\n",
    "    vel_ang = And(curr[b][\"v\"] == curr[\"c\"][\"v\"], curr[b][\"a\"] == curr[\"c\"][\"a\"])\n",
    "    \n",
    "    return And(xyt_evolve, sector, change, vel_ang)"
   ]
  },
  {
   "cell_type": "markdown",
   "metadata": {},
   "source": [
    "Para realizar a transição untimed do controlador precisamos de saber avaliar duas coisas:\n",
    "- Quando um barco está em perigo\n",
    "- Quando dois barcos podem colidir - estão em posições adjacentes\n",
    "\n",
    "Podemos avaliar se dois barcos estão em perigo da seguinte forma:\n",
    "\n",
    "$$ \\mathtt{danger\\_boats}(\\alpha, b_1, b_2) \\; \\equiv \\; \\mathtt{sx}_{b_2} - 2 \\le \\mathtt{sx}_{b_1} \\le \\mathtt{sx}_{b_2} + 2 \\; \\wedge \\; \\mathtt{sy}_{b_2} - 2 \\le \\mathtt{sy}_{b_1} \\le \\mathtt{sy}_{b_2} + 2 $$\n",
    "\n",
    "Logo, para um barco se encontrar em perigo:\n",
    "\n",
    "$$ \\mathtt{danger} (\\alpha, b) \\; \\equiv \\; \\bigvee_{b' \\in \\mathcal{B} \\setminus b} \\mathtt{danger\\_boats} (\\alpha, b, b') $$\n",
    "\n",
    "É também necessário definir uma condição lógica que verifique se um barco tem outros barcos adjacentes, uma vez que se este for o caso, a sua velocidade deve ser modificada pelo controlador:\n",
    "\n",
    "$$ \\mathtt{adjacent\\_boats} (\\alpha, b_1, b_2) \\; \\equiv \\; \\left( \\mathtt{sx}_{b_1} = \\mathtt{sx}_{b_2} - 1 \\; \\wedge \\; \\mathtt{sy}_{b_1} = \\mathtt{sy}_{b_2} \\right) \\; \\vee \\; \\left( \\mathtt{sx}_{b_1} = \\mathtt{sx}_{b_2} + 1 \\; \\wedge \\; \\mathtt{sy}_{b_1} = \\mathtt{sy}_{b_2} \\right) \\; \\vee \\; \\left( \\mathtt{sx}_{b_1} = \\mathtt{sx}_{b_2} \\; \\wedge \\; \\mathtt{sy}_{b_1} = \\mathtt{sy}_{b_2} - 1 \\right) \\; \\vee \\; \\left( \\mathtt{sx}_{b_1} = \\mathtt{sx}_{b_2} \\; \\wedge \\; \\mathtt{sy}_{b_1} = \\mathtt{sy}_{b_2} + 1 \\right) $$\n",
    "\n",
    "$$ \\mathtt{adjacent} (\\alpha, b) \\; \\equiv \\; \\bigvee_{b' \\in \\mathcal{B} \\setminus b} \\mathtt{adjacent\\_boats} (\\alpha, b, b') $$"
   ]
  },
  {
   "cell_type": "code",
   "execution_count": 7,
   "metadata": {},
   "outputs": [],
   "source": [
    "def danger_boats(trace, b1, b2):\n",
    "    sx = And(trace[b1][\"sx\"]<=trace[b2][\"sx\"]+2, trace[b1][\"sx\"]>=trace[b2][\"sx\"]-2)\n",
    "    sy = And(trace[b1][\"sy\"]<=trace[b2][\"sy\"]+2, trace[b1][\"sy\"]>=trace[b2][\"sy\"]-2)\n",
    "    return And(sx, sy)\n",
    "\n",
    "danger = lambda trace, b: Or([danger_boats(trace, b_, b) for b_ in trace if (\"b\" in b_ and b!=b_)])\n",
    "\n",
    "def adjacent_boats(trace, b1, b2):\n",
    "    left  = And(trace[b1][\"sx\"]==trace[b2][\"sx\"]-1, trace[b1][\"sy\"]==trace[b2][\"sy\"])\n",
    "    right = And(trace[b1][\"sx\"]==trace[b2][\"sx\"]+1, trace[b1][\"sy\"]==trace[b2][\"sy\"])\n",
    "    up    = And(trace[b1][\"sx\"]==trace[b2][\"sx\"], trace[b1][\"sy\"]==trace[b2][\"sy\"]+1)\n",
    "    down  = And(trace[b1][\"sx\"]==trace[b2][\"sx\"], trace[b1][\"sy\"]==trace[b2][\"sy\"]-1)\n",
    "    \n",
    "    return Or (left, right, up, down)\n",
    "\n",
    "adjacent = lambda trace, b: Or([adjacent_boats(trace, b, b_) for b_ in trace if (\"b\" in b_ and b!=b_)])"
   ]
  },
  {
   "cell_type": "markdown",
   "metadata": {},
   "source": [
    "A verificação de perigo e de adjacência é suficiente para definir a velocidade do controlador, de modo a ajustar a velocidade do barco que realizar uma transição, mas não é suficiente para inferir que rota este deve tomar. Para determinar esta rota, é necessário ainda verificar se o barco que muda de setor *pode* transitar para um setor onde outro barco possa transitar, isto é, se algum barco se encontra numa posição adjacente às posições adjacentes do barco que muda de setor. Caso tal seja verdade, a sua rota deve ser mudada para este viajar para um setor seguro.\n",
    "\n",
    "Para verificar isto, definam-se então:\n",
    "\n",
    "$$ \\mathtt{overlap\\_left}(\\alpha, b_1, b_2) \\; \\equiv \\; \\left( \\mathtt{sx}_{b_2} = \\mathtt{sx}_{b_1}-2 \\; \\wedge \\; \\mathtt{sy}_{b_2} = \\mathtt{sy}_{b_1} \\right) \\; \\vee \\; \\left( \\mathtt{sx}_{b_2} = \\mathtt{sx}_{b_1}-1 \\; \\wedge \\; \\mathtt{sy}_{b_2} = \\mathtt{sy}_{b_1}+1 \\right) \\; \\vee \\; \\left( \\mathtt{sx}_{b_2} = \\mathtt{sx}_{b_1}-1 \\; \\wedge \\; \\mathtt{sy}_{b_2} = \\mathtt{sy}_{b_1}-1 \\right) $$\n",
    "\n",
    "$$ \\mathtt{overlap\\_right}(\\alpha, b_1, b_2) \\; \\equiv \\; \\left( \\mathtt{sx}_{b_2} = \\mathtt{sx}_{b_1}+2 \\; \\wedge \\; \\mathtt{sy}_{b_2} = \\mathtt{sy}_{b_1} \\right) \\; \\vee \\; \\left( \\mathtt{sx}_{b_2} = \\mathtt{sx}_{b_1}+1 \\; \\wedge \\; \\mathtt{sy}_{b_2} = \\mathtt{sy}_{b_1}+1 \\right) \\; \\vee \\; \\left( \\mathtt{sx}_{b_2} = \\mathtt{sx}_{b_1}+1 \\; \\wedge \\; \\mathtt{sy}_{b_2} = \\mathtt{sy}_{b_1}-1 \\right) $$\n",
    "\n",
    "$$ \\mathtt{overlap\\_up}(\\alpha, b_1, b_2) \\; \\equiv \\; \\left( \\mathtt{sx}_{b_2} = \\mathtt{sx}_{b_1}-1 \\; \\wedge \\; \\mathtt{sy}_{b_2} = \\mathtt{sy}_{b_1}+1 \\right) \\; \\vee \\; \\left( \\mathtt{sx}_{b_2} = \\mathtt{sx}_{b_1} \\; \\wedge \\; \\mathtt{sy}_{b_2} = \\mathtt{sy}_{b_1}+2 \\right) \\; \\vee \\; \\left( \\mathtt{sx}_{b_2} = \\mathtt{sx}_{b_1}+1 \\; \\wedge \\; \\mathtt{sy}_{b_2} = \\mathtt{sy}_{b_1}+1 \\right) $$\n",
    "\n",
    "$$ \\mathtt{overlap\\_down}(\\alpha, b_1, b_2) \\; \\equiv \\; \\left( \\mathtt{sx}_{b_2} = \\mathtt{sx}_{b_1}-1 \\; \\wedge \\; \\mathtt{sy}_{b_2} = \\mathtt{sy}_{b_1}-1 \\right) \\; \\vee \\; \\left( \\mathtt{sx}_{b_2} = \\mathtt{sx}_{b_1}+1 \\; \\wedge \\; \\mathtt{sy}_{b_2} = \\mathtt{sy}_{b_1}-1 \\right) \\; \\vee \\; \\left( \\mathtt{sx}_{b_2} = \\mathtt{sx}_{b_1} \\; \\wedge \\; \\mathtt{sy}_{b_2} = \\mathtt{sy}_{b_1}-2 \\right) $$\n",
    "\n",
    "Podemos agora definir a mudança de rota do controlador para um dado barco:\n",
    "\n",
    "$$ \\mathtt{croute} (\\alpha, b) \\; \\equiv \\; \\bigwedge_{b' \\in \\mathcal{B} \\setminus b} \\mathtt{danger\\_boats}(\\alpha, b, b') \\; \\rightarrow \\; \\big[ \\left( \\mathtt{\\varphi_c} \\neq 0 \\; \\wedge \\; \\mathtt{overlap\\_right} (\\alpha, b, b') \\right) \\; \\vee \\; \\left( \\mathtt{\\varphi_c} \\neq 90 \\; \\wedge \\; \\mathtt{overlap\\_up} (\\alpha, b, b') \\right) \\; \\vee \\; \\left( \\mathtt{\\varphi_c} \\neq 180 \\; \\wedge \\; \\mathtt{overlap\\_left} (\\alpha, b, b') \\right) \\vee \\; \\left( \\mathtt{\\varphi_c} \\neq 270  \\; \\wedge \\; \\mathtt{overlap\\_down} (\\alpha, b, b') \\right) \\big] $$"
   ]
  },
  {
   "cell_type": "code",
   "execution_count": 8,
   "metadata": {},
   "outputs": [],
   "source": [
    "def overlap(trace, b1, b2, direc):\n",
    "    if direc == \"left\":\n",
    "        left = And(trace[b2][\"sx\"] == trace[b1][\"sx\"]-2, trace[b2][\"sy\"] == trace[b1][\"sy\"])\n",
    "        up = And(trace[b2][\"sx\"] == trace[b1][\"sx\"]-1, trace[b2][\"sy\"] == trace[b1][\"sy\"]+1)\n",
    "        down = And(trace[b2][\"sx\"] == trace[b1][\"sx\"]-1, trace[b2][\"sy\"] == trace[b1][\"sy\"]-1)\n",
    "        r = Or(left, up, down)\n",
    "    elif direc == \"right\":\n",
    "        right = And(trace[b2][\"sx\"] == trace[b1][\"sx\"]+2, trace[b2][\"sy\"] == trace[b1][\"sy\"])\n",
    "        up = And(trace[b2][\"sx\"] == trace[b1][\"sx\"]+1, trace[b2][\"sy\"] == trace[b1][\"sy\"]+1)\n",
    "        down = And(trace[b2][\"sx\"] == trace[b1][\"sx\"]+1, trace[b2][\"sy\"] == trace[b1][\"sy\"]-1)\n",
    "        r = Or(right, up, down)\n",
    "    elif direc == \"up\":\n",
    "        left = And(trace[b2][\"sx\"] == trace[b1][\"sx\"]-1, trace[b2][\"sy\"] == trace[b1][\"sy\"]+1)\n",
    "        up = And(trace[b2][\"sx\"] == trace[b1][\"sx\"], trace[b2][\"sy\"] == trace[b1][\"sy\"]+2)\n",
    "        right = And(trace[b2][\"sx\"] == trace[b1][\"sx\"]+1, trace[b2][\"sy\"] == trace[b1][\"sy\"]+1)\n",
    "        r = Or(left, up, right)\n",
    "    elif direc == \"down\":\n",
    "        left = And(trace[b2][\"sx\"] == trace[b1][\"sx\"]-1, trace[b2][\"sy\"] == trace[b1][\"sy\"]-1)\n",
    "        right = And(trace[b2][\"sx\"] == trace[b1][\"sx\"]+1, trace[b2][\"sy\"] == trace[b1][\"sy\"]-1)\n",
    "        down = And(trace[b2][\"sx\"] == trace[b1][\"sx\"], trace[b2][\"sy\"] == trace[b1][\"sy\"]-2)\n",
    "        r = Or(left, right, down)\n",
    "    return r\n",
    "\n",
    "def c_route(trace, b1):\n",
    "    r = []\n",
    "    \n",
    "    for b2 in trace:\n",
    "        if \"b\" in b2 and b1!=b2:\n",
    "            danger = danger_boats(trace, b1, b2)\n",
    "            hours = Or(trace[\"c\"][\"a\"]==0, trace[\"c\"][\"a\"]==90, trace[\"c\"][\"a\"]==180, trace[\"c\"][\"a\"]==270)\n",
    "            left = And(trace[\"c\"][\"a\"]!=180, overlap(trace, b1, b2, \"left\"))\n",
    "            right = And(trace[\"c\"][\"a\"]!=0, overlap(trace, b1, b2, \"right\"))\n",
    "            up = And(trace[\"c\"][\"a\"]!=90, overlap(trace, b1, b2, \"up\"))\n",
    "            down = And(trace[\"c\"][\"a\"]!=270, overlap(trace, b1, b2, \"down\"))\n",
    "            r.append(Implies(danger, And(hours, left, right, up, down)))\n",
    "            \n",
    "    return And(r)"
   ]
  },
  {
   "cell_type": "markdown",
   "metadata": {},
   "source": [
    "Logo, para a transição untimed to controlador:\n",
    "\n",
    "$$ \\mathtt{cadj} (\\alpha, b) \\; \\equiv \\; \\mathtt{adjacent} (\\alpha', b) \\; \\wedge \\; \\left( v_c' = \\mathtt{stop} \\; \\vee \\; v_c' = \\mathtt{low} \\right) $$\n",
    "\n",
    "$$ \\mathtt{cdanger} (\\alpha, b) \\; \\equiv \\; \\mathtt{danger} (\\alpha, b) \\; \\wedge \\; \\neg \\mathtt{adjacent} (\\alpha, b) \\; \\wedge \\; v_c = \\mathtt{low} $$\n",
    "\n",
    "$$ \\mathtt{cnotsafe} (\\alpha, b) \\; \\equiv \\; \\mathtt{croute} (\\alpha, b) \\; \\wedge \\; \\left( \\mathtt{cadj} (\\alpha, b) \\; \\vee \\; \\mathtt{cdanger} (\\alpha, b) \\right) $$\n",
    "\n",
    "$$ \\mathtt{csafe} (\\alpha, b) \\; \\equiv \\; \\neg \\mathtt{danger} (\\alpha, b) \\; \\wedge \\; v_c = \\mathtt{high} \\; \\wedge \\; \\bigvee_{\\varphi \\in \\mathcal{R}} \\varphi_c = \\varphi $$\n",
    "\n",
    "$$ \\mathtt{untimedc} (\\alpha, \\alpha') \\; \\equiv \\; \\bigvee_{b \\in \\mathcal{B}} \\big( \\mathtt{sector\\_change} (\\alpha, \\alpha', b) \\; \\wedge \\; \\mathtt{sx}_c' = \\mathtt{sx}_b' \\; \\wedge \\; \\mathtt{sy}_c' = \\mathtt{sy}_b' \\; \\wedge \\; \\left( \\mathtt{cnotsafe} (\\alpha', b) \\; \\vee \\; \\mathtt{csafe} (\\alpha', b) \\right) \\big) $$\n",
    "\n",
    "E a função untimed geral é então dada por:\n",
    "\n",
    "$$ \\mathtt{untimed} (\\alpha, \\alpha') \\; \\equiv \\; \\mathtt{untimedc} (\\alpha, \\alpha') \\; \\wedge \\; \\mathtt{untimedb} (\\alpha, \\alpha', b_1) \\; \\wedge \\; \\mathtt{untimedb} (\\alpha, \\alpha', b_2) \\; \\wedge \\; \\mathtt{untimedb} (\\alpha, \\alpha', b_3) $$"
   ]
  },
  {
   "cell_type": "code",
   "execution_count": 9,
   "metadata": {},
   "outputs": [],
   "source": [
    "def c_untimed(prev, curr):\n",
    "    r = []\n",
    "    for b in prev:\n",
    "        if \"b\" in b:\n",
    "            # Mudança do setor do controlador\n",
    "            change = sector_change(prev, curr, b)\n",
    "            sx = curr[\"c\"][\"sx\"] == curr[b][\"sx\"]\n",
    "            sy = curr[\"c\"][\"sy\"] == curr[b][\"sy\"]\n",
    "            \n",
    "            # Dois navios em setores adjacentes estao em low ou stop\n",
    "            b_adj = And(adjacent(curr, b), Or(curr[\"c\"][\"v\"]==M_STOP, curr[\"c\"][\"v\"]==M_LOW))\n",
    "            b_danger = And(danger(curr, b), Not(adjacent(curr, b)), curr[\"c\"][\"v\"]==M_LOW)\n",
    "            b_nsafe = And(Or(b_adj, b_danger), c_route(curr, b))\n",
    "            \n",
    "            # Navio em seguranca\n",
    "            hour = Or([curr[\"c\"][\"a\"]==a for a in ALL_ROUTES])\n",
    "            b_safe = And(Not(danger(curr, b)), curr[\"c\"][\"v\"]==M_HIGH, hour)\n",
    "            \n",
    "            r.append(And(change, sx, sy, Or(b_safe, b_nsafe)))\n",
    "            \n",
    "    return Or(r)\n",
    "\n",
    "untimed = lambda prev, curr: And([b_untimed(prev, curr, b) for b in prev if \"b\" in b] + [c_untimed(prev, curr)])"
   ]
  },
  {
   "cell_type": "markdown",
   "metadata": {},
   "source": [
    "## Timed"
   ]
  },
  {
   "cell_type": "markdown",
   "metadata": {},
   "source": [
    "Uma transição timed de um barco é dada por:\n",
    "\n",
    "$$ \\mathtt{timedb}(\\alpha, \\alpha', b) \\; \\equiv \\; v_b' = v_b \\; \\wedge \\; \\varphi_b' = \\varphi_b \\; \\wedge \\; \\mathtt{sx}_b' = \\mathtt{sx}_b \\, \\wedge \\; \\mathtt{sy}_b' = \\mathtt{sy}_b \\; \\wedge \\; \\mathtt{sx}_b' \\cdot L \\le x_b' \\le \\mathtt{sx}_b' \\cdot (L + 1) \\; \\wedge \\; \\mathtt{sy}_b' \\cdot L \\le y' \\le \\mathtt{sy}_b' \\cdot (L + 1) \\; \\wedge \\; \\big( \\mathtt{stop\\_stop}(\\alpha, \\alpha', b) \\; \\vee \\; \\mathtt{low\\_low}(\\alpha, \\alpha', b) \\; \\vee \\; \\mathtt{high\\_high}(\\alpha, \\alpha', b) \\big) $$"
   ]
  },
  {
   "cell_type": "code",
   "execution_count": 10,
   "metadata": {},
   "outputs": [],
   "source": [
    "def b_timed(prev, curr, b):\n",
    "    # Não ocorre mudanças de modo\n",
    "    v = prev[b][\"v\"] == curr[b][\"v\"]\n",
    "    a = prev[b][\"a\"] == curr[b][\"a\"]\n",
    "    sx = prev[b][\"sx\"] == curr[b][\"sx\"]\n",
    "    sy = prev[b][\"sy\"] == curr[b][\"sy\"]\n",
    "    \n",
    "    # Limitar a posicao do barco com o seu setor\n",
    "    x_lim = And(curr[b][\"x\"] >= curr[b][\"sx\"]*L, curr[b][\"x\"] <= (curr[b][\"sx\"]+1)*L)\n",
    "    y_lim = And(curr[b][\"y\"] >= curr[b][\"sy\"]*L, curr[b][\"y\"] <= (curr[b][\"sy\"]+1)*L)\n",
    "    \n",
    "    # Mudança das variáveis contínuas\n",
    "    stop = stop_stop(prev, curr, b) \n",
    "    low = low_low(prev, curr, b)\n",
    "    high = high_high(prev, curr, b)\n",
    "    \n",
    "    return And(v, a, sx, sy, x_lim, y_lim, Or(stop, high, low))"
   ]
  },
  {
   "cell_type": "markdown",
   "metadata": {},
   "source": [
    "Para o controlador temos:\n",
    "    \n",
    "$$ \\mathtt{timedc} (\\alpha, \\alpha') \\; \\equiv \\; v_c' = v_c \\; \\wedge \\; \\varphi_c' = \\varphi_c \\; \\wedge \\; \\mathtt{sx}_c' = \\mathtt{sx}_c \\; \\wedge \\; \\mathtt{sy}_c' = \\mathtt{sy}_c $$\n",
    "\n",
    "E por fim a transição timed geral:\n",
    "\n",
    "$$ \\mathtt{timed} (\\alpha, \\alpha') \\; \\equiv \\; \\mathtt{timedc} (\\alpha, \\alpha') \\; \\wedge \\; \\mathtt{timedb} (\\alpha, \\alpha', b_1) \\; \\wedge \\; \\mathtt{timedb} (\\alpha, \\alpha', b_2) \\; \\wedge \\; \\mathtt{timedb} (\\alpha, \\alpha', b_3) $$"
   ]
  },
  {
   "cell_type": "code",
   "execution_count": 11,
   "metadata": {},
   "outputs": [],
   "source": [
    "def c_timed(prev, curr):\n",
    "    # Não ocorre nenhuma mudança no controlador\n",
    "    v = prev[\"c\"][\"v\"] == curr[\"c\"][\"v\"]\n",
    "    a = prev[\"c\"][\"a\"] == curr[\"c\"][\"a\"]\n",
    "    sx = prev[\"c\"][\"sx\"] == curr[\"c\"][\"sx\"]\n",
    "    sy = prev[\"c\"][\"sy\"] == curr[\"c\"][\"sy\"]\n",
    "    \n",
    "    return And(v, a, sx, sy)\n",
    "\n",
    "timed = lambda prev, curr: And([b_timed(prev, curr, b) for b in prev if \"b\" in b] + [c_timed(prev, curr)])"
   ]
  },
  {
   "cell_type": "markdown",
   "metadata": {},
   "source": [
    "Deste modo, para ocorrer uma transição mista, devemos ter:\n",
    "    \n",
    "$$ \\mathtt{mixed}_1 (\\alpha, \\alpha') \\; \\equiv \\; \\mathtt{untimedb} (\\alpha, \\alpha', b_1) \\; \\wedge \\; \\mathtt{untimedb} (\\alpha, \\alpha', b_2) \\; \\wedge \\; \\mathtt{timedb} (\\alpha, \\alpha', b_3) $$\n",
    "\n",
    "$$ \\mathtt{mixed}_2 (\\alpha, \\alpha') \\; \\equiv \\; \\mathtt{untimedb} (\\alpha, \\alpha', b_1) \\; \\wedge \\; \\mathtt{timedb} (\\alpha, \\alpha', b_2) \\; \\wedge \\; \\mathtt{untimedb} (\\alpha, \\alpha', b_3) $$\n",
    "\n",
    "$$ \\mathtt{mixed}_3 (\\alpha, \\alpha') \\; \\equiv \\; \\mathtt{timedb} (\\alpha, \\alpha', b_1) \\; \\wedge \\; \\mathtt{untimedb} (\\alpha, \\alpha', b_2) \\; \\wedge \\; \\mathtt{untimedb} (\\alpha, \\alpha', b_3) $$\n",
    "\n",
    "$$ \\mathtt{mixed}_4 (\\alpha, \\alpha') \\; \\equiv \\; \\mathtt{untimedb} (\\alpha, \\alpha', b_1) \\; \\wedge \\; \\mathtt{timedb} (\\alpha, \\alpha', b_2) \\; \\wedge \\; \\mathtt{timedb} (\\alpha, \\alpha', b_3) $$\n",
    "\n",
    "$$ \\mathtt{mixed}_5 (\\alpha, \\alpha') \\; \\equiv \\; \\mathtt{timedb} (\\alpha, \\alpha', b_1) \\; \\wedge \\; \\mathtt{untimedb} (\\alpha, \\alpha', b_2) \\; \\wedge \\; \\mathtt{timedb} (\\alpha, \\alpha', b_3) $$\n",
    "\n",
    "$$ \\mathtt{mixed}_6 (\\alpha, \\alpha') \\; \\equiv \\; \\mathtt{timedb} (\\alpha, \\alpha', b_1) \\; \\wedge \\; \\mathtt{timedb} (\\alpha, \\alpha', b_2) \\; \\wedge \\; \\mathtt{untimedb} (\\alpha, \\alpha', b_3) $$\n",
    "\n",
    "E, por fim:\n",
    "\n",
    "$$ \\mathtt{mixed} (\\alpha, \\alpha') \\; \\equiv \\; \\mathtt{untimedc}(\\alpha, \\alpha') \\; \\wedge \\; \\bigvee_{i=1}^{6} \\mathtt{mixed}_i (\\alpha, \\alpha') $$"
   ]
  },
  {
   "cell_type": "code",
   "execution_count": 12,
   "metadata": {},
   "outputs": [],
   "source": [
    "def mixed(prev, curr):\n",
    "    uut = And(b_untimed(prev, curr, \"b0\"), b_untimed(prev, curr, \"b1\"), b_timed(prev, curr, \"b2\"))\n",
    "    utu = And(b_untimed(prev, curr, \"b0\"), b_timed(prev, curr, \"b1\"), b_untimed(prev, curr, \"b2\"))\n",
    "    tuu = And(b_timed(prev, curr, \"b0\"), b_untimed(prev, curr, \"b1\"), b_untimed(prev, curr, \"b2\"))\n",
    "    utt = And(b_untimed(prev, curr, \"b0\"), b_timed(prev, curr, \"b1\"), b_timed(prev, curr, \"b2\"))\n",
    "    tut = And(b_timed(prev, curr, \"b0\"), b_untimed(prev, curr, \"b1\"), b_timed(prev, curr, \"b2\"))\n",
    "    ttu = And(b_timed(prev, curr, \"b0\"), b_timed(prev, curr, \"b1\"), b_untimed(prev, curr, \"b2\"))\n",
    "    \n",
    "    return And(Or(uut, utu, tuu, utt, tut, ttu), c_untimed(prev, curr))"
   ]
  },
  {
   "cell_type": "markdown",
   "metadata": {},
   "source": [
    "Para verificarmos que os autómatos estão todos sincronizados verificamos se o tempo que passa entre uma transição é o mesmo para todos os barcos:\n",
    "    \n",
    "$$ \\mathtt{eqd} (\\alpha, \\alpha') \\; \\equiv \\; t_{b_0}' - t_{b_0} = t_{b_1}' - t_{b_1} \\; \\wedge \\; t_{b_1}' - t_{b_1} = t_{b_2}' - t_{b_2} $$"
   ]
  },
  {
   "cell_type": "code",
   "execution_count": 13,
   "metadata": {},
   "outputs": [],
   "source": [
    "def eqd(prev, curr):\n",
    "    t1 = curr[\"b0\"][\"t\"]-prev[\"b0\"][\"t\"] == curr[\"b1\"][\"t\"]-prev[\"b1\"][\"t\"]\n",
    "    t2 = curr[\"b1\"][\"t\"]-prev[\"b1\"][\"t\"] == curr[\"b2\"][\"t\"]-prev[\"b2\"][\"t\"]\n",
    "        \n",
    "    return And(t1, t2)"
   ]
  },
  {
   "cell_type": "markdown",
   "metadata": {},
   "source": [
    "Podemos então definir uma função de transição do autómato híbrido:\n",
    "\n",
    "$$ \\mathtt{trans}(\\alpha, \\alpha') \\; \\equiv \\; \\mathtt{eqd} (\\alpha, \\alpha') \\; \\wedge \\; \\big( \\mathtt{untimed} (\\alpha, \\alpha') \\; \\vee \\; \\mathtt{timed}(\\alpha, \\alpha') \\; \\vee \\; \\mathtt{mixed} (\\alpha, \\alpha') \\big) $$"
   ]
  },
  {
   "cell_type": "code",
   "execution_count": 14,
   "metadata": {},
   "outputs": [],
   "source": [
    "trans = lambda prev, curr: And(eqd(prev, curr), Or(untimed(prev, curr), timed(prev, curr), mixed(prev, curr)))"
   ]
  },
  {
   "cell_type": "code",
   "execution_count": 15,
   "metadata": {},
   "outputs": [],
   "source": [
    "def model_to_dfs(m):\n",
    "    \"\"\"\n",
    "    Esta função transforma um modelo z3 numa lista de DataFrames pandas.\n",
    "    Cada elemento desta lista é um DataFrame de um barco.\n",
    "    \"\"\"\n",
    "    \n",
    "    m_ = {str(elem): m[elem] for elem in m}\n",
    "    sortedkeys = sorted(m_, key=str.lower)\n",
    "\n",
    "    prop_names = sorted(list(set([str(elem)[:-1] for elem in sortedkeys])))\n",
    "    df_dict = {p: [] for p in prop_names}\n",
    "\n",
    "    for col in df_dict:\n",
    "        for elem in sortedkeys:\n",
    "            if col in elem:\n",
    "                if m_[elem].sort() == RealSort():\n",
    "                    value = z3tofloat(m_[elem])\n",
    "                else:\n",
    "                    value = m_[elem]\n",
    "                df_dict[col].append(value)\n",
    "\n",
    "    df_dict1 = {i: {elem: df_dict[elem] for elem in df_dict if f\"b{i}\" in elem} for i in range(3)}\n",
    "    df_dict1[3] = {elem: df_dict[elem] for elem in df_dict if \"c\" in elem}\n",
    "\n",
    "    dfs = [pd.DataFrame(df_dict1[i]) for i in range(len(df_dict1))]\n",
    "        \n",
    "    return dfs\n",
    "    \n",
    "def display_side_by_side(*args):\n",
    "    html_str=''\n",
    "    for df in args:\n",
    "        html_str+=df.to_html()\n",
    "    display_html(html_str.replace('table','table style=\"display:inline\"'),raw=True)"
   ]
  },
  {
   "cell_type": "markdown",
   "metadata": {},
   "source": [
    "Podemos verificar que existe colisão num elemento do traço se houver nenhuma sobreposição entre os setores dos barcos:\n",
    "\n",
    "$$ \\mathtt{collision} (\\alpha) \\; \\equiv \\; \\bigvee_{(b_1, b_2) \\in \\mathcal{B} \\times \\mathcal{B}, b_1 \\neq b_2 } \\left( \\mathtt{sx}_{b_1} = \\mathtt{sx}_{b_2} \\; \\wedge \\; \\mathtt{sy}_{b_1} = \\mathtt{sy}_{b_2} \\right) $$\n",
    "\n",
    "A verificação de existirem colisões num traço de tamanho `k` é finalmente dada pela condição:\n",
    "    \n",
    "$$ \\mathtt{collisions} (\\alpha, k) \\; \\equiv \\; \\mathtt{init} (\\alpha_0) \\; \\wedge \\; \\bigwedge_{i=0}^{k-2} \\mathtt{trans} (\\alpha_i, \\alpha_{i+1}) \\; \\wedge \\; \\bigvee_{i=0}^{k-1} \\mathtt{collision} (\\alpha_i) $$\n",
    "\n",
    "Se esta condição for `unsat`, então os barcos navegam sem colisões."
   ]
  },
  {
   "cell_type": "code",
   "execution_count": 17,
   "metadata": {},
   "outputs": [
    {
     "name": "stdout",
     "output_type": "stream",
     "text": [
      "No collisions can happen\n"
     ]
    }
   ],
   "source": [
    "def collision(trace):\n",
    "    r = []\n",
    "    for b1, b2 in product(*[trace, trace]):\n",
    "        if \"b\" in b1 and \"b\" in b2 and b1!=b2:\n",
    "            sx = trace[b1][\"sx\"]==trace[b2][\"sx\"]\n",
    "            sy = trace[b1][\"sy\"]==trace[b2][\"sy\"]\n",
    "            r.append(And(sx, sy))\n",
    "            \n",
    "    return Or(r)\n",
    "\n",
    "def gen_trace(declare, init, trans, f, k):\n",
    "    solver = Solver()\n",
    "    trace = {i: declare(i) for i in range(k)}\n",
    "    solver.add(init(trace[0]))\n",
    "    \n",
    "    for i in range(k-1):\n",
    "        solver.add(trans(trace[i], trace[i+1]))\n",
    "        \n",
    "    solver.add(Or([f(trace[i]) for i in range(k)]))\n",
    "        \n",
    "    if solver.check() == unsat:\n",
    "        print(\"No collisions can happen\")\n",
    "        r = None\n",
    "    else:\n",
    "        print(\"Counter example\")\n",
    "        m = solver.model()\n",
    "        r = model_to_dfs(m)\n",
    "        display_side_by_side(*r)\n",
    "        \n",
    "    return r\n",
    "\n",
    "tr = gen_trace(declare, init, trans, collision, 20)"
   ]
  }
 ],
 "metadata": {
  "kernelspec": {
   "display_name": "Python 3",
   "language": "python",
   "name": "python3"
  },
  "language_info": {
   "codemirror_mode": {
    "name": "ipython",
    "version": 3
   },
   "file_extension": ".py",
   "mimetype": "text/x-python",
   "name": "python",
   "nbconvert_exporter": "python",
   "pygments_lexer": "ipython3",
   "version": "3.8.3"
  }
 },
 "nbformat": 4,
 "nbformat_minor": 4
}
