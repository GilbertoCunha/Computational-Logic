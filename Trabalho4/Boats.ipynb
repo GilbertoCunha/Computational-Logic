{
 "cells": [
  {
   "cell_type": "code",
   "execution_count": 1,
   "metadata": {},
   "outputs": [],
   "source": [
    "from itertools import product\n",
    "from math import sin, cos\n",
    "import numpy as np\n",
    "from z3 import *"
   ]
  },
  {
   "cell_type": "code",
   "execution_count": 2,
   "metadata": {},
   "outputs": [],
   "source": [
    "V_STOP, V_LOW, V_HIGH = 0, 1, 10 # velocidades dos modos baixo e alto, em m\n",
    "L = 1e3 # Lado dos setores em m\n",
    "THETA = 15 # angulo de viragem entre modos\n",
    "TAU = 3 # tempo minimo entre transicoes timed\n",
    "ALL_ROUTES = [i*THETA for i in range(int(360/THETA))] # todos os ângulos possíveis\n",
    "ALL_VELS = [V_STOP, V_LOW, V_HIGH] # todas as velocidades possiveis\n",
    "\n",
    "Mode, (M_STOP, M_LOW, M_HIGH) = EnumSort(\"Mode\", (\"V_STOP\", \"V_LOW\", \"V_HIGH\"))"
   ]
  },
  {
   "cell_type": "code",
   "execution_count": 3,
   "metadata": {},
   "outputs": [],
   "source": [
    "deg_to_rad = lambda a: a * np.pi / 180\n",
    "vel_to_mode = lambda v: M_LOW if (v == V_LOW) else M_HIGH if (v == V_HIGH) else M_STOP\n",
    "mode_to_vel = lambda m: V_LOW if (m == M_LOW) else V_HIGH if (m == M_HIGH) else V_STOP"
   ]
  },
  {
   "cell_type": "code",
   "execution_count": 4,
   "metadata": {},
   "outputs": [],
   "source": [
    "def declare(i, num_boats=3):\n",
    "    trace = {}\n",
    "    for j in range(num_boats):\n",
    "        trace[f\"b{j}\"] = {}\n",
    "        trace[f\"b{j}\"][\"v\"] = Const(f\"b{j}_v{i}\", Mode)\n",
    "        trace[f\"b{j}\"][\"a\"] = Int(f\"b{j}_a{i}\")\n",
    "        trace[f\"b{j}\"][\"sx\"] = Int(f\"b{j}_sx{i}\")\n",
    "        trace[f\"b{j}\"][\"sy\"] = Int(f\"b{j}_sy{i}\")\n",
    "        trace[f\"b{j}\"][\"x\"] = Real(f\"b{j}_x{i}\")\n",
    "        trace[f\"b{j}\"][\"y\"] = Real(f\"b{j}_y{i}\")\n",
    "        trace[f\"b{j}\"][\"t\"] = Real(f\"b{j}_t{i}\")\n",
    "        \n",
    "    trace[\"c\"] = {}\n",
    "    trace[\"c\"][\"v\"] = Const(\"c_v\", Mode)\n",
    "    trace[\"c\"][\"a\"] = Int(\"c_a\")\n",
    "    trace[\"c\"][\"sx\"] = Int(\"c_sx\")\n",
    "    trace[\"c\"][\"sy\"] = Int(\"c_sy\")\n",
    "    \n",
    "    return trace\n",
    "        \n",
    "        \n",
    "def init(trace, N):\n",
    "    r = []\n",
    "    for b in trace:\n",
    "        if \"b\" in b:\n",
    "            # Inicializar cada um dos barcos\n",
    "            r.append(trace[b][\"v\"] == M_HIGH)\n",
    "            index = np.random.randint(len(ALL_ROUTES))\n",
    "            r.append(trace[b][\"a\"] == ALL_ROUTES[index])\n",
    "            r.append(trace[b][\"sx\"] == np.random.randint(N))\n",
    "            r.append(trace[b][\"sy\"] == np.random.randint(N))\n",
    "            r.append(And(trace[b][\"x\"] >= L*trace[b][\"sx\"], trace[b][\"x\"] <= L*(trace[b][\"sx\"]+1)))\n",
    "            r.append(And(trace[b][\"y\"] >= L*trace[b][\"sy\"], trace[b][\"y\"] <= L*(trace[b][\"sy\"]+1)))\n",
    "            r.append(trace[b][\"t\"] == 0)\n",
    "            \n",
    "    # Inicializar o controlador com o estado um barco aleatório\n",
    "    index = np.random.randint(len(trace)-1)\n",
    "    r.append(trace[\"c\"][\"v\"] == trace[f\"b{index}\"][\"v\"])\n",
    "    r.append(trace[\"c\"][\"a\"] == trace[f\"b{index}\"][\"a\"])\n",
    "    r.append(trace[\"c\"][\"sx\"] == trace[f\"b{index}\"][\"sx\"])\n",
    "    r.append(trace[\"c\"][\"sy\"] == trace[f\"b{index}\"][\"sy\"])\n",
    "            \n",
    "    return And(r)"
   ]
  },
  {
   "cell_type": "markdown",
   "metadata": {},
   "source": [
    "## Transições das variáveis contínuas"
   ]
  },
  {
   "cell_type": "code",
   "execution_count": 5,
   "metadata": {},
   "outputs": [],
   "source": [
    "def update_pos(prev, curr, b):\n",
    "    r = []\n",
    "    modes = list(product(*[ALL_ROUTES, ALL_VELS]))\n",
    "    \n",
    "    for v, a in modes:\n",
    "        vel = prev[b][\"v\"] == vel_to_mode(v)\n",
    "        ang = prev[b][\"a\"] == a\n",
    "        x = curr[b][\"x\"] == prev[b][\"x\"] + v * cos(deg_to_rad(a)) * (curr[b][\"t\"]-prev[b][\"t\"])\n",
    "        y = curr[b][\"y\"] == prev[b][\"y\"] + v * sin(deg_to_rad(a)) * (curr[b][\"t\"]-prev[b][\"t\"])\n",
    "        r.append(And(x, y, ang, vel))\n",
    "    \n",
    "    return Or(r)\n",
    "\n",
    "def high_high(prev, curr, b):\n",
    "    r = []\n",
    "    \n",
    "    r.append(And(prev[b][\"v\"] == M_HIGH, curr[b][\"v\"] == M_HIGH))\n",
    "    r.append(curr[b][\"t\"] > prev[b][\"t\"])\n",
    "    r.append(update_pos(prev, curr, b))\n",
    "    \n",
    "    return And(r)\n",
    "\n",
    "def high_low(prev, curr, b):\n",
    "    r = []\n",
    "    \n",
    "    # TODO: adicionar resticoes a rota\n",
    "    r.append(And(prev[b][\"v\"] == M_HIGH, curr[b][\"v\"] == M_LOW))\n",
    "    r.append(curr[b][\"t\"] == prev[b][\"t\"] + 500)\n",
    "    r.append(update_pos(prev, curr, b))\n",
    "    \n",
    "    return And(r)\n",
    "    \n",
    "def low_high(prev, curr, b):\n",
    "    r = []\n",
    "    \n",
    "    # TODO: adicionar resticoes a rota\n",
    "    r.append(And(prev[b][\"v\"] == M_LOW, curr[b][\"v\"] == M_HIGH))\n",
    "    r.append(curr[b][\"t\"] == prev[b][\"t\"] + 500)\n",
    "    r.append(update_pos(prev, curr, b))\n",
    "    \n",
    "    return And(r)\n",
    "\n",
    "def low_low(prev, curr, b):\n",
    "    r = []\n",
    "    \n",
    "    r.append(And(prev[b][\"v\"] == M_LOW, curr[b][\"v\"] == M_LOW))\n",
    "    r.append(curr[b][\"t\"] > prev[b][\"t\"])\n",
    "    r.append(update_pos(prev, curr, b))\n",
    "    \n",
    "    return And(r)\n",
    "    \n",
    "def low_stop(prev, curr, b):\n",
    "    r = []\n",
    "    \n",
    "    # TODO: adicionar resticoes a rota\n",
    "    r.append(And(prev[b][\"v\"] == M_LOW, curr[b][\"v\"] == M_STOP))\n",
    "    r.append(curr[b][\"t\"] == prev[b][\"t\"] + 50)\n",
    "    r.append(update_pos(prev, curr, b))\n",
    "    \n",
    "    return And(r)\n",
    "    \n",
    "def stop_low(prev, curr, b):\n",
    "    r = []\n",
    "    \n",
    "    # TODO: adicionar resticoes a rota\n",
    "    r.append(And(prev[b][\"v\"] == M_STOP, curr[b][\"v\"] == M_LOW))\n",
    "    r.append(curr[b][\"t\"] == prev[b][\"t\"] + 50)\n",
    "    r.append(update_pos(prev, curr, b))\n",
    "    \n",
    "    return And(r)\n",
    "\n",
    "def stop_stop(prev, curr, b):\n",
    "    r = []\n",
    "    \n",
    "    r.append(And(prev[b][\"v\"] == M_STOP, curr[b][\"v\"] == M_STOP))\n",
    "    r.append(curr[b][\"t\"] > prev[b][\"t\"])\n",
    "    r.append(update_pos(prev, curr, b))\n",
    "    \n",
    "    return And(r)"
   ]
  },
  {
   "cell_type": "markdown",
   "metadata": {},
   "source": [
    "## Untimed"
   ]
  },
  {
   "cell_type": "markdown",
   "metadata": {},
   "source": [
    "Considerações:\n",
    "\n",
    "- Quando um barco muda de setor e não está em perigo, ele continua no mesmo modo"
   ]
  },
  {
   "cell_type": "code",
   "execution_count": 6,
   "metadata": {},
   "outputs": [],
   "source": [
    "def danger_boats(trace, b1, b2):\n",
    "    sx = And(trace[b1][\"sx\"]<=trace[b2][\"sx\"]+1, trace[b1][\"sx\"]>=trace[b2][\"sx\"]-1)\n",
    "    sy = And(trace[b1][\"sy\"]<=trace[b2][\"sy\"]+1, trace[b1][\"sy\"]>=trace[b2][\"sy\"]-1)\n",
    "    return And(sx, sy)\n",
    "\n",
    "danger = lambda trace, b: Or([danger_boats(trace, b_, b) for b_ in trace if (\"b\" in b_ and b!=b_)])\n",
    "sector_change = lambda prev, curr, b: Or(prev[b][\"sx\"]!=curr[b][\"sx\"], prev[b][\"sy\"] != curr[b][\"sy\"])\n",
    "\n",
    "def b_untimed(prev, curr, b):\n",
    "    # Mudança das variáveis contínuas do barco\n",
    "    low2stop, low2low, low2high = low_stop(prev, curr, b), low_low(prev, curr, b), low_high(prev, curr, b)\n",
    "    high2low, high2high = high_low(prev, curr, b), high_high(prev, curr, b)\n",
    "    xyt_evolve = Or(low2stop, low2low, low2high, high2low, high2high)\n",
    "    \n",
    "    # Mudança do setor do barco\n",
    "    sx = curr[b][\"sx\"] == curr[b][\"x\"] / L\n",
    "    sy = curr[b][\"sy\"] == curr[b][\"y\"] / L\n",
    "    sector = And(sx, sy)\n",
    "    \n",
    "    # Mundaça de modo do barco de acordo com o controlador\n",
    "    change = sector_change(prev, curr, b)\n",
    "    vel_ang = And(curr[b][\"v\"] == curr[\"c\"][\"v\"], curr[b][\"a\"] == curr[\"c\"][\"a\"])\n",
    "    \n",
    "    return And(xyt_evolve, sector, change, vel_ang)"
   ]
  },
  {
   "cell_type": "code",
   "execution_count": 7,
   "metadata": {},
   "outputs": [],
   "source": [
    "def adjacent_boats(trace, b1, b2):\n",
    "    left  = And(trace[b1][\"sx\"]==trace[b2][\"sx\"]-1, trace[b1][\"sy\"]==trace[b2][\"sy\"])\n",
    "    right = And(trace[b1][\"sx\"]==trace[b2][\"sx\"]+1, trace[b1][\"sy\"]==trace[b2][\"sy\"])\n",
    "    up    = And(trace[b1][\"sx\"]==trace[b2][\"sx\"], trace[b1][\"sy\"]==trace[b2][\"sy\"]+1)\n",
    "    down  = And(trace[b1][\"sx\"]==trace[b2][\"sx\"], trace[b1][\"sy\"]==trace[b2][\"sy\"]-1)\n",
    "    \n",
    "    return Or (left, right, up, down)\n",
    "\n",
    "adjacent = lambda trace, b: Or([adjacent_boats(trace, b, b_) for b_ in trace if (\"b\" in b_ and b!=b_)])\n",
    "\n",
    "def c_untimed(prev, curr):\n",
    "    r = []\n",
    "    for b in prev:\n",
    "        if \"b\" in b:\n",
    "            # Mudança do setor do controlador\n",
    "            change = sector_change(prev, curr, b)\n",
    "            sx = curr[\"c\"][\"sx\"] == curr[b][\"sx\"]\n",
    "            sy = curr[\"c\"][\"sy\"] == curr[b][\"sy\"]\n",
    "            sector = And(change, sx, sy)\n",
    "            \n",
    "            # TODO: fix desta parte\n",
    "            # Mudança da velocidade do controlador\n",
    "            b_danger = And(danger(curr, b), curr[\"c\"][\"v\"]==M_LOW)\n",
    "            b_adj = And(adjacent(curr, b), And(curr[\"c\"][\"v\"]==M_STOP))\n",
    "            b_safe = And(Not(danger(curr, b)), curr[\"c\"][\"v\"]==M_HIGH)\n",
    "            v = Or(b_danger, b_safe)\n",
    "            \n",
    "            r.append(And(sector, v))\n",
    "            \n",
    "    return Or(r)\n",
    "\n",
    "untimed = lambda prev, curr: And([b_untimed(prev, curr, b) for b in prev if \"b\" in b] + [c_untimed(prev, curr)])"
   ]
  },
  {
   "cell_type": "markdown",
   "metadata": {},
   "source": [
    "## Timed"
   ]
  },
  {
   "cell_type": "code",
   "execution_count": 8,
   "metadata": {},
   "outputs": [],
   "source": [
    "def b_timed(prev, curr, b):\n",
    "    # Não ocorre mudanças de modo\n",
    "    v = prev[b][\"v\"] == curr[b][\"v\"]\n",
    "    a = prev[b][\"a\"] == curr[b][\"a\"]\n",
    "    sx = prev[b][\"sx\"] == curr[b][\"sx\"]\n",
    "    sy = prev[b][\"sy\"] == curr[b][\"sy\"]\n",
    "    \n",
    "    # Mudança das variáveis contínuas\n",
    "    stop = stop_stop(prev, curr, b) \n",
    "    low = low_low(prev, curr, b)\n",
    "    high = high_high(prev, curr, b)\n",
    "    \n",
    "    return And(And(v, a, sx, sy), Or(stop, high, low))"
   ]
  },
  {
   "cell_type": "code",
   "execution_count": 9,
   "metadata": {},
   "outputs": [],
   "source": [
    "def c_timed(prev, curr):\n",
    "    # Não ocorre nenhuma mudança no controlador\n",
    "    v = prev[\"c\"][\"v\"] == curr[\"c\"][\"v\"]\n",
    "    a = prev[\"c\"][\"a\"] == curr[\"c\"][\"a\"]\n",
    "    sx = prev[\"c\"][\"sx\"] == curr[\"c\"][\"sx\"]\n",
    "    sy = prev[\"c\"][\"sy\"] == curr[\"c\"][\"sy\"]\n",
    "    \n",
    "    return And(v, a, sx, sy)\n",
    "\n",
    "timed = lambda prev, curr: And([b_timed(prev, curr, b) for b in prev if \"b\" in b] + [c_timed(prev, curr)])"
   ]
  },
  {
   "cell_type": "code",
   "execution_count": 10,
   "metadata": {},
   "outputs": [],
   "source": [
    "def mixed(prev, curr):\n",
    "    uut = And(b_untimed(prev, curr, \"b0\"), b_untimed(prev, curr, \"b1\"), b_timed(prev, curr, \"b2\"))\n",
    "    utu = And(b_untimed(prev, curr, \"b0\"), b_timed(prev, curr, \"b1\"), b_untimed(prev, curr, \"b2\"))\n",
    "    tuu = And(b_timed(prev, curr, \"b0\"), b_untimed(prev, curr, \"b1\"), b_untimed(prev, curr, \"b2\"))\n",
    "    utt = And(b_untimed(prev, curr, \"b0\"), b_timed(prev, curr, \"b1\"), b_timed(prev, curr, \"b2\"))\n",
    "    tut = And(b_timed(prev, curr, \"b0\"), b_untimed(prev, curr, \"b1\"), b_timed(prev, curr, \"b2\"))\n",
    "    ttu = And(b_timed(prev, curr, \"b0\"), b_timed(prev, curr, \"b1\"), b_untimed(prev, curr, \"b2\"))\n",
    "    \n",
    "    return And(Or(uut, utu, tuu, utt, tut, ttu), c_untimed(prev, curr))"
   ]
  },
  {
   "cell_type": "code",
   "execution_count": 11,
   "metadata": {},
   "outputs": [],
   "source": [
    "def eqd(prev, curr):\n",
    "    t1 = curr[\"b0\"][\"t\"]-prev[\"b0\"][\"t\"] == curr[\"b1\"][\"t\"]-prev[\"b1\"][\"t\"]\n",
    "    t2 = curr[\"b1\"][\"t\"]-prev[\"b1\"][\"t\"] == curr[\"b2\"][\"t\"]-prev[\"b2\"][\"t\"]\n",
    "        \n",
    "    return And(t1, t2)"
   ]
  },
  {
   "cell_type": "code",
   "execution_count": 12,
   "metadata": {},
   "outputs": [],
   "source": [
    "trans = lambda prev, curr: And(eqd(prev, curr), Or(untimed(prev, curr), timed(prev, curr), mixed(prev, curr)))"
   ]
  },
  {
   "cell_type": "code",
   "execution_count": 13,
   "metadata": {},
   "outputs": [
    {
     "name": "stdout",
     "output_type": "stream",
     "text": [
      "No we\n"
     ]
    }
   ],
   "source": [
    "num_sectors = 10\n",
    "\n",
    "trace0, trace1 = declare(0), declare(1)\n",
    "solver = Solver()\n",
    "solver.add(init(trace0, num_sectors))\n",
    "solver.add(trans(trace0, trace1))\n",
    "\n",
    "if solver.check() == sat:\n",
    "    print(\"Dere is a we\")\n",
    "else:\n",
    "    print(\"No we\")"
   ]
  }
 ],
 "metadata": {
  "kernelspec": {
   "display_name": "Python 3",
   "language": "python",
   "name": "python3"
  },
  "language_info": {
   "codemirror_mode": {
    "name": "ipython",
    "version": 3
   },
   "file_extension": ".py",
   "mimetype": "text/x-python",
   "name": "python",
   "nbconvert_exporter": "python",
   "pygments_lexer": "ipython3",
   "version": "3.8.3"
  }
 },
 "nbformat": 4,
 "nbformat_minor": 4
}
