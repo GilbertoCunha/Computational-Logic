{
 "cells": [
  {
   "cell_type": "code",
   "execution_count": 1,
   "metadata": {},
   "outputs": [],
   "source": [
    "from z3 import *"
   ]
  },
  {
   "cell_type": "markdown",
   "metadata": {},
   "source": [
    "#### Programa\n",
    "Tentar resolver o problema com INDUÇÃO (não usar lookahead) usando verificação de triplos de Hoare em ciclos\n",
    "\n",
    "```python\n",
    "assume m >= 0 and n >= 0 and r == 0 and x == m and y == n \n",
    "0: while y > 0: \n",
    "      # inv y>=0 and x*y+r == m*n\n",
    "1:    if y & 1 == 1: \n",
    "          y , r = y-1 , r+x \n",
    "2:    x , y = x<<1 , y>>1 \n",
    "3: assert r == m * n \n",
    "```"
   ]
  },
  {
   "cell_type": "markdown",
   "metadata": {},
   "source": [
    "# 1. Provar que o programa termina\n",
    "\n",
    "O variante do programa pode ser definido como:\n",
    "\n",
    "$$ V \\equiv y $$"
   ]
  },
  {
   "cell_type": "markdown",
   "metadata": {},
   "source": [
    "Utilizando $k$-indução queremos então provar, para um dado traço $\\alpha = \\{ \\alpha_i \\; | \\; i = 0, 1, \\dots, | \\alpha |-1 \\}$, que o programa termina (ou seja, a variável $\\mathtt{pc}$ toma o valor $3$). Para tal ocorrer, as seguintes propriedades têm de ser verificadas:\n",
    "    \n",
    "- Positivo: \n",
    "$$ \\forall_{i}. \\alpha_i \\in \\alpha, \\; V_i \\ge 0$$\n",
    "\n",
    "- Decrescente:\n",
    "$$ \\forall_{i}. \\alpha_i \\in \\left( \\alpha \\setminus \\alpha_{|\\alpha|-1} \\right), \\; V_{i+1} < V_i $$\n",
    "\n",
    "- Útil:\n",
    "$$ V = 0 \\rightarrow \\left( \\; \\mathtt{pc} = 0 \\wedge y \\le 0 \\; \\right) $$"
   ]
  },
  {
   "cell_type": "code",
   "execution_count": 2,
   "metadata": {},
   "outputs": [],
   "source": [
    "from z3 import *\n",
    "\n",
    "def induction_always(declare, init, trans, var, prop, l):\n",
    "    # Declarar o traço\n",
    "    solver = Solver()\n",
    "    trace = {i: declare(i) for i in range(2)}\n",
    "    \n",
    "    # Testar caso de base\n",
    "    solver.add(init(trace[0]))\n",
    "    if prop == \"decreases\":\n",
    "        solver.add(Not(var(trace[0], trans, l)))\n",
    "    else:\n",
    "        solver.add(Not(var(trace[0])))\n",
    "    \n",
    "    if solver.check() == sat:\n",
    "        print(\"Induction breaks down in the initial trace.\")\n",
    "        m = solver.model()\n",
    "        \n",
    "        for v in trace[0]:\n",
    "            print(v, \"=\", m[trace[0][v]])\n",
    "        return\n",
    "    elif solver.check() != unsat:\n",
    "        return\n",
    "\n",
    "    # Testar caso indutivo\n",
    "    solver = Solver()\n",
    "    solver.add(init(trace[0]))\n",
    "    \n",
    "    if prop == \"decreases\":\n",
    "        solver.add(var(trace[0], trans, l))\n",
    "    else:\n",
    "        solver.add(var(trace[0]))\n",
    "    solver.add(trans(trace[0], trace[1]))\n",
    "    if prop == \"decreases\":\n",
    "        solver.add(Not(var(trace[1], trans, l)))\n",
    "    else:\n",
    "        solver.add(Not(var(trace[1])))\n",
    "    \n",
    "    if solver.check() == sat:\n",
    "        print(\"Induction breaks down in the inductive trace.\")\n",
    "        m = solver.model()\n",
    "        \n",
    "        for v in trace[0]:\n",
    "            print(v, \"=\", m[trace[0][v]])\n",
    "        return\n",
    "    elif solver.check() == unsat:\n",
    "        print(f\"The property \\\"{prop}\\\" holds.\")"
   ]
  },
  {
   "cell_type": "code",
   "execution_count": 3,
   "metadata": {},
   "outputs": [],
   "source": [
    "def declare(i):\n",
    "    trace = {}\n",
    "    trace[\"x\"] = BitVec(f\"x_{i}\", 16)\n",
    "    trace[\"y\"] = BitVec(f\"y_{i}\", 16)\n",
    "    trace[\"r\"] = BitVec(f\"r_{i}\", 16)\n",
    "    trace[\"m\"] = BitVec(f\"m_{i}\", 16)\n",
    "    trace[\"n\"] = BitVec(f\"n_{i}\", 16)\n",
    "    trace[\"pc\"] = BitVec(f\"pc_{i}\", 16)\n",
    "    \n",
    "    return trace\n",
    "\n",
    "def init(trace):\n",
    "    r1 = And(trace[\"pc\"]==0)\n",
    "    r2 = And(trace[\"r\"]==0, trace[\"m\"]>0, trace[\"n\"]>0, trace[\"x\"]==trace[\"m\"], trace[\"y\"]==trace[\"n\"])\n",
    "    return And(r1, r2)\n",
    "\n",
    "def trans(prev, curr):\n",
    "    # Condições para pc == 0\n",
    "    cond1_pc0 = And(prev[\"pc\"]==0, prev[\"y\"]>0, curr[\"x\"]==prev[\"x\"], curr[\"y\"]==prev[\"y\"],\n",
    "                    curr[\"m\"]==prev[\"m\"], curr[\"n\"]==prev[\"n\"], curr[\"r\"]==prev[\"r\"],\n",
    "                    curr[\"pc\"]==1)\n",
    "    cond2_pc0 = And(prev[\"pc\"]==0, Not(prev[\"y\"]>0), curr[\"x\"]==prev[\"x\"], curr[\"y\"]==prev[\"y\"],\n",
    "                    curr[\"m\"]==prev[\"m\"], curr[\"n\"]==prev[\"n\"], curr[\"r\"]==prev[\"r\"],\n",
    "                    curr[\"pc\"]==3)\n",
    "    cond_pc0 = Or(cond1_pc0, cond2_pc0)\n",
    "    \n",
    "    # Condições para pc == 1\n",
    "    cond1_pc1 = And(prev[\"pc\"]==1, prev[\"y\"]&1==1, curr[\"x\"]==prev[\"x\"], curr[\"y\"]==prev[\"y\"]-1,\n",
    "                    curr[\"m\"]==prev[\"m\"], curr[\"n\"]==prev[\"n\"], curr[\"r\"]==prev[\"r\"]+prev[\"x\"],\n",
    "                    curr[\"pc\"]==2)\n",
    "    cond2_pc1 = And(prev[\"pc\"]==1, Not(prev[\"y\"]&1==1), curr[\"x\"]==prev[\"x\"], curr[\"y\"]==prev[\"y\"],\n",
    "                    curr[\"m\"]==prev[\"m\"], curr[\"n\"]==prev[\"n\"], curr[\"r\"]==prev[\"r\"],\n",
    "                    curr[\"pc\"]==2)\n",
    "    cond_pc1 = Or(cond1_pc1, cond2_pc1)\n",
    "    \n",
    "    # Condições para pc == 2\n",
    "    cond_pc2 = And(prev[\"pc\"]==2, curr[\"x\"]==prev[\"x\"]<<1, curr[\"y\"]==prev[\"y\"]>>1,\n",
    "                   curr[\"m\"]==prev[\"m\"], curr[\"n\"]==prev[\"n\"], curr[\"r\"]==prev[\"r\"],\n",
    "                   curr[\"pc\"]==0)\n",
    "    \n",
    "    # Condições para pc == 3\n",
    "    cond_pc3 = And(prev[\"pc\"]==3, curr[\"x\"]==prev[\"x\"], curr[\"y\"]==prev[\"y\"],\n",
    "                   curr[\"m\"]==prev[\"m\"], curr[\"n\"]==prev[\"n\"], curr[\"r\"]==prev[\"r\"],\n",
    "                   curr[\"pc\"]==prev[\"pc\"])\n",
    "    \n",
    "    return Or(cond_pc0, cond_pc1, cond_pc2, cond_pc3)"
   ]
  },
  {
   "cell_type": "code",
   "execution_count": 4,
   "metadata": {},
   "outputs": [],
   "source": [
    "def trans_(prev, curr):\n",
    "    # Condições para pc == 0\n",
    "    cycle1 = And(prev[\"y\"]&1!=1, curr[\"y\"]==prev[\"y\"]>>1, curr[\"x\"]==prev[\"x\"]<<1,\n",
    "                 curr[\"r\"]==prev[\"r\"])\n",
    "    cycle2 = And(prev[\"y\"]&1==1, curr[\"y\"]==(prev[\"y\"]-1)>>1, curr[\"r\"]==prev[\"r\"]+prev[\"x\"],\n",
    "                 curr[\"x\"]==prev[\"x\"]<<1)\n",
    "    cond1_pc0 = And(prev[\"pc\"]==0, curr[\"m\"]==prev[\"m\"], curr[\"n\"]==prev[\"n\"],\n",
    "                    Or(cycle1, cycle2), curr[\"pc\"]==0)\n",
    "    cond2_pc0 = And(prev[\"pc\"]==0, Not(prev[\"y\"]>0), curr[\"x\"]==prev[\"x\"], curr[\"y\"]==prev[\"y\"],\n",
    "                    curr[\"m\"]==prev[\"m\"], curr[\"n\"]==prev[\"n\"], curr[\"r\"]==prev[\"r\"],\n",
    "                    curr[\"pc\"]==3)\n",
    "    cond_pc0 = Or(cond1_pc0, cond2_pc0)\n",
    "    \n",
    "    # Condições para pc == 3\n",
    "    cond_pc3 = And(prev[\"pc\"]==3, curr[\"x\"]==prev[\"x\"], curr[\"y\"]==prev[\"y\"],\n",
    "                   curr[\"m\"]==prev[\"m\"], curr[\"n\"]==prev[\"n\"], curr[\"r\"]==prev[\"r\"],\n",
    "                   curr[\"pc\"]==prev[\"pc\"])\n",
    "    \n",
    "    return Or(cond_pc0, cond_pc3)"
   ]
  },
  {
   "cell_type": "code",
   "execution_count": 5,
   "metadata": {},
   "outputs": [],
   "source": [
    "def variant(trace):\n",
    "    return trace[\"y\"]\n",
    "\n",
    "def var_positive(trace):\n",
    "    return variant(trace)>=0\n",
    "\n",
    "def var_decreases(trace, trans, l=3):\n",
    "    traces = {i: declare(-i) for i in range(1, l+1)}\n",
    "    c1 = And([trans(traces[i], traces[i+1]) for i in range(1, l)] + [trans(trace, traces[1])])\n",
    "    c2 = Or(variant(traces[l])<variant(trace), variant(traces[l])==0)\n",
    "    r = ForAll(list(traces[l].values()), Implies(c1, c2))\n",
    "    return r\n",
    "\n",
    "def var_useful(trace):\n",
    "    return Implies(variant(trace)==0, And(trace[\"pc\"]==0, trace[\"y\"]<=0))"
   ]
  },
  {
   "cell_type": "markdown",
   "metadata": {},
   "source": [
    "### Prova com Lookahead"
   ]
  },
  {
   "cell_type": "code",
   "execution_count": 6,
   "metadata": {},
   "outputs": [
    {
     "name": "stdout",
     "output_type": "stream",
     "text": [
      "The property \"positive\" holds.\n",
      "The property \"decreases\" holds.\n",
      "The property \"useful\" holds.\n"
     ]
    }
   ],
   "source": [
    "induction_always(declare, init, trans, var_positive, \"positive\", 3)\n",
    "induction_always(declare, init, trans, var_decreases, \"decreases\", 3)\n",
    "induction_always(declare, init, trans, var_useful, \"useful\", 3)"
   ]
  },
  {
   "cell_type": "markdown",
   "metadata": {},
   "source": [
    "### Prova com Indução"
   ]
  },
  {
   "cell_type": "code",
   "execution_count": 7,
   "metadata": {},
   "outputs": [
    {
     "name": "stdout",
     "output_type": "stream",
     "text": [
      "The property \"positive\" holds.\n",
      "The property \"decreases\" holds.\n",
      "The property \"useful\" holds.\n"
     ]
    }
   ],
   "source": [
    "induction_always(declare, init, trans_, var_positive, \"positive\", 1)\n",
    "induction_always(declare, init, trans_, var_decreases, \"decreases\", 1)\n",
    "induction_always(declare, init, trans_, var_useful, \"useful\", 1)"
   ]
  },
  {
   "cell_type": "markdown",
   "metadata": {},
   "source": [
    "# 2. Correção Parcial"
   ]
  },
  {
   "cell_type": "markdown",
   "metadata": {},
   "source": [
    "## WPC: Havoc"
   ]
  },
  {
   "cell_type": "markdown",
   "metadata": {},
   "source": [
    "$$\\lbrack\\,\\mathsf{P}\\,\\rbrack\\;\\equiv\\; \\phi\\,\\to\\,\\bigwedge\\,a\\,\\centerdot\\,(b[\\upsilon/a]\\,\\to\\,[\\,S\\,][\\upsilon/a])\\,\\land\\,(\\neg b[\\upsilon/a] \\,\\to\\,\\varphi[\\upsilon/a])$$"
   ]
  },
  {
   "cell_type": "markdown",
   "metadata": {},
   "source": [
    "$$ \\phi \\; \\equiv \\; m \\ge 0 \\wedge n \\ge 0 \\wedge x = m \\wedge y = n \\wedge r=0 $$\n",
    "$$ \\varphi \\; \\equiv \\; r = m \\cdot n $$\n",
    "$$ b \\; \\equiv \\; y > 0 $$"
   ]
  },
  {
   "cell_type": "markdown",
   "metadata": {},
   "source": [
    "```python\n",
    "1: if y & 1 == 1: y , r = y-1 , r+x\n",
    "2: x , y = x<<1 , y>>1\n",
    "```\n",
    "\n",
    "$\n",
    "\\begin{array}{l}\n",
    "[{\\sf skip}] = True \\\\\n",
    "[{\\sf assume}\\:\\phi] = True \\\\\n",
    "[{\\sf assert}\\:\\phi] = \\phi \\\\\n",
    "[ x = e ] = True \\\\\n",
    "[(C_1 || C_2)] = [C_1] \\wedge [C_2] \\\\\n",
    "\\\\\n",
    "[{\\sf skip}\\, ; C] = [C] \\\\\n",
    "[{\\sf assume}\\:\\phi\\, ; C] = \\phi \\to [C] \\\\\n",
    "[{\\sf assert}\\:\\phi\\, ; C] = \\phi \\wedge [C] \\\\\n",
    "[ x = e \\, ; C] = [C][e/x] \\\\\n",
    "[(C_1 || C_2)\\, ; C] = [(C_1 ; C) || (C_2 ; C)]\n",
    "\\end{array}\n",
    "$"
   ]
  },
  {
   "cell_type": "markdown",
   "metadata": {},
   "source": [
    "$$ [\\,S\\,] \\equiv \\mathtt{assume} \\; y \\% 1 = 1; \\; y = y-1; \\; r = r+x; \\; x = x \\ll 1 ; \\; y = y \\gg 1; \\; || \\; \\mathtt{assume} \\; y \\% 1 \\neq 1 ;\\; x = x \\ll 1 ; \\; y = y \\gg 1; \\; $$\n",
    "\n",
    "$$ [\\,S\\,] \\equiv \\mathtt{True} $$"
   ]
  },
  {
   "cell_type": "markdown",
   "metadata": {},
   "source": [
    "$$\\lbrack\\,\\mathsf{P}\\,\\rbrack\\;\\equiv\\; \\phi\\,\\to\\,\\bigwedge\\,a\\,\\centerdot\\,(\\neg b[\\upsilon/a] \\,\\to\\,\\varphi[\\upsilon/a])$$"
   ]
  },
  {
   "cell_type": "code",
   "execution_count": 9,
   "metadata": {},
   "outputs": [
    {
     "name": "stdout",
     "output_type": "stream",
     "text": [
      "O programa está correto.\n"
     ]
    }
   ],
   "source": [
    "def pre(trace):\n",
    "    r1 = And(trace[\"m\"]>=0, trace[\"n\"]>=0)\n",
    "    r2 = And(trace[\"y\"]==trace[\"n\"], trace[\"x\"]==trace[\"m\"], trace[\"r\"]==0)\n",
    "    return And(r1, r2)\n",
    "\n",
    "pos = lambda trace: trace[\"r\"] == trace[\"m\"]*trace[\"n\"]\n",
    "b = lambda trace: trace[\"y\"] > 0\n",
    "\n",
    "def havoc(declare, pre, pos, b, S):\n",
    "    trace = declare(0)\n",
    "    solver = Solver()\n",
    "    solver.add(Not(Implies(pre(trace), Implies(Not(b(trace)), pos(trace)))))\n",
    "    \n",
    "    if solver.check() == sat:\n",
    "        print(\"O programa não está correto.\")\n",
    "    else:\n",
    "        print(\"O programa está correto.\")\n",
    "    \n",
    "havoc(declare, pre, pos, b, True)"
   ]
  },
  {
   "cell_type": "markdown",
   "metadata": {},
   "source": [
    "## SPC: Unfold"
   ]
  },
  {
   "cell_type": "code",
   "execution_count": 10,
   "metadata": {},
   "outputs": [
    {
     "data": {
      "text/plain": [
       "14.999955971769559"
      ]
     },
     "execution_count": 10,
     "metadata": {},
     "output_type": "execute_result"
    }
   ],
   "source": [
    "from math import log\n",
    "log(2**15 - 1, 2)"
   ]
  },
  {
   "cell_type": "code",
   "execution_count": 15,
   "metadata": {},
   "outputs": [
    {
     "name": "stdout",
     "output_type": "stream",
     "text": [
      "O programa está correto.\n"
     ]
    }
   ],
   "source": [
    "def bmc_unfold(declare, init, trans, pos, n):\n",
    "    trace = {i: declare(i) for i in range(n)}\n",
    "    solver = Solver()\n",
    "    solver.add(init(trace[0]))\n",
    "    for i in range(n-1):\n",
    "        solver.add(trans(trace[i], trace[i+1]))\n",
    "    solver.add(Not(pos(trace[n-1])))\n",
    "    \n",
    "    if solver.check() == sat:\n",
    "        print(\"O programa está incorreto.\")\n",
    "        m = solver.model()\n",
    "        \n",
    "        for v in trace[0]:\n",
    "            print(v, \"=\", m[trace[0][v]])\n",
    "    else:\n",
    "        print(\"O programa está correto.\")\n",
    "        \n",
    "bmc_unfold(declare, init, trans_, pos, 16)"
   ]
  },
  {
   "cell_type": "code",
   "execution_count": null,
   "metadata": {},
   "outputs": [],
   "source": []
  }
 ],
 "metadata": {
  "kernelspec": {
   "display_name": "Python 3",
   "language": "python",
   "name": "python3"
  },
  "language_info": {
   "codemirror_mode": {
    "name": "ipython",
    "version": 3
   },
   "file_extension": ".py",
   "mimetype": "text/x-python",
   "name": "python",
   "nbconvert_exporter": "python",
   "pygments_lexer": "ipython3",
   "version": "3.8.6"
  }
 },
 "nbformat": 4,
 "nbformat_minor": 4
}
