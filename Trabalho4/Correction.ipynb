{
 "cells": [
  {
   "cell_type": "code",
   "execution_count": 1,
   "metadata": {},
   "outputs": [],
   "source": [
    "from z3 import *"
   ]
  },
  {
   "cell_type": "markdown",
   "metadata": {},
   "source": [
    "## Programa\n",
    "\n",
    "```python\n",
    "assume m >= 0 and n >= 0 and r == 0 and x == m and y == n \n",
    "0: while y > 0:\n",
    "1:    if y & 1 == 1: \n",
    "          y , r = y-1 , r+x \n",
    "2:    x , y = x<<1 , y>>1 \n",
    "3: assert r == m * n \n",
    "```"
   ]
  },
  {
   "cell_type": "markdown",
   "metadata": {},
   "source": [
    "# 1. Provar que o programa termina\n",
    "\n",
    "O variante do programa pode ser definido como:\n",
    "\n",
    "$$ V ( \\alpha_i ) \\equiv y_i $$"
   ]
  },
  {
   "cell_type": "markdown",
   "metadata": {},
   "source": [
    "Utilizando indução com um lookahead de $l$ queremos então provar, para um dado traço $\\alpha = \\{ \\alpha_i \\; | \\; i = 0, 1, \\dots, k-1 \\}$ de um FOTS, que o programa termina (ou seja, a variável $\\mathtt{pc}$ toma o valor $3$).\n",
    "\n",
    "Este traço é gerado a partir da seguinte forma:\n",
    "\n",
    "$$\n",
    "\\alpha \\equiv \\mathtt{init} (\\alpha_0) \\; \\wedge \\; \\forall_{i \\in \\{ 0, 1, \\, \\dots \\, , k - 2 \\}}, \\;  \\mathtt{trans} (\\alpha_i, \\alpha_{i+1})\n",
    "$$\n",
    "\n",
    "Para tal ocorrer, as seguintes propriedades têm de ser verificadas:\n",
    "    \n",
    "- Positivo: \n",
    "\n",
    "$$ \\forall_{i}. \\alpha_i \\in \\alpha, \\; V_i (\\alpha) \\ge 0$$\n",
    "\n",
    "- Decrescente: \n",
    "\n",
    "$$ \\forall_{i}. \\alpha_i \\in \\left( \\alpha \\setminus \\alpha_{k-1} \\right), \\; V (\\alpha_{i+l}) < V (\\alpha_i) $$\n",
    "\n",
    "- Útil:\n",
    "\n",
    "$$ V (\\alpha_i) = 0 \\rightarrow \\left( \\; \\mathtt{pc}_{i+l} = 3 \\; \\right) $$"
   ]
  },
  {
   "cell_type": "markdown",
   "metadata": {},
   "source": [
    "### Implementação indução com lookahead"
   ]
  },
  {
   "cell_type": "code",
   "execution_count": 2,
   "metadata": {},
   "outputs": [],
   "source": [
    "def induction_always(declare, init, trans, var, prop, l, bits=16):\n",
    "    # Declarar o traço\n",
    "    solver = Solver()\n",
    "    trace = {i: declare(i, bits) for i in range(2)}\n",
    "    \n",
    "    # Testar caso de base\n",
    "    solver.add(init(trace[0]))\n",
    "    solver.add(Not(var(trace[0], trans, l)))\n",
    "    \n",
    "    if solver.check() == sat:\n",
    "        print(\"Induction breaks down in the initial trace.\")\n",
    "        m = solver.model()\n",
    "        \n",
    "        for v in trace[0]:\n",
    "            print(v, \"=\", m[trace[0][v]])\n",
    "        return\n",
    "    elif solver.check() != unsat:\n",
    "        return\n",
    "\n",
    "    # Testar caso indutivo\n",
    "    solver = Solver()\n",
    "    solver.add(var(trace[0], trans, l))\n",
    "    solver.add(Not(var(trace[0], trans, l)))\n",
    "    \n",
    "    if solver.check() == sat:\n",
    "        print(\"Induction breaks down in the inductive trace.\")\n",
    "        m = solver.model()\n",
    "        \n",
    "        for v in trace[0]:\n",
    "            print(v, \"=\", m[trace[0][v]])\n",
    "        return\n",
    "    elif solver.check() == unsat:\n",
    "        print(f\"The property \\\"{prop}\\\" holds.\")"
   ]
  },
  {
   "cell_type": "markdown",
   "metadata": {},
   "source": [
    "Podemos então definir a geração do traço da seguinte forma:\n",
    "\n",
    "$ \\mathtt{init}(\\alpha_i) \\; \\equiv \\; \\mathtt{pc}_i = 0 \\; \\wedge \\; r_i = 0 \\; \\wedge \\; m_i \\ge 0 \\; \\wedge \\; n_i \\ge 0 \\; \\wedge \\; x_i = m_i \\; \\wedge \\; y_i = n_i $\n",
    "\n",
    "$ \\mathtt{trans}_0(\\alpha_i, \\alpha_{i+1}) \\; \\equiv \\; \\left[ \\mathtt{pc}_i = 0 \\; \\wedge \\; y_i > 0 \\; \\wedge \\; x_{i+1} = x \\; \\wedge \\; y_{i+1} = y \\; \\wedge \\; m_{i+1} = m_i \\; \\wedge \\; n_{i+1} = n_i \\; \\wedge \\; r_{i+1} = r_i \\; \\wedge \\; \\mathtt{pc}_{i+1} = 1 \\right] \\vee \\left[ \\mathtt{pc}_i = 0 \\; \\wedge \\; y_i \\le 0 \\; \\wedge \\; x_{i+1} = x \\; \\wedge \\; y_{i+1} = y \\; \\wedge \\; m_{i+1} = m_i \\; \\wedge \\; n_{i+1} = n_i \\; \\wedge \\; r_{i+1} = r_i \\; \\wedge \\; \\mathtt{pc}_{i+1} = 3 \\right] $\n",
    "\n",
    "$ \\mathtt{trans}_1(\\alpha_i, \\alpha_{i+1}) \\; \\equiv \\; \\left[ \\mathtt{pc}_i = 1 \\; \\wedge \\; y_i \\& 1 = 1 \\; \\wedge \\; x_{i+1} = x \\; \\wedge \\; y_{i+1} = y_i-1 \\; \\wedge \\; m_{i+1} = m_i \\; \\wedge \\; n_{i+1} = n_i \\; \\wedge \\; r_{i+1} = r_i + x_i \\; \\wedge \\; \\mathtt{pc}_{i+1} = 2 \\right] \\vee \\left[ \\mathtt{pc}_i = 1 \\; \\wedge \\; y_i \\& 1 \\neq 1 \\; \\wedge \\; x_{i+1} = x \\; \\wedge \\; y_{i+1} = y_i \\; \\wedge \\; m_{i+1} = m_i \\; \\wedge \\; n_{i+1} = n_i \\; \\wedge \\; r_{i+1} = r_i \\; \\wedge \\; \\mathtt{pc}_{i+1} = 2 \\right] $\n",
    "\n",
    "$ \\mathtt{trans}_2(\\alpha_i, \\alpha_{i+1}) \\; \\equiv \\; \\mathtt{pc}_i = 2 \\; \\wedge \\; x_{i+1} = x_i \\gg 1 \\; \\wedge \\; y_{i+1} = y_i \\ll 1 \\; \\wedge \\; m_{i+1} = m_i \\; \\wedge \\; n_{i+1} = n_i \\; \\wedge \\; r_{i+1} = r_i \\; \\wedge \\; \\mathtt{pc}_{i+1} = 0 $\n",
    "\n",
    "$ \\mathtt{trans}_3(\\alpha_i, \\alpha_{i+1}) \\; \\equiv \\; \\mathtt{pc}_i = 3 \\; \\wedge \\; x_{i+1} = x_i \\; \\wedge \\; y_{i+1} = y_i \\; \\wedge \\; m_{i+1} = m_i \\; \\wedge \\; n_{i+1} = n_i \\; \\wedge \\; r_{i+1} = r_i \\wedge \\mathtt{pc}_{i+1} = 3 $\n",
    "\n",
    "$ \\mathtt{trans}(\\alpha_i, \\alpha_{i+1}) \\; \\equiv \\; \\mathtt{trans}_0(\\alpha_i, \\alpha_{i+1}) \\wedge \\mathtt{trans}_1(\\alpha_i, \\alpha_{i+1}) \\wedge \\mathtt{trans}_2(\\alpha_i, \\alpha_i+1) \\wedge \\mathtt{trans}_3(\\alpha_i, \\alpha_{i+1})$"
   ]
  },
  {
   "cell_type": "code",
   "execution_count": 3,
   "metadata": {},
   "outputs": [],
   "source": [
    "def declare(i, bits=16):\n",
    "    trace = {}\n",
    "    trace[\"x\"] = BitVec(f\"x_{i}\", bits)\n",
    "    trace[\"y\"] = BitVec(f\"y_{i}\", bits)\n",
    "    trace[\"r\"] = BitVec(f\"r_{i}\", bits)\n",
    "    trace[\"m\"] = BitVec(f\"m_{i}\", bits)\n",
    "    trace[\"n\"] = BitVec(f\"n_{i}\", bits)\n",
    "    trace[\"pc\"] = BitVec(f\"pc_{i}\", bits)\n",
    "    \n",
    "    return trace\n",
    "\n",
    "def init(trace):\n",
    "    r1 = And(trace[\"pc\"]==0)\n",
    "    r2 = And(trace[\"r\"]==0, trace[\"m\"]>=0, trace[\"n\"]>=0, trace[\"x\"]==trace[\"m\"], trace[\"y\"]==trace[\"n\"])\n",
    "    return And(r1, r2)\n",
    "\n",
    "def trans(prev, curr):\n",
    "    # Condições para pc == 0\n",
    "    cond1_pc0 = And(prev[\"pc\"]==0, prev[\"y\"]>0, curr[\"x\"]==prev[\"x\"], curr[\"y\"]==prev[\"y\"],\n",
    "                    curr[\"m\"]==prev[\"m\"], curr[\"n\"]==prev[\"n\"], curr[\"r\"]==prev[\"r\"],\n",
    "                    curr[\"pc\"]==1)\n",
    "    cond2_pc0 = And(prev[\"pc\"]==0, Not(prev[\"y\"]>0), curr[\"x\"]==prev[\"x\"], curr[\"y\"]==prev[\"y\"],\n",
    "                    curr[\"m\"]==prev[\"m\"], curr[\"n\"]==prev[\"n\"], curr[\"r\"]==prev[\"r\"],\n",
    "                    curr[\"pc\"]==3)\n",
    "    cond_pc0 = Or(cond1_pc0, cond2_pc0)\n",
    "    \n",
    "    # Condições para pc == 1\n",
    "    cond1_pc1 = And(prev[\"pc\"]==1, prev[\"y\"]&1==1, curr[\"x\"]==prev[\"x\"], curr[\"y\"]==prev[\"y\"]-1,\n",
    "                    curr[\"m\"]==prev[\"m\"], curr[\"n\"]==prev[\"n\"], curr[\"r\"]==prev[\"r\"]+prev[\"x\"],\n",
    "                    curr[\"pc\"]==2)\n",
    "    cond2_pc1 = And(prev[\"pc\"]==1, Not(prev[\"y\"]&1==1), curr[\"x\"]==prev[\"x\"], curr[\"y\"]==prev[\"y\"],\n",
    "                    curr[\"m\"]==prev[\"m\"], curr[\"n\"]==prev[\"n\"], curr[\"r\"]==prev[\"r\"],\n",
    "                    curr[\"pc\"]==2)\n",
    "    cond_pc1 = Or(cond1_pc1, cond2_pc1)\n",
    "    \n",
    "    # Condições para pc == 2\n",
    "    cond_pc2 = And(prev[\"pc\"]==2, curr[\"x\"]==prev[\"x\"]<<1, curr[\"y\"]==prev[\"y\"]>>1,\n",
    "                   curr[\"m\"]==prev[\"m\"], curr[\"n\"]==prev[\"n\"], curr[\"r\"]==prev[\"r\"],\n",
    "                   curr[\"pc\"]==0)\n",
    "    \n",
    "    # Condições para pc == 3\n",
    "    cond_pc3 = And(prev[\"pc\"]==3, curr[\"x\"]==prev[\"x\"], curr[\"y\"]==prev[\"y\"],\n",
    "                   curr[\"m\"]==prev[\"m\"], curr[\"n\"]==prev[\"n\"], curr[\"r\"]==prev[\"r\"],\n",
    "                   curr[\"pc\"]==prev[\"pc\"], Not(prev[\"y\"]>0))\n",
    "    \n",
    "    return Or(cond_pc0, cond_pc1, cond_pc2, cond_pc3)"
   ]
  },
  {
   "cell_type": "code",
   "execution_count": 4,
   "metadata": {},
   "outputs": [],
   "source": [
    "def variant(trace):\n",
    "    return trace[\"y\"]\n",
    "\n",
    "def var_positive(trace, trans, l=3):\n",
    "    traces = {i: declare(-i) for i in range(1, l+1)}\n",
    "    c1 = And([trans(traces[i], traces[i+1]) for i in range(1, l)] + [trans(trace, traces[1])])\n",
    "    c2 = variant(traces[l])>=0\n",
    "    r = ForAll(list(traces[l].values()), Implies(c1, c2))\n",
    "    return r\n",
    "\n",
    "def var_decreases(trace, trans, l=3):\n",
    "    traces = {i: declare(-i) for i in range(1, l+1)}\n",
    "    c1 = And([trans(traces[i], traces[i+1]) for i in range(1, l)] + [trans(trace, traces[1])])\n",
    "    c2 = Or(variant(traces[l])<variant(trace), variant(traces[l])==0)\n",
    "    r = ForAll(list(traces[l].values()), Implies(c1, c2))\n",
    "    return r\n",
    "\n",
    "def var_useful(trace, trans, l):\n",
    "    traces = {i: declare(-i) for i in range(1, l+1)}\n",
    "    c1 = And([trans(traces[i], traces[i+1]) for i in range(1, l)] + [trans(trace, traces[1])])\n",
    "    c2 = Implies(variant(traces[l])==0, traces[l][\"pc\"]==3)\n",
    "    r = ForAll(list(traces[l].values()), Implies(c1, c2))\n",
    "    return r"
   ]
  },
  {
   "cell_type": "markdown",
   "metadata": {},
   "source": [
    "### Prova por Indução com Lookahead"
   ]
  },
  {
   "cell_type": "code",
   "execution_count": 5,
   "metadata": {},
   "outputs": [
    {
     "name": "stdout",
     "output_type": "stream",
     "text": [
      "The property \"positive\" holds.\n",
      "The property \"decreases\" holds.\n",
      "The property \"useful\" holds.\n"
     ]
    }
   ],
   "source": [
    "bits = 16\n",
    "induction_always(declare, init, trans, var_positive, \"positive\", 1, bits)\n",
    "induction_always(declare, init, trans, var_decreases, \"decreases\", 3, bits)\n",
    "induction_always(declare, init, trans, var_useful, \"useful\", 4, bits)"
   ]
  },
  {
   "cell_type": "markdown",
   "metadata": {},
   "source": [
    "# 2. Correção Parcial"
   ]
  },
  {
   "cell_type": "markdown",
   "metadata": {},
   "source": [
    "## 2.1 - Havoc"
   ]
  },
  {
   "cell_type": "markdown",
   "metadata": {},
   "source": [
    "$ [\\mathtt{P}] \\; \\equiv \\; \\phi \\to \\theta \\wedge \\forall \\vec{x}. \\, (\\,(b \\wedge \\theta \\to [C\\;; {\\sf assert}\\; \\theta ]) \\wedge (\\neg b \\wedge \\theta \\to \\psi )\\,)\n",
    "$\n",
    "\n",
    "$ \\phi \\; \\equiv \\; m \\ge 0 \\; \\wedge \\; n \\ge 0 \\; \\wedge \\; x = m \\; \\wedge \\; y = n \\; \\wedge \\; r = 0 $\n",
    "\n",
    "$ \\theta \\; \\equiv \\; y \\ge 0 \\; \\wedge \\; x \\cdot y + r = m \\cdot n $\n",
    "\n",
    "$ b \\; \\equiv \\; y > 0 $\n",
    "\n",
    "$ \\psi \\; \\equiv \\; r = m \\cdot n $\n",
    "\n",
    "$ f \\; \\equiv \\; y \\& 1 = 1 $\n",
    "\n",
    "$ [C\\;; {\\sf assert}\\; \\theta ] \\; \\equiv \\; [ (C_1||C_2) ;{\\sf assert}\\;\\theta ] = [C_1\\;; {\\sf assert}\\; \\theta ] \\; \\wedge \\; [C_2\\;; {\\sf assert}\\; \\theta ] = \\big( f \\to \\theta[x/x\\gg1][y/(y-1)\\ll1][r/r+x] \\big) \\; \\wedge \\; \\big( \\neg f \\to \\theta[x/x\\gg1][y/\\ll1] \\big) $"
   ]
  },
  {
   "cell_type": "markdown",
   "metadata": {},
   "source": [
    "### Implementação havoc"
   ]
  },
  {
   "cell_type": "code",
   "execution_count": 9,
   "metadata": {},
   "outputs": [],
   "source": [
    "def havoc(bits=16):\n",
    "    m, n, r, x, y = BitVecs(\"m n r x y\", bits)\n",
    "\n",
    "    pre = And(m >= 0, n >= 0, r == 0, x == m, y == n)\n",
    "    pos = r == m * n\n",
    "    inv = And(y >= 0, x*y+r == m*n)\n",
    "    b = y > 0\n",
    "    if_cond = y & 1 == 1\n",
    "\n",
    "    cycle1 = Implies(if_cond, substitute(substitute(substitute(inv, (x, x<<1)), (y, (y-1)>>1)), (r, r+x)))\n",
    "    cycle2 = Implies(Not(if_cond), substitute(substitute(inv, (x, x<<1)), (y, y>>1)))\n",
    "\n",
    "    start = inv\n",
    "    cycle = ForAll([x, y, r], Implies(And(b, inv), And(cycle1, cycle2)))\n",
    "    end = Implies(And(Not(b), inv), pos)\n",
    "\n",
    "    prove(Implies(pre, And(start, cycle, end)))"
   ]
  },
  {
   "cell_type": "markdown",
   "metadata": {},
   "source": [
    "### Prova havoc"
   ]
  },
  {
   "cell_type": "code",
   "execution_count": 10,
   "metadata": {},
   "outputs": [
    {
     "name": "stdout",
     "output_type": "stream",
     "text": [
      "proved\n"
     ]
    }
   ],
   "source": [
    "bits = 16\n",
    "havoc(bits)"
   ]
  },
  {
   "cell_type": "markdown",
   "metadata": {},
   "source": [
    "## 2.2 - Unfold"
   ]
  },
  {
   "cell_type": "markdown",
   "metadata": {},
   "source": [
    "Cada corpo do ciclo que é executado deste programa faz a variável `y` ser pelo menos dividida por dois `y'<=y/2`, logo, o programa termina após o maior valor que `y` pode tomar ser dividido vezes suficientes para ser lhe ser atribuído um valor inferior a 1. Seja $N$ o número de vezes que o corpo do ciclo deve ser executado para terminar:\n",
    "\n",
    "$$  \\frac{ \\left| y \\right|_{\\mathtt{maj}} }{ 2^{ \\left| N \\right|_{\\mathtt{min}} } } \\le 1 \\Leftrightarrow 2^{\\left| N \\right|_{\\mathtt{min}}} \\ge \\left| y \\right|_{\\mathtt{maj}} $$\n",
    "\n",
    "Neste programa o maior valor que $y$ pode tomar é $2^{n-1}$, sendo $n$ o número de bits da variável. Logo:\n",
    "\n",
    "$$ 2^{ \\left| N \\right|_{\\mathtt{min}} } \\ge 2^{n-1} \\Leftrightarrow \\left| N \\right|_{\\mathtt{min}} \\ge n-1 , \\; N \\in \\mathbb{Z} \\Rightarrow \\boxed{ \\left| N \\right|_{\\mathtt{min}} = n } $$\n",
    "\n",
    "Utilizando então a estratégia unfold, aproveitando a definição do FOTS acima utilizado, onde o traço deste irá conter a evolução das variáveis $v$ do programa:\n",
    "\n",
    "$$\\mathtt{unfold}(n) \\; \\equiv \\; \\phi[v/\\alpha_0] \\; \\wedge \\; \\bigwedge_{i=0}^{3n-2} \\mathtt{trans}(\\alpha_i, \\alpha_{i+1}) \\; \\wedge \\; \\bigwedge_{i=0}^{3n-1} b[v/\\alpha_{3i}] \\; \\wedge \\; \\psi[v/\\alpha_{3n-1}] $$\n",
    "\n",
    "Então pode-se provar o `unfold` a negar $\\psi$ na expressão anterior, e verificar que o resultado dessa expressão lógica é `unsat`."
   ]
  },
  {
   "cell_type": "markdown",
   "metadata": {},
   "source": [
    "### Implementação unfold"
   ]
  },
  {
   "cell_type": "code",
   "execution_count": 19,
   "metadata": {},
   "outputs": [],
   "source": [
    "def pre(trace):\n",
    "    r1 = And(trace[\"m\"]>=0, trace[\"n\"]>=0)\n",
    "    r2 = And(trace[\"y\"]==trace[\"n\"], trace[\"x\"]==trace[\"m\"], trace[\"r\"]==0)\n",
    "    return And(r1, r2)\n",
    "\n",
    "pos = lambda trace: trace[\"r\"] == trace[\"m\"]*trace[\"n\"]\n",
    "b = lambda trace: trace[\"y\"] > 0\n",
    "\n",
    "def bmc_unfold(declare, trans, pre, b, pos, n, bits=16):\n",
    "    n = 3 * n\n",
    "    trace = {i: declare(i, bits) for i in range(n)}\n",
    "    solver = Solver()\n",
    "    solver.add(pre(trace[0]))\n",
    "    for i in range(n-1):\n",
    "        if i % 3 == 0:\n",
    "            solver.add(b(trace[i]))\n",
    "        solver.add(trans(trace[i], trace[i+1]))\n",
    "    solver.add(Not(pos(trace[n-1])))\n",
    "    \n",
    "    if solver.check() == sat:\n",
    "        print(\"O programa está incorreto.\")\n",
    "        m = solver.model()\n",
    "        \n",
    "        for v in trace[0]:\n",
    "            print(v, \"=\", m[trace[0][v]])\n",
    "    else:\n",
    "        print(\"O programa está correto.\")"
   ]
  },
  {
   "cell_type": "markdown",
   "metadata": {},
   "source": [
    "### Prova unfold"
   ]
  },
  {
   "cell_type": "code",
   "execution_count": 21,
   "metadata": {},
   "outputs": [
    {
     "name": "stdout",
     "output_type": "stream",
     "text": [
      "O programa está correto.\n"
     ]
    }
   ],
   "source": [
    "N, bits = 16, 16\n",
    "bmc_unfold(declare, trans, pre, b, pos, N, bits)"
   ]
  }
 ],
 "metadata": {
  "kernelspec": {
   "display_name": "Python 3",
   "language": "python",
   "name": "python3"
  },
  "language_info": {
   "codemirror_mode": {
    "name": "ipython",
    "version": 3
   },
   "file_extension": ".py",
   "mimetype": "text/x-python",
   "name": "python",
   "nbconvert_exporter": "python",
   "pygments_lexer": "ipython3",
   "version": "3.8.3"
  }
 },
 "nbformat": 4,
 "nbformat_minor": 4
}
