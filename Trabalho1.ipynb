{
 "cells": [
  {
   "cell_type": "code",
   "execution_count": 1,
   "metadata": {},
   "outputs": [],
   "source": [
    "from z3 import *"
   ]
  },
  {
   "cell_type": "markdown",
   "metadata": {},
   "source": [
    "# Horários Semanais"
   ]
  },
  {
   "cell_type": "markdown",
   "metadata": {},
   "source": [
    "Há $P$ projetos, enumerados de $(0, ..., P-1)$. \n",
    "\n",
    "Cada projeto $p$ tem $C_p$ colaboradores $(0, ..., C_p-1)$ dos quais um é líder.\n",
    "\n",
    "Para cada projeto $p$ há $N_p$ reuniões semanais.\n",
    "\n",
    "As reuniões têm de conter sempre o líder e pelo menos $50\\%$ dos colaboradores.\n",
    "\n",
    "As reuniões ocorrem em uma das $S$ salas enumeradas de $(0, ..., S-1)$.\n",
    "\n",
    "Os tempos são representados por slots $(\\mathit{hora}, \\mathit{dia})$."
   ]
  },
  {
   "cell_type": "code",
   "execution_count": 5,
   "metadata": {},
   "outputs": [],
   "source": [
    "class Schedule():\n",
    "    def __init__(self, projects, rooms):\n",
    "        self.rooms = rooms\n",
    "        self.x_in = projects\n",
    "        self.num_meetings = self.projects_to_min_meets()\n",
    "        self.x_in = self.projects_to_tensor()\n",
    "        \n",
    "    def projects_to_min_meets(self):\n",
    "        tensor = {}\n",
    "        for p in self.x_in:\n",
    "            tensor[p.project_id] = p.num_meetings\n",
    "        return tensor\n",
    "        \n",
    "    def projects_to_tensor(self):\n",
    "        tensor = {}\n",
    "        for p in self.x_in:\n",
    "            tensor[p.project_id] = p.collaborators\n",
    "        return tensor\n",
    "\n",
    "\n",
    "class Project():\n",
    "    def __init__(self, project_id, num_meetings, leader, participants):\n",
    "        self.project_id = project_id\n",
    "        self.num_meetings = num_meetings\n",
    "        self.collaborators = [leader] + participants\n",
    "        self.collaborators = self.slots_to_tensor()\n",
    "        \n",
    "    def slots_to_tensor(self):\n",
    "        days = [\"mon\", \"tue\", \"wed\", \"thu\", \"fri\"]\n",
    "        tensor = {}\n",
    "        for i in range(len(self.collaborators)):\n",
    "            tensor[i] = {}\n",
    "            for day in days:\n",
    "                tensor[i][day] = {}\n",
    "                for hour in range(8, 17):\n",
    "                    tensor[i][day][hour] = 0\n",
    "                    for (d, hs, he) in self.collaborators[i]:\n",
    "                        if d == day and hour >= hs and hour < he:\n",
    "                            tensor[i][day][hour] = 1\n",
    "        return tensor"
   ]
  },
  {
   "cell_type": "markdown",
   "metadata": {},
   "source": [
    "## Variáveis do problema"
   ]
  },
  {
   "cell_type": "markdown",
   "metadata": {},
   "source": [
    "$x_{p, c, d, h}$: inteiro que representa a disponibilidade do colaborador $c$ do projeto $p$, onde $c=0$ é o líder, $d$ é o dia e $h$ a hora desse dia\n",
    "\n",
    "$y_{s, d, h, p}$: inteiro que representa a disponibilidade da sala $s$ no dia $d$ e hora $h$ para o projeto $p$.\n",
    "\n",
    "\n",
    "$r_{p, d, h, s}:$ inteiro que representa a existência de uma reunião para o projeto $p$ no dia $d$, hora $h$ e sala $s$."
   ]
  },
  {
   "cell_type": "markdown",
   "metadata": {},
   "source": [
    "## Condições inerentes ao problema"
   ]
  },
  {
   "cell_type": "markdown",
   "metadata": {},
   "source": [
    "1. Todos os valores são inteiros unitários ou nulos:\n",
    "$$ 0 \\le x_{p,c,d,h} \\le 1, \\forall_{p,c,d,h} $$\n",
    "$$ 0 \\le y_{s,d,h,p} \\le 1, \\forall_{s,d,h,p} $$\n",
    "$$ 0 \\le r_{p,d,h,s} \\le 1, \\forall_{p,d,h,s} $$\n",
    "\n",
    "2. Cada sala, por dia e hora, está disponível para reunião de apenas um projeto:\n",
    "$$ \\sum_{p=0}^{P-1} y_{s,d,h,p} = 1, \\forall_{s, d, h} $$\n",
    "\n",
    "3. Cada projeto só pode ter no máximo uma reunião por dia e hora:\n",
    "$$ \\sum_{s=0}^{S-1} r_{p,d,h,s} \\le 1, \\forall_{p,d,h} $$\n",
    "\n",
    "4. Para haver reunião de um projeto numa certa sala, dia e hora, o líder e pelo menos $50\\%$ dos colaboradores devem estar disponíveis e a sala também:\n",
    "$$ r_{p,d,h,s} = 1 \\rightarrow \\left( y_{s,d,h,p} = 1 \\wedge x_{p,0,d,h} = 1 \\wedge \\sum_{c=1}^{C_p-1} x_{p,c,d,h} \\ge \\frac{C_p-1}{2} \\right), \\forall_{p,d,h,s} $$"
   ]
  },
  {
   "cell_type": "markdown",
   "metadata": {},
   "source": [
    "## Condições de input"
   ]
  },
  {
   "cell_type": "markdown",
   "metadata": {},
   "source": [
    "1. A disponibilidade dos colaboradores de cada projeto $x_{p,c,d,h}^{(i)}$ é dada como input do problema:\n",
    "$$ x_{p,c,d,h} = x_{p,c,d,h}^{(i)}, \\forall_{p,c,d,h} $$\n",
    "\n",
    "2. Deve haver um número mínimo de reuniões semanais por projeto $N_p$, dada como input do problema:\n",
    "$$ \\sum_{d=0}^{D-1} \\sum_{h=h_i}^{h_f} \\sum_{s=0}^{S-1} r_{p,s,d,h} \\ge N_p, \\forall_p $$"
   ]
  },
  {
   "cell_type": "markdown",
   "metadata": {},
   "source": [
    "## Condição opcional"
   ]
  },
  {
   "cell_type": "markdown",
   "metadata": {},
   "source": [
    "1. Se possível, marcar no máximo uma reunião por dia:\n",
    "$$ \\sum_{h=h_i}^{h_f} \\sum_{s=0}^{S-1} r_{p,d,h,s} \\le 1, \\forall_{p,d} $$"
   ]
  },
  {
   "cell_type": "code",
   "execution_count": 11,
   "metadata": {},
   "outputs": [],
   "source": [
    "def get_meetings(self):\n",
    "    # Variáveis auxiliares\n",
    "    days = [\"mon\", \"tue\", \"wed\", \"thu\", \"fri\"]\n",
    "    rooms = self.rooms\n",
    "    x_in = self.x_in\n",
    "\n",
    "    solver = Solver()\n",
    "    # Criar os dicionários de inteiros x, y e r descritos anteriormente\n",
    "    x = {p: {c: {d: {h: Int(f'x:{p},{c},{d},{h}') for h in range(8, 17)} for d in days} for c in x_in[p]} for p in x_in}\n",
    "    y = {s: {d: {h: {p: Int(f'y:{s},{d},{h},{p}') for p in x_in} for h in range(8, 17)} for d in days} for s in rooms}\n",
    "    r = {p: {d: {h: {s: Int(f'r:{p},{s},{d},{h}') for s in rooms} for h in range(8, 17)} for d in days} for p in x_in}\n",
    "\n",
    "    # Condição inerente 1 e de input 1\n",
    "    for p in x:\n",
    "        for c in x[p]:\n",
    "            for d in x[p][c]:\n",
    "                for h in x[p][c][d]:\n",
    "                    solver.add(x[p][c][d][h] >= 0, x[p][c][d][h] <= 1)\n",
    "                    solver.add(x[p][c][d][h] == x_in[p][c][d][h])\n",
    "    for s in y:\n",
    "        for d in y[s]:\n",
    "            for h in y[s][d]:\n",
    "                for p in y[s][d][h]:\n",
    "                    solver.add(y[s][d][h][p] <= 1, y[s][d][h][p] >= 0)\n",
    "                    solver.add(r[p][d][h][s] <= 1, r[p][d][h][s] >= 0)\n",
    "\n",
    "    # Condição inerente 2\n",
    "    for s in y:\n",
    "        for d in y[s]:\n",
    "            for h in y[s][d]:\n",
    "                solver.add(sum([y[s][d][h][p] for p in y[s][d][h]]) == 1)\n",
    "                \n",
    "    # Condição inerente 3\n",
    "    for p in r:\n",
    "        for d in r[p]:\n",
    "            for h in r[p][d]:\n",
    "                solver.add(sum([r[p][d][h][s] for s in r[p][d][h]]) <= 1)\n",
    "\n",
    "    # Condição inerente 4\n",
    "    for p in r:\n",
    "        C = len(x_in[p])\n",
    "        for d in r[p]:\n",
    "            for h in r[p][d]:\n",
    "                for s in r[p][d][h]:\n",
    "                    solver.add(Implies(r[p][d][h][s] == 1, x[p][0][d][h] >= 1))\n",
    "                    solver.add(Implies(r[p][d][h][s] == 1, y[s][d][h][p] >= 1))\n",
    "                    solver.add(Implies(r[p][d][h][s] == 1, sum([x[p][c][d][h] for c in range(1, C)]) >= (C-1)/2))\n",
    "                    \n",
    "    # Condição de input 2\n",
    "    for p in r:\n",
    "        N = self.num_meetings[p]\n",
    "        soma = 0\n",
    "        for d in r[p]:\n",
    "            for h in r[p][d]:\n",
    "                for s in r[p][d][h]:\n",
    "                    soma += r[p][d][h][s]\n",
    "        solver.add(soma >= N)\n",
    "        \n",
    "    # Condição opcional de uma reunião máxima por dia\n",
    "    solver.push()\n",
    "    for p in r:\n",
    "        for d in r[p]:\n",
    "            soma = 0\n",
    "            for h in r[p][d]:\n",
    "                for s in r[p][d][h]:\n",
    "                    soma += r[p][d][h][s]\n",
    "            solver.add(soma <= 1)\n",
    "        \n",
    "    if solver.check() == sat:\n",
    "        print(\"This shedule is solvable.\")\n",
    "        return solver.model()\n",
    "    else:\n",
    "        # Condição opcional não verificada\n",
    "        s.pop()\n",
    "        if solver.check() == sat:\n",
    "            print(\"This shedule is solvable with more than one meeting a day.\")\n",
    "            return solver.model()\n",
    "        else:\n",
    "            # Horário insatisfazível\n",
    "            print(\"This schedule is not solvable!\")\n",
    "            return None\n",
    "                    \n",
    "Schedule.get_meetings = get_meetings"
   ]
  },
  {
   "cell_type": "code",
   "execution_count": 9,
   "metadata": {},
   "outputs": [],
   "source": [
    "# Projeto 1\n",
    "leader_1 = [(\"mon\", 9, 11), (\"tue\", 10, 12), (\"wed\", 13, 15)]\n",
    "participants_1 = [\n",
    "    [(\"mon\", 10, 13), (\"tue\", 8, 11), (\"wed\", 11, 14)],\n",
    "    [(\"mon\", 9, 10), (\"wed\", 13, 16), (\"fri\", 9, 13)]\n",
    "]\n",
    "\n",
    "# Projeto 2\n",
    "leader_2 = [(\"wed\", 9, 11), (\"thu\", 10, 12), (\"fri\", 13, 15)]\n",
    "participants_2 = [\n",
    "    [(\"mon\", 10, 13), (\"wed\", 10, 12), (\"thu\", 11, 14)],\n",
    "    [(\"tue\", 9, 10), (\"wed\", 9, 12), (\"fri\", 12, 14)]\n",
    "]\n",
    "\n",
    "# Criar schedule\n",
    "rooms = [\"S_Fis\", \"S_Inf\"]\n",
    "startup = Schedule([Project(\"LC\", 3, leader_1, participants_1), Project(\"InfQ\", 2, leader_2, participants_2)], rooms)"
   ]
  },
  {
   "cell_type": "code",
   "execution_count": 12,
   "metadata": {},
   "outputs": [
    {
     "name": "stdout",
     "output_type": "stream",
     "text": [
      "This shedule is solvable.\n"
     ]
    }
   ],
   "source": [
    "r = startup.get_meetings()\n",
    "r = [tuple(str(elem).split(',')) for elem in r if \"r:\" in str(elem) and r[elem] == 1]\n",
    "r = sorted([(r1.split(':')[1], r3, r4, r2) for (r1, r2, r3, r4) in r])"
   ]
  },
  {
   "cell_type": "code",
   "execution_count": 13,
   "metadata": {},
   "outputs": [
    {
     "name": "stdout",
     "output_type": "stream",
     "text": [
      "[('InfQ', 'thu', '11', 'S_Fis'), ('InfQ', 'wed', '9', 'S_Fis'), ('LC', 'mon', '9', 'S_Fis'), ('LC', 'tue', '10', 'S_Fis'), ('LC', 'wed', '13', 'S_Fis')]\n"
     ]
    }
   ],
   "source": [
    "print(r)"
   ]
  },
  {
   "cell_type": "code",
   "execution_count": null,
   "metadata": {},
   "outputs": [],
   "source": []
  }
 ],
 "metadata": {
  "kernelspec": {
   "display_name": "Python 3",
   "language": "python",
   "name": "python3"
  },
  "language_info": {
   "codemirror_mode": {
    "name": "ipython",
    "version": 3
   },
   "file_extension": ".py",
   "mimetype": "text/x-python",
   "name": "python",
   "nbconvert_exporter": "python",
   "pygments_lexer": "ipython3",
   "version": "3.8.3"
  }
 },
 "nbformat": 4,
 "nbformat_minor": 4
}
