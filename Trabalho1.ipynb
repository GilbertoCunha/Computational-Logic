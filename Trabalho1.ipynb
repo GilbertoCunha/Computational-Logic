{
 "cells": [
  {
   "cell_type": "code",
   "execution_count": 1,
   "metadata": {},
   "outputs": [],
   "source": [
    "%config InlineBackend.figure_format = \"svg\"\n",
    "import matplotlib.pyplot as plt\n",
    "from tqdm import tqdm\n",
    "import numpy as np\n",
    "from z3 import *\n",
    "import time"
   ]
  },
  {
   "cell_type": "markdown",
   "metadata": {},
   "source": [
    "# Problema 1: Horário de uma Startup"
   ]
  },
  {
   "cell_type": "markdown",
   "metadata": {},
   "source": [
    "Há $P$ projetos, enumerados de $(0, ..., P-1)$. \n",
    "\n",
    "Cada projeto $p$ tem $C_p$ colaboradores $(0, ..., C_p-1)$ dos quais um é líder.\n",
    "\n",
    "Para cada projeto $p$ há $N_p$ reuniões semanais.\n",
    "\n",
    "As reuniões têm de conter sempre o líder e pelo menos $50\\%$ dos colaboradores.\n",
    "\n",
    "As reuniões ocorrem em uma das $S$ salas enumeradas de $(0, ..., S-1)$.\n",
    "\n",
    "Os tempos são representados por slots $(\\mathit{hora}, \\mathit{dia})$."
   ]
  },
  {
   "cell_type": "code",
   "execution_count": 5,
   "metadata": {},
   "outputs": [],
   "source": [
    "class Schedule():\n",
    "    def __init__(self, projects, rooms):\n",
    "        self.rooms = rooms\n",
    "        self.x_in = projects\n",
    "        self.num_meetings = self.projects_to_min_meets()\n",
    "        self.x_in = self.projects_to_tensor()\n",
    "        \n",
    "    def projects_to_min_meets(self):\n",
    "        tensor = {}\n",
    "        for p in self.x_in:\n",
    "            tensor[p.project_id] = p.num_meetings\n",
    "        return tensor\n",
    "        \n",
    "    def projects_to_tensor(self):\n",
    "        tensor = {}\n",
    "        for p in self.x_in:\n",
    "            tensor[p.project_id] = p.collaborators\n",
    "        return tensor\n",
    "\n",
    "\n",
    "class Project():\n",
    "    def __init__(self, project_id, num_meetings, leader, participants):\n",
    "        self.project_id = project_id\n",
    "        self.num_meetings = num_meetings\n",
    "        self.collaborators = [leader] + participants\n",
    "        self.collaborators = self.slots_to_tensor()\n",
    "        \n",
    "    def slots_to_tensor(self):\n",
    "        days = [\"mon\", \"tue\", \"wed\", \"thu\", \"fri\"]\n",
    "        tensor = {}\n",
    "        for i in range(len(self.collaborators)):\n",
    "            tensor[i] = {}\n",
    "            for day in days:\n",
    "                tensor[i][day] = {}\n",
    "                for hour in range(8, 17):\n",
    "                    tensor[i][day][hour] = 0\n",
    "                    for (d, hs, he) in self.collaborators[i]:\n",
    "                        if d == day and hour >= hs and hour < he:\n",
    "                            tensor[i][day][hour] = 1\n",
    "        return tensor"
   ]
  },
  {
   "cell_type": "markdown",
   "metadata": {},
   "source": [
    "## Variáveis do problema"
   ]
  },
  {
   "cell_type": "markdown",
   "metadata": {},
   "source": [
    "$x_{p, c, d, h}$: inteiro que representa a disponibilidade do colaborador $c$ do projeto $p$, onde $c=0$ é o líder, $d$ é o dia e $h$ a hora desse dia\n",
    "\n",
    "$y_{s, d, h, p}$: inteiro que representa a disponibilidade da sala $s$ no dia $d$ e hora $h$ para o projeto $p$.\n",
    "\n",
    "\n",
    "$r_{p, d, h, s}:$ inteiro que representa a existência de uma reunião para o projeto $p$ no dia $d$, hora $h$ e sala $s$."
   ]
  },
  {
   "cell_type": "markdown",
   "metadata": {},
   "source": [
    "## Condições inerentes ao problema"
   ]
  },
  {
   "cell_type": "markdown",
   "metadata": {},
   "source": [
    "1. Todos os valores são inteiros unitários ou nulos:\n",
    "$$ 0 \\le x_{p,c,d,h} \\le 1, \\forall_{p,c,d,h} $$\n",
    "$$ 0 \\le y_{s,d,h,p} \\le 1, \\forall_{s,d,h,p} $$\n",
    "$$ 0 \\le r_{p,d,h,s} \\le 1, \\forall_{p,d,h,s} $$\n",
    "\n",
    "2. Cada sala, por dia e hora, está disponível para reunião de apenas um projeto:\n",
    "$$ \\sum_{p=0}^{P-1} y_{s,d,h,p} = 1, \\forall_{s, d, h} $$\n",
    "\n",
    "3. Cada projeto só pode ter no máximo uma reunião por dia e hora:\n",
    "$$ \\sum_{s=0}^{S-1} r_{p,d,h,s} \\le 1, \\forall_{p,d,h} $$\n",
    "\n",
    "4. Para haver reunião de um projeto numa certa sala, dia e hora, o líder e pelo menos $50\\%$ dos colaboradores devem estar disponíveis e a sala também:\n",
    "$$ r_{p,d,h,s} = 1 \\rightarrow \\left( y_{s,d,h,p} = 1 \\wedge x_{p,0,d,h} = 1 \\wedge \\sum_{c=1}^{C_p-1} x_{p,c,d,h} \\ge \\frac{C_p-1}{2} \\right), \\forall_{p,d,h,s} $$"
   ]
  },
  {
   "cell_type": "markdown",
   "metadata": {},
   "source": [
    "## Condições de input"
   ]
  },
  {
   "cell_type": "markdown",
   "metadata": {},
   "source": [
    "1. A disponibilidade dos colaboradores de cada projeto $x_{p,c,d,h}^{(i)}$ é dada como input do problema:\n",
    "$$ x_{p,c,d,h} = x_{p,c,d,h}^{(i)}, \\forall_{p,c,d,h} $$\n",
    "\n",
    "2. Deve haver um número mínimo de reuniões semanais por projeto $N_p$, dada como input do problema:\n",
    "$$ \\sum_{d=0}^{D-1} \\sum_{h=h_i}^{h_f} \\sum_{s=0}^{S-1} r_{p,s,d,h} \\ge N_p, \\forall_p $$"
   ]
  },
  {
   "cell_type": "markdown",
   "metadata": {},
   "source": [
    "## Condição opcional"
   ]
  },
  {
   "cell_type": "markdown",
   "metadata": {},
   "source": [
    "1. Se possível, marcar no máximo uma reunião por dia:\n",
    "$$ \\sum_{h=h_i}^{h_f} \\sum_{s=0}^{S-1} r_{p,d,h,s} \\le 1, \\forall_{p,d} $$"
   ]
  },
  {
   "cell_type": "code",
   "execution_count": 11,
   "metadata": {},
   "outputs": [],
   "source": [
    "def get_meetings(self):\n",
    "    # Variáveis auxiliares\n",
    "    days = [\"mon\", \"tue\", \"wed\", \"thu\", \"fri\"]\n",
    "    rooms = self.rooms\n",
    "    x_in = self.x_in\n",
    "\n",
    "    solver = Solver()\n",
    "    # Criar os dicionários de inteiros x, y e r descritos anteriormente\n",
    "    x = {p: {c: {d: {h: Int(f'x:{p},{c},{d},{h}') for h in range(8, 17)} for d in days} for c in x_in[p]} for p in x_in}\n",
    "    y = {s: {d: {h: {p: Int(f'y:{s},{d},{h},{p}') for p in x_in} for h in range(8, 17)} for d in days} for s in rooms}\n",
    "    r = {p: {d: {h: {s: Int(f'r:{p},{s},{d},{h}') for s in rooms} for h in range(8, 17)} for d in days} for p in x_in}\n",
    "\n",
    "    # Condição inerente 1 e de input 1\n",
    "    for p in x:\n",
    "        for c in x[p]:\n",
    "            for d in x[p][c]:\n",
    "                for h in x[p][c][d]:\n",
    "                    solver.add(x[p][c][d][h] >= 0, x[p][c][d][h] <= 1)\n",
    "                    solver.add(x[p][c][d][h] == x_in[p][c][d][h])\n",
    "    for s in y:\n",
    "        for d in y[s]:\n",
    "            for h in y[s][d]:\n",
    "                for p in y[s][d][h]:\n",
    "                    solver.add(y[s][d][h][p] <= 1, y[s][d][h][p] >= 0)\n",
    "                    solver.add(r[p][d][h][s] <= 1, r[p][d][h][s] >= 0)\n",
    "\n",
    "    # Condição inerente 2\n",
    "    for s in y:\n",
    "        for d in y[s]:\n",
    "            for h in y[s][d]:\n",
    "                solver.add(sum([y[s][d][h][p] for p in y[s][d][h]]) == 1)\n",
    "                \n",
    "    # Condição inerente 3\n",
    "    for p in r:\n",
    "        for d in r[p]:\n",
    "            for h in r[p][d]:\n",
    "                solver.add(sum([r[p][d][h][s] for s in r[p][d][h]]) <= 1)\n",
    "\n",
    "    # Condição inerente 4\n",
    "    for p in r:\n",
    "        C = len(x_in[p])\n",
    "        for d in r[p]:\n",
    "            for h in r[p][d]:\n",
    "                for s in r[p][d][h]:\n",
    "                    solver.add(Implies(r[p][d][h][s] == 1, x[p][0][d][h] >= 1))\n",
    "                    solver.add(Implies(r[p][d][h][s] == 1, y[s][d][h][p] >= 1))\n",
    "                    solver.add(Implies(r[p][d][h][s] == 1, sum([x[p][c][d][h] for c in range(1, C)]) >= (C-1)/2))\n",
    "                    \n",
    "    # Condição de input 2\n",
    "    for p in r:\n",
    "        N = self.num_meetings[p]\n",
    "        soma = 0\n",
    "        for d in r[p]:\n",
    "            for h in r[p][d]:\n",
    "                for s in r[p][d][h]:\n",
    "                    soma += r[p][d][h][s]\n",
    "        solver.add(soma >= N)\n",
    "        \n",
    "    # Condição opcional de uma reunião máxima por dia\n",
    "    solver.push()\n",
    "    for p in r:\n",
    "        for d in r[p]:\n",
    "            soma = 0\n",
    "            for h in r[p][d]:\n",
    "                for s in r[p][d][h]:\n",
    "                    soma += r[p][d][h][s]\n",
    "            solver.add(soma <= 1)\n",
    "        \n",
    "    if solver.check() == sat:\n",
    "        print(\"This schedule is solvable.\")\n",
    "        return solver.model()\n",
    "    else:\n",
    "        # Condição opcional não verificada\n",
    "        s.pop()\n",
    "        if solver.check() == sat:\n",
    "            print(\"This schedule is solvable with more than one meeting a day.\")\n",
    "            return solver.model()\n",
    "        else:\n",
    "            # Horário insatisfazível\n",
    "            print(\"This schedule is not solvable!\")\n",
    "            return None\n",
    "                    \n",
    "Schedule.get_meetings = get_meetings"
   ]
  },
  {
   "cell_type": "code",
   "execution_count": 9,
   "metadata": {},
   "outputs": [],
   "source": [
    "# Projeto 1\n",
    "leader_1 = [(\"mon\", 9, 11), (\"tue\", 10, 12), (\"wed\", 13, 15)]\n",
    "participants_1 = [\n",
    "    [(\"mon\", 10, 13), (\"tue\", 8, 11), (\"wed\", 11, 14)],\n",
    "    [(\"mon\", 9, 10), (\"wed\", 13, 16), (\"fri\", 9, 13)]\n",
    "]\n",
    "\n",
    "# Projeto 2\n",
    "leader_2 = [(\"wed\", 9, 11), (\"thu\", 10, 12), (\"fri\", 13, 15)]\n",
    "participants_2 = [\n",
    "    [(\"mon\", 10, 13), (\"wed\", 10, 12), (\"thu\", 11, 14)],\n",
    "    [(\"tue\", 9, 10), (\"wed\", 9, 12), (\"fri\", 12, 14)]\n",
    "]\n",
    "\n",
    "# Criar schedule\n",
    "rooms = [\"S_Fis\", \"S_Inf\"]\n",
    "startup = Schedule([Project(\"LC\", 3, leader_1, participants_1), Project(\"InfQ\", 2, leader_2, participants_2)], rooms)"
   ]
  },
  {
   "cell_type": "code",
   "execution_count": 12,
   "metadata": {},
   "outputs": [
    {
     "name": "stdout",
     "output_type": "stream",
     "text": [
      "This shedule is solvable.\n"
     ]
    }
   ],
   "source": [
    "r = startup.get_meetings()\n",
    "r = [tuple(str(elem).split(',')) for elem in r if \"r:\" in str(elem) and r[elem] == 1]\n",
    "r = sorted([(r1.split(':')[1], r3, r4, r2) for (r1, r2, r3, r4) in r])"
   ]
  },
  {
   "cell_type": "code",
   "execution_count": 13,
   "metadata": {},
   "outputs": [
    {
     "name": "stdout",
     "output_type": "stream",
     "text": [
      "[('InfQ', 'thu', '11', 'S_Fis'), ('InfQ', 'wed', '9', 'S_Fis'), ('LC', 'mon', '9', 'S_Fis'), ('LC', 'tue', '10', 'S_Fis'), ('LC', 'wed', '13', 'S_Fis')]\n"
     ]
    }
   ],
   "source": [
    "print(r)"
   ]
  },
  {
   "cell_type": "markdown",
   "metadata": {},
   "source": [
    "# Problema 2: Pidgeon Hole Principle"
   ]
  },
  {
   "cell_type": "markdown",
   "metadata": {},
   "source": [
    "Se disposermos de $N$ pombos e $N-1$ poleiros, é impossível colocar um pombo em cada poleiro.\n",
    "\n",
    "Seja $p_{n, m}$ a variável que representa a presença do pombo $n$ no poleiro $m$."
   ]
  },
  {
   "cell_type": "markdown",
   "metadata": {},
   "source": [
    "## Condições Lógica Inteira"
   ]
  },
  {
   "cell_type": "markdown",
   "metadata": {},
   "source": [
    "1. Cada pombo deve ocupar sempre um e um só poleiro:\n",
    "$$ \\sum_{m=0}^{N-2} p_{n,m} = 1, \\forall_n $$\n",
    "\n",
    "2. Cada poleiro pode apenas ter no máximo um pombo:\n",
    "$$ \\sum_{n=0}^{N-1} p_{n, m} \\le 1, \\forall_m $$"
   ]
  },
  {
   "cell_type": "code",
   "execution_count": 2,
   "metadata": {},
   "outputs": [],
   "source": [
    "def php_int(N):\n",
    "    start = time.time()\n",
    "    \n",
    "    # Criar o solver e as variáveis\n",
    "    solver = Solver()\n",
    "    p = [[Int(f'{n},{m}') for m in range(N-1)] for n in range(N)]\n",
    "    \n",
    "    # Condição 1: Cada pombo deve ocupar sempre um poleiro\n",
    "    for n in p:\n",
    "        solver.add(sum([m for m in n]) == 1)\n",
    "    \n",
    "    # Condição 2: Cada poleiro deve conter no máximo um pombo\n",
    "    p = list(np.array(p).transpose())\n",
    "    for m in p:\n",
    "        solver.add(sum([n for n in m]) <= 1)\n",
    "        \n",
    "    # Verificar que é insatisfazível\n",
    "    assert solver.check() == unsat\n",
    "    \n",
    "    return time.time() - start"
   ]
  },
  {
   "cell_type": "markdown",
   "metadata": {},
   "source": [
    "## Condições Lógica Proposicional"
   ]
  },
  {
   "cell_type": "markdown",
   "metadata": {},
   "source": [
    "1. Cada pombo deve ocupar sempre um e um só poleiro, ou seja, cada pombo deve ocupar pelo menos um poleiro (1) e cada pombo deve ocupar no máximo um poleiro (2):\n",
    "\\begin{equation}\n",
    "\\bigvee_{m=0}^{N-2} p_{n,m}, \\forall_n\n",
    "\\tag{1}\n",
    "\\end{equation}\n",
    "\n",
    "\\begin{equation}\n",
    "p_{n, m} \\rightarrow \\bigwedge_{i=0, i \\neq m}^{N-2} \\left( \\neg p_{n, i} \\right) \\forall_{n,m}\n",
    "\\tag{2}\n",
    "\\end{equation}\n",
    "\n",
    "2. Cada poleiro tem no máximo um pombo:\n",
    "$$ p_{n, m} \\rightarrow \\bigwedge_{i=0, i \\neq n}^{N-1} \\left( \\neg p_{i, m} \\right), \\forall_{n, m} $$"
   ]
  },
  {
   "cell_type": "code",
   "execution_count": 25,
   "metadata": {},
   "outputs": [],
   "source": [
    "def php_bool(N):\n",
    "    start = time.time()\n",
    "    \n",
    "    # Criar o solver e as variáveis\n",
    "    solver = Solver()\n",
    "    p = [[Bool(f'{n},{m}') for m in range(N-1)] for n in range(N)]\n",
    "    \n",
    "    # Condição 1: Cada pombo deve ocupar sempre um poleiro\n",
    "    for i in range(len(p)):\n",
    "        solver.add(Or([p[i][j] for j in range(len(p[i]))]))\n",
    "        for j in range(len(p[i])):\n",
    "            conds = []\n",
    "            for k in range(len(p[i])):\n",
    "                if j != k:\n",
    "                    conds.append(Not(p[i][k]))\n",
    "            solver.add(Implies(p[i][j], And(conds)))\n",
    "\n",
    "    # Condição 2: Cada oleiro deve conter no máximo um pombo\n",
    "    for i in range(len(p)):\n",
    "        for j in range(len(p[i])):\n",
    "            conds = []\n",
    "            for k in range(len(p)):\n",
    "                if j != k:\n",
    "                    conds.append(Not(p[k][j]))\n",
    "            solver.add(Implies(p[i][j], And(conds)))\n",
    "\n",
    "    # Verificar que é insatisfazível\n",
    "    assert solver.check() == unsat\n",
    "\n",
    "    return time.time() - start"
   ]
  },
  {
   "cell_type": "code",
   "execution_count": 30,
   "metadata": {},
   "outputs": [
    {
     "output_type": "stream",
     "name": "stderr",
     "text": [
      "PHP: 100%|██████████| 30/30 [00:27<00:00,  1.08it/s]\n"
     ]
    }
   ],
   "source": [
    "num_max, times_int, times_bool = 30, [], []\n",
    "for i in tqdm(range(1, num_max+1), total=num_max, desc=\"PHP\"):\n",
    "    times_bool.append(php_bool(i))\n",
    "    times_int.append(php_int(i))"
   ]
  },
  {
   "cell_type": "code",
   "execution_count": 50,
   "metadata": {},
   "outputs": [
    {
     "output_type": "display_data",
     "data": {
      "text/plain": "<Figure size 432x288 with 1 Axes>",
      "image/svg+xml": "<?xml version=\"1.0\" encoding=\"utf-8\" standalone=\"no\"?>\n<!DOCTYPE svg PUBLIC \"-//W3C//DTD SVG 1.1//EN\"\n  \"http://www.w3.org/Graphics/SVG/1.1/DTD/svg11.dtd\">\n<!-- Created with matplotlib (https://matplotlib.org/) -->\n<svg height=\"277.314375pt\" version=\"1.1\" viewBox=\"0 0 385.78125 277.314375\" width=\"385.78125pt\" xmlns=\"http://www.w3.org/2000/svg\" xmlns:xlink=\"http://www.w3.org/1999/xlink\">\n <defs>\n  <style type=\"text/css\">\n*{stroke-linecap:butt;stroke-linejoin:round;}\n  </style>\n </defs>\n <g id=\"figure_1\">\n  <g id=\"patch_1\">\n   <path d=\"M 0 277.314375 \nL 385.78125 277.314375 \nL 385.78125 0 \nL 0 0 \nz\n\" style=\"fill:none;\"/>\n  </g>\n  <g id=\"axes_1\">\n   <g id=\"patch_2\">\n    <path d=\"M 43.78125 239.758125 \nL 378.58125 239.758125 \nL 378.58125 22.318125 \nL 43.78125 22.318125 \nz\n\" style=\"fill:#ffffff;\"/>\n   </g>\n   <g id=\"matplotlib.axis_1\">\n    <g id=\"xtick_1\">\n     <g id=\"line2d_1\">\n      <defs>\n       <path d=\"M 0 0 \nL 0 3.5 \n\" id=\"m9038766974\" style=\"stroke:#000000;stroke-width:0.8;\"/>\n      </defs>\n      <g>\n       <use style=\"stroke:#000000;stroke-width:0.8;\" x=\"48.504134\" xlink:href=\"#m9038766974\" y=\"239.758125\"/>\n      </g>\n     </g>\n     <g id=\"text_1\">\n      <!-- 0 -->\n      <defs>\n       <path d=\"M 31.78125 66.40625 \nQ 24.171875 66.40625 20.328125 58.90625 \nQ 16.5 51.421875 16.5 36.375 \nQ 16.5 21.390625 20.328125 13.890625 \nQ 24.171875 6.390625 31.78125 6.390625 \nQ 39.453125 6.390625 43.28125 13.890625 \nQ 47.125 21.390625 47.125 36.375 \nQ 47.125 51.421875 43.28125 58.90625 \nQ 39.453125 66.40625 31.78125 66.40625 \nz\nM 31.78125 74.21875 \nQ 44.046875 74.21875 50.515625 64.515625 \nQ 56.984375 54.828125 56.984375 36.375 \nQ 56.984375 17.96875 50.515625 8.265625 \nQ 44.046875 -1.421875 31.78125 -1.421875 \nQ 19.53125 -1.421875 13.0625 8.265625 \nQ 6.59375 17.96875 6.59375 36.375 \nQ 6.59375 54.828125 13.0625 64.515625 \nQ 19.53125 74.21875 31.78125 74.21875 \nz\n\" id=\"DejaVuSans-48\"/>\n      </defs>\n      <g transform=\"translate(45.322884 254.356562)scale(0.1 -0.1)\">\n       <use xlink:href=\"#DejaVuSans-48\"/>\n      </g>\n     </g>\n    </g>\n    <g id=\"xtick_2\">\n     <g id=\"line2d_2\">\n      <g>\n       <use style=\"stroke:#000000;stroke-width:0.8;\" x=\"100.980623\" xlink:href=\"#m9038766974\" y=\"239.758125\"/>\n      </g>\n     </g>\n     <g id=\"text_2\">\n      <!-- 5 -->\n      <defs>\n       <path d=\"M 10.796875 72.90625 \nL 49.515625 72.90625 \nL 49.515625 64.59375 \nL 19.828125 64.59375 \nL 19.828125 46.734375 \nQ 21.96875 47.46875 24.109375 47.828125 \nQ 26.265625 48.1875 28.421875 48.1875 \nQ 40.625 48.1875 47.75 41.5 \nQ 54.890625 34.8125 54.890625 23.390625 \nQ 54.890625 11.625 47.5625 5.09375 \nQ 40.234375 -1.421875 26.90625 -1.421875 \nQ 22.3125 -1.421875 17.546875 -0.640625 \nQ 12.796875 0.140625 7.71875 1.703125 \nL 7.71875 11.625 \nQ 12.109375 9.234375 16.796875 8.0625 \nQ 21.484375 6.890625 26.703125 6.890625 \nQ 35.15625 6.890625 40.078125 11.328125 \nQ 45.015625 15.765625 45.015625 23.390625 \nQ 45.015625 31 40.078125 35.4375 \nQ 35.15625 39.890625 26.703125 39.890625 \nQ 22.75 39.890625 18.8125 39.015625 \nQ 14.890625 38.140625 10.796875 36.28125 \nz\n\" id=\"DejaVuSans-53\"/>\n      </defs>\n      <g transform=\"translate(97.799373 254.356562)scale(0.1 -0.1)\">\n       <use xlink:href=\"#DejaVuSans-53\"/>\n      </g>\n     </g>\n    </g>\n    <g id=\"xtick_3\">\n     <g id=\"line2d_3\">\n      <g>\n       <use style=\"stroke:#000000;stroke-width:0.8;\" x=\"153.457112\" xlink:href=\"#m9038766974\" y=\"239.758125\"/>\n      </g>\n     </g>\n     <g id=\"text_3\">\n      <!-- 10 -->\n      <defs>\n       <path d=\"M 12.40625 8.296875 \nL 28.515625 8.296875 \nL 28.515625 63.921875 \nL 10.984375 60.40625 \nL 10.984375 69.390625 \nL 28.421875 72.90625 \nL 38.28125 72.90625 \nL 38.28125 8.296875 \nL 54.390625 8.296875 \nL 54.390625 0 \nL 12.40625 0 \nz\n\" id=\"DejaVuSans-49\"/>\n      </defs>\n      <g transform=\"translate(147.094612 254.356562)scale(0.1 -0.1)\">\n       <use xlink:href=\"#DejaVuSans-49\"/>\n       <use x=\"63.623047\" xlink:href=\"#DejaVuSans-48\"/>\n      </g>\n     </g>\n    </g>\n    <g id=\"xtick_4\">\n     <g id=\"line2d_4\">\n      <g>\n       <use style=\"stroke:#000000;stroke-width:0.8;\" x=\"205.933601\" xlink:href=\"#m9038766974\" y=\"239.758125\"/>\n      </g>\n     </g>\n     <g id=\"text_4\">\n      <!-- 15 -->\n      <g transform=\"translate(199.571101 254.356562)scale(0.1 -0.1)\">\n       <use xlink:href=\"#DejaVuSans-49\"/>\n       <use x=\"63.623047\" xlink:href=\"#DejaVuSans-53\"/>\n      </g>\n     </g>\n    </g>\n    <g id=\"xtick_5\">\n     <g id=\"line2d_5\">\n      <g>\n       <use style=\"stroke:#000000;stroke-width:0.8;\" x=\"258.41009\" xlink:href=\"#m9038766974\" y=\"239.758125\"/>\n      </g>\n     </g>\n     <g id=\"text_5\">\n      <!-- 20 -->\n      <defs>\n       <path d=\"M 19.1875 8.296875 \nL 53.609375 8.296875 \nL 53.609375 0 \nL 7.328125 0 \nL 7.328125 8.296875 \nQ 12.9375 14.109375 22.625 23.890625 \nQ 32.328125 33.6875 34.8125 36.53125 \nQ 39.546875 41.84375 41.421875 45.53125 \nQ 43.3125 49.21875 43.3125 52.78125 \nQ 43.3125 58.59375 39.234375 62.25 \nQ 35.15625 65.921875 28.609375 65.921875 \nQ 23.96875 65.921875 18.8125 64.3125 \nQ 13.671875 62.703125 7.8125 59.421875 \nL 7.8125 69.390625 \nQ 13.765625 71.78125 18.9375 73 \nQ 24.125 74.21875 28.421875 74.21875 \nQ 39.75 74.21875 46.484375 68.546875 \nQ 53.21875 62.890625 53.21875 53.421875 \nQ 53.21875 48.921875 51.53125 44.890625 \nQ 49.859375 40.875 45.40625 35.40625 \nQ 44.1875 33.984375 37.640625 27.21875 \nQ 31.109375 20.453125 19.1875 8.296875 \nz\n\" id=\"DejaVuSans-50\"/>\n      </defs>\n      <g transform=\"translate(252.04759 254.356562)scale(0.1 -0.1)\">\n       <use xlink:href=\"#DejaVuSans-50\"/>\n       <use x=\"63.623047\" xlink:href=\"#DejaVuSans-48\"/>\n      </g>\n     </g>\n    </g>\n    <g id=\"xtick_6\">\n     <g id=\"line2d_6\">\n      <g>\n       <use style=\"stroke:#000000;stroke-width:0.8;\" x=\"310.886579\" xlink:href=\"#m9038766974\" y=\"239.758125\"/>\n      </g>\n     </g>\n     <g id=\"text_6\">\n      <!-- 25 -->\n      <g transform=\"translate(304.524079 254.356562)scale(0.1 -0.1)\">\n       <use xlink:href=\"#DejaVuSans-50\"/>\n       <use x=\"63.623047\" xlink:href=\"#DejaVuSans-53\"/>\n      </g>\n     </g>\n    </g>\n    <g id=\"xtick_7\">\n     <g id=\"line2d_7\">\n      <g>\n       <use style=\"stroke:#000000;stroke-width:0.8;\" x=\"363.363068\" xlink:href=\"#m9038766974\" y=\"239.758125\"/>\n      </g>\n     </g>\n     <g id=\"text_7\">\n      <!-- 30 -->\n      <defs>\n       <path d=\"M 40.578125 39.3125 \nQ 47.65625 37.796875 51.625 33 \nQ 55.609375 28.21875 55.609375 21.1875 \nQ 55.609375 10.40625 48.1875 4.484375 \nQ 40.765625 -1.421875 27.09375 -1.421875 \nQ 22.515625 -1.421875 17.65625 -0.515625 \nQ 12.796875 0.390625 7.625 2.203125 \nL 7.625 11.71875 \nQ 11.71875 9.328125 16.59375 8.109375 \nQ 21.484375 6.890625 26.8125 6.890625 \nQ 36.078125 6.890625 40.9375 10.546875 \nQ 45.796875 14.203125 45.796875 21.1875 \nQ 45.796875 27.640625 41.28125 31.265625 \nQ 36.765625 34.90625 28.71875 34.90625 \nL 20.21875 34.90625 \nL 20.21875 43.015625 \nL 29.109375 43.015625 \nQ 36.375 43.015625 40.234375 45.921875 \nQ 44.09375 48.828125 44.09375 54.296875 \nQ 44.09375 59.90625 40.109375 62.90625 \nQ 36.140625 65.921875 28.71875 65.921875 \nQ 24.65625 65.921875 20.015625 65.03125 \nQ 15.375 64.15625 9.8125 62.3125 \nL 9.8125 71.09375 \nQ 15.4375 72.65625 20.34375 73.4375 \nQ 25.25 74.21875 29.59375 74.21875 \nQ 40.828125 74.21875 47.359375 69.109375 \nQ 53.90625 64.015625 53.90625 55.328125 \nQ 53.90625 49.265625 50.4375 45.09375 \nQ 46.96875 40.921875 40.578125 39.3125 \nz\n\" id=\"DejaVuSans-51\"/>\n      </defs>\n      <g transform=\"translate(357.000568 254.356562)scale(0.1 -0.1)\">\n       <use xlink:href=\"#DejaVuSans-51\"/>\n       <use x=\"63.623047\" xlink:href=\"#DejaVuSans-48\"/>\n      </g>\n     </g>\n    </g>\n    <g id=\"text_8\">\n     <!-- $N$ -->\n     <defs>\n      <path d=\"M 16.890625 72.90625 \nL 30.171875 72.90625 \nL 50.296875 10.40625 \nL 62.5 72.90625 \nL 72.125 72.90625 \nL 57.90625 0 \nL 44.578125 0 \nL 24.515625 62.890625 \nL 12.3125 0 \nL 2.6875 0 \nz\n\" id=\"DejaVuSans-Oblique-78\"/>\n     </defs>\n     <g transform=\"translate(207.43125 268.034687)scale(0.1 -0.1)\">\n      <use transform=\"translate(0 0.09375)\" xlink:href=\"#DejaVuSans-Oblique-78\"/>\n     </g>\n    </g>\n   </g>\n   <g id=\"matplotlib.axis_2\">\n    <g id=\"ytick_1\">\n     <g id=\"line2d_8\">\n      <defs>\n       <path d=\"M 0 0 \nL -3.5 0 \n\" id=\"ma11d00d036\" style=\"stroke:#000000;stroke-width:0.8;\"/>\n      </defs>\n      <g>\n       <use style=\"stroke:#000000;stroke-width:0.8;\" x=\"43.78125\" xlink:href=\"#ma11d00d036\" y=\"229.88181\"/>\n      </g>\n     </g>\n     <g id=\"text_9\">\n      <!-- 0.0 -->\n      <defs>\n       <path d=\"M 10.6875 12.40625 \nL 21 12.40625 \nL 21 0 \nL 10.6875 0 \nz\n\" id=\"DejaVuSans-46\"/>\n      </defs>\n      <g transform=\"translate(20.878125 233.681029)scale(0.1 -0.1)\">\n       <use xlink:href=\"#DejaVuSans-48\"/>\n       <use x=\"63.623047\" xlink:href=\"#DejaVuSans-46\"/>\n       <use x=\"95.410156\" xlink:href=\"#DejaVuSans-48\"/>\n      </g>\n     </g>\n    </g>\n    <g id=\"ytick_2\">\n     <g id=\"line2d_9\">\n      <g>\n       <use style=\"stroke:#000000;stroke-width:0.8;\" x=\"43.78125\" xlink:href=\"#ma11d00d036\" y=\"197.485866\"/>\n      </g>\n     </g>\n     <g id=\"text_10\">\n      <!-- 0.5 -->\n      <g transform=\"translate(20.878125 201.285085)scale(0.1 -0.1)\">\n       <use xlink:href=\"#DejaVuSans-48\"/>\n       <use x=\"63.623047\" xlink:href=\"#DejaVuSans-46\"/>\n       <use x=\"95.410156\" xlink:href=\"#DejaVuSans-53\"/>\n      </g>\n     </g>\n    </g>\n    <g id=\"ytick_3\">\n     <g id=\"line2d_10\">\n      <g>\n       <use style=\"stroke:#000000;stroke-width:0.8;\" x=\"43.78125\" xlink:href=\"#ma11d00d036\" y=\"165.089923\"/>\n      </g>\n     </g>\n     <g id=\"text_11\">\n      <!-- 1.0 -->\n      <g transform=\"translate(20.878125 168.889141)scale(0.1 -0.1)\">\n       <use xlink:href=\"#DejaVuSans-49\"/>\n       <use x=\"63.623047\" xlink:href=\"#DejaVuSans-46\"/>\n       <use x=\"95.410156\" xlink:href=\"#DejaVuSans-48\"/>\n      </g>\n     </g>\n    </g>\n    <g id=\"ytick_4\">\n     <g id=\"line2d_11\">\n      <g>\n       <use style=\"stroke:#000000;stroke-width:0.8;\" x=\"43.78125\" xlink:href=\"#ma11d00d036\" y=\"132.693979\"/>\n      </g>\n     </g>\n     <g id=\"text_12\">\n      <!-- 1.5 -->\n      <g transform=\"translate(20.878125 136.493198)scale(0.1 -0.1)\">\n       <use xlink:href=\"#DejaVuSans-49\"/>\n       <use x=\"63.623047\" xlink:href=\"#DejaVuSans-46\"/>\n       <use x=\"95.410156\" xlink:href=\"#DejaVuSans-53\"/>\n      </g>\n     </g>\n    </g>\n    <g id=\"ytick_5\">\n     <g id=\"line2d_12\">\n      <g>\n       <use style=\"stroke:#000000;stroke-width:0.8;\" x=\"43.78125\" xlink:href=\"#ma11d00d036\" y=\"100.298035\"/>\n      </g>\n     </g>\n     <g id=\"text_13\">\n      <!-- 2.0 -->\n      <g transform=\"translate(20.878125 104.097254)scale(0.1 -0.1)\">\n       <use xlink:href=\"#DejaVuSans-50\"/>\n       <use x=\"63.623047\" xlink:href=\"#DejaVuSans-46\"/>\n       <use x=\"95.410156\" xlink:href=\"#DejaVuSans-48\"/>\n      </g>\n     </g>\n    </g>\n    <g id=\"ytick_6\">\n     <g id=\"line2d_13\">\n      <g>\n       <use style=\"stroke:#000000;stroke-width:0.8;\" x=\"43.78125\" xlink:href=\"#ma11d00d036\" y=\"67.902091\"/>\n      </g>\n     </g>\n     <g id=\"text_14\">\n      <!-- 2.5 -->\n      <g transform=\"translate(20.878125 71.70131)scale(0.1 -0.1)\">\n       <use xlink:href=\"#DejaVuSans-50\"/>\n       <use x=\"63.623047\" xlink:href=\"#DejaVuSans-46\"/>\n       <use x=\"95.410156\" xlink:href=\"#DejaVuSans-53\"/>\n      </g>\n     </g>\n    </g>\n    <g id=\"ytick_7\">\n     <g id=\"line2d_14\">\n      <g>\n       <use style=\"stroke:#000000;stroke-width:0.8;\" x=\"43.78125\" xlink:href=\"#ma11d00d036\" y=\"35.506148\"/>\n      </g>\n     </g>\n     <g id=\"text_15\">\n      <!-- 3.0 -->\n      <g transform=\"translate(20.878125 39.305366)scale(0.1 -0.1)\">\n       <use xlink:href=\"#DejaVuSans-51\"/>\n       <use x=\"63.623047\" xlink:href=\"#DejaVuSans-46\"/>\n       <use x=\"95.410156\" xlink:href=\"#DejaVuSans-48\"/>\n      </g>\n     </g>\n    </g>\n    <g id=\"text_16\">\n     <!-- Time of iteration (s) -->\n     <defs>\n      <path d=\"M -0.296875 72.90625 \nL 61.375 72.90625 \nL 61.375 64.59375 \nL 35.5 64.59375 \nL 35.5 0 \nL 25.59375 0 \nL 25.59375 64.59375 \nL -0.296875 64.59375 \nz\n\" id=\"DejaVuSans-84\"/>\n      <path d=\"M 9.421875 54.6875 \nL 18.40625 54.6875 \nL 18.40625 0 \nL 9.421875 0 \nz\nM 9.421875 75.984375 \nL 18.40625 75.984375 \nL 18.40625 64.59375 \nL 9.421875 64.59375 \nz\n\" id=\"DejaVuSans-105\"/>\n      <path d=\"M 52 44.1875 \nQ 55.375 50.25 60.0625 53.125 \nQ 64.75 56 71.09375 56 \nQ 79.640625 56 84.28125 50.015625 \nQ 88.921875 44.046875 88.921875 33.015625 \nL 88.921875 0 \nL 79.890625 0 \nL 79.890625 32.71875 \nQ 79.890625 40.578125 77.09375 44.375 \nQ 74.3125 48.1875 68.609375 48.1875 \nQ 61.625 48.1875 57.5625 43.546875 \nQ 53.515625 38.921875 53.515625 30.90625 \nL 53.515625 0 \nL 44.484375 0 \nL 44.484375 32.71875 \nQ 44.484375 40.625 41.703125 44.40625 \nQ 38.921875 48.1875 33.109375 48.1875 \nQ 26.21875 48.1875 22.15625 43.53125 \nQ 18.109375 38.875 18.109375 30.90625 \nL 18.109375 0 \nL 9.078125 0 \nL 9.078125 54.6875 \nL 18.109375 54.6875 \nL 18.109375 46.1875 \nQ 21.1875 51.21875 25.484375 53.609375 \nQ 29.78125 56 35.6875 56 \nQ 41.65625 56 45.828125 52.96875 \nQ 50 49.953125 52 44.1875 \nz\n\" id=\"DejaVuSans-109\"/>\n      <path d=\"M 56.203125 29.59375 \nL 56.203125 25.203125 \nL 14.890625 25.203125 \nQ 15.484375 15.921875 20.484375 11.0625 \nQ 25.484375 6.203125 34.421875 6.203125 \nQ 39.59375 6.203125 44.453125 7.46875 \nQ 49.3125 8.734375 54.109375 11.28125 \nL 54.109375 2.78125 \nQ 49.265625 0.734375 44.1875 -0.34375 \nQ 39.109375 -1.421875 33.890625 -1.421875 \nQ 20.796875 -1.421875 13.15625 6.1875 \nQ 5.515625 13.8125 5.515625 26.8125 \nQ 5.515625 40.234375 12.765625 48.109375 \nQ 20.015625 56 32.328125 56 \nQ 43.359375 56 49.78125 48.890625 \nQ 56.203125 41.796875 56.203125 29.59375 \nz\nM 47.21875 32.234375 \nQ 47.125 39.59375 43.09375 43.984375 \nQ 39.0625 48.390625 32.421875 48.390625 \nQ 24.90625 48.390625 20.390625 44.140625 \nQ 15.875 39.890625 15.1875 32.171875 \nz\n\" id=\"DejaVuSans-101\"/>\n      <path id=\"DejaVuSans-32\"/>\n      <path d=\"M 30.609375 48.390625 \nQ 23.390625 48.390625 19.1875 42.75 \nQ 14.984375 37.109375 14.984375 27.296875 \nQ 14.984375 17.484375 19.15625 11.84375 \nQ 23.34375 6.203125 30.609375 6.203125 \nQ 37.796875 6.203125 41.984375 11.859375 \nQ 46.1875 17.53125 46.1875 27.296875 \nQ 46.1875 37.015625 41.984375 42.703125 \nQ 37.796875 48.390625 30.609375 48.390625 \nz\nM 30.609375 56 \nQ 42.328125 56 49.015625 48.375 \nQ 55.71875 40.765625 55.71875 27.296875 \nQ 55.71875 13.875 49.015625 6.21875 \nQ 42.328125 -1.421875 30.609375 -1.421875 \nQ 18.84375 -1.421875 12.171875 6.21875 \nQ 5.515625 13.875 5.515625 27.296875 \nQ 5.515625 40.765625 12.171875 48.375 \nQ 18.84375 56 30.609375 56 \nz\n\" id=\"DejaVuSans-111\"/>\n      <path d=\"M 37.109375 75.984375 \nL 37.109375 68.5 \nL 28.515625 68.5 \nQ 23.6875 68.5 21.796875 66.546875 \nQ 19.921875 64.59375 19.921875 59.515625 \nL 19.921875 54.6875 \nL 34.71875 54.6875 \nL 34.71875 47.703125 \nL 19.921875 47.703125 \nL 19.921875 0 \nL 10.890625 0 \nL 10.890625 47.703125 \nL 2.296875 47.703125 \nL 2.296875 54.6875 \nL 10.890625 54.6875 \nL 10.890625 58.5 \nQ 10.890625 67.625 15.140625 71.796875 \nQ 19.390625 75.984375 28.609375 75.984375 \nz\n\" id=\"DejaVuSans-102\"/>\n      <path d=\"M 18.3125 70.21875 \nL 18.3125 54.6875 \nL 36.8125 54.6875 \nL 36.8125 47.703125 \nL 18.3125 47.703125 \nL 18.3125 18.015625 \nQ 18.3125 11.328125 20.140625 9.421875 \nQ 21.96875 7.515625 27.59375 7.515625 \nL 36.8125 7.515625 \nL 36.8125 0 \nL 27.59375 0 \nQ 17.1875 0 13.234375 3.875 \nQ 9.28125 7.765625 9.28125 18.015625 \nL 9.28125 47.703125 \nL 2.6875 47.703125 \nL 2.6875 54.6875 \nL 9.28125 54.6875 \nL 9.28125 70.21875 \nz\n\" id=\"DejaVuSans-116\"/>\n      <path d=\"M 41.109375 46.296875 \nQ 39.59375 47.171875 37.8125 47.578125 \nQ 36.03125 48 33.890625 48 \nQ 26.265625 48 22.1875 43.046875 \nQ 18.109375 38.09375 18.109375 28.8125 \nL 18.109375 0 \nL 9.078125 0 \nL 9.078125 54.6875 \nL 18.109375 54.6875 \nL 18.109375 46.1875 \nQ 20.953125 51.171875 25.484375 53.578125 \nQ 30.03125 56 36.53125 56 \nQ 37.453125 56 38.578125 55.875 \nQ 39.703125 55.765625 41.0625 55.515625 \nz\n\" id=\"DejaVuSans-114\"/>\n      <path d=\"M 34.28125 27.484375 \nQ 23.390625 27.484375 19.1875 25 \nQ 14.984375 22.515625 14.984375 16.5 \nQ 14.984375 11.71875 18.140625 8.90625 \nQ 21.296875 6.109375 26.703125 6.109375 \nQ 34.1875 6.109375 38.703125 11.40625 \nQ 43.21875 16.703125 43.21875 25.484375 \nL 43.21875 27.484375 \nz\nM 52.203125 31.203125 \nL 52.203125 0 \nL 43.21875 0 \nL 43.21875 8.296875 \nQ 40.140625 3.328125 35.546875 0.953125 \nQ 30.953125 -1.421875 24.3125 -1.421875 \nQ 15.921875 -1.421875 10.953125 3.296875 \nQ 6 8.015625 6 15.921875 \nQ 6 25.140625 12.171875 29.828125 \nQ 18.359375 34.515625 30.609375 34.515625 \nL 43.21875 34.515625 \nL 43.21875 35.40625 \nQ 43.21875 41.609375 39.140625 45 \nQ 35.0625 48.390625 27.6875 48.390625 \nQ 23 48.390625 18.546875 47.265625 \nQ 14.109375 46.140625 10.015625 43.890625 \nL 10.015625 52.203125 \nQ 14.9375 54.109375 19.578125 55.046875 \nQ 24.21875 56 28.609375 56 \nQ 40.484375 56 46.34375 49.84375 \nQ 52.203125 43.703125 52.203125 31.203125 \nz\n\" id=\"DejaVuSans-97\"/>\n      <path d=\"M 54.890625 33.015625 \nL 54.890625 0 \nL 45.90625 0 \nL 45.90625 32.71875 \nQ 45.90625 40.484375 42.875 44.328125 \nQ 39.84375 48.1875 33.796875 48.1875 \nQ 26.515625 48.1875 22.3125 43.546875 \nQ 18.109375 38.921875 18.109375 30.90625 \nL 18.109375 0 \nL 9.078125 0 \nL 9.078125 54.6875 \nL 18.109375 54.6875 \nL 18.109375 46.1875 \nQ 21.34375 51.125 25.703125 53.5625 \nQ 30.078125 56 35.796875 56 \nQ 45.21875 56 50.046875 50.171875 \nQ 54.890625 44.34375 54.890625 33.015625 \nz\n\" id=\"DejaVuSans-110\"/>\n      <path d=\"M 31 75.875 \nQ 24.46875 64.65625 21.28125 53.65625 \nQ 18.109375 42.671875 18.109375 31.390625 \nQ 18.109375 20.125 21.3125 9.0625 \nQ 24.515625 -2 31 -13.1875 \nL 23.1875 -13.1875 \nQ 15.875 -1.703125 12.234375 9.375 \nQ 8.59375 20.453125 8.59375 31.390625 \nQ 8.59375 42.28125 12.203125 53.3125 \nQ 15.828125 64.359375 23.1875 75.875 \nz\n\" id=\"DejaVuSans-40\"/>\n      <path d=\"M 44.28125 53.078125 \nL 44.28125 44.578125 \nQ 40.484375 46.53125 36.375 47.5 \nQ 32.28125 48.484375 27.875 48.484375 \nQ 21.1875 48.484375 17.84375 46.4375 \nQ 14.5 44.390625 14.5 40.28125 \nQ 14.5 37.15625 16.890625 35.375 \nQ 19.28125 33.59375 26.515625 31.984375 \nL 29.59375 31.296875 \nQ 39.15625 29.25 43.1875 25.515625 \nQ 47.21875 21.78125 47.21875 15.09375 \nQ 47.21875 7.46875 41.1875 3.015625 \nQ 35.15625 -1.421875 24.609375 -1.421875 \nQ 20.21875 -1.421875 15.453125 -0.5625 \nQ 10.6875 0.296875 5.421875 2 \nL 5.421875 11.28125 \nQ 10.40625 8.6875 15.234375 7.390625 \nQ 20.0625 6.109375 24.8125 6.109375 \nQ 31.15625 6.109375 34.5625 8.28125 \nQ 37.984375 10.453125 37.984375 14.40625 \nQ 37.984375 18.0625 35.515625 20.015625 \nQ 33.0625 21.96875 24.703125 23.78125 \nL 21.578125 24.515625 \nQ 13.234375 26.265625 9.515625 29.90625 \nQ 5.8125 33.546875 5.8125 39.890625 \nQ 5.8125 47.609375 11.28125 51.796875 \nQ 16.75 56 26.8125 56 \nQ 31.78125 56 36.171875 55.265625 \nQ 40.578125 54.546875 44.28125 53.078125 \nz\n\" id=\"DejaVuSans-115\"/>\n      <path d=\"M 8.015625 75.875 \nL 15.828125 75.875 \nQ 23.140625 64.359375 26.78125 53.3125 \nQ 30.421875 42.28125 30.421875 31.390625 \nQ 30.421875 20.453125 26.78125 9.375 \nQ 23.140625 -1.703125 15.828125 -13.1875 \nL 8.015625 -13.1875 \nQ 14.5 -2 17.703125 9.0625 \nQ 20.90625 20.125 20.90625 31.390625 \nQ 20.90625 42.671875 17.703125 53.65625 \nQ 14.5 64.65625 8.015625 75.875 \nz\n\" id=\"DejaVuSans-41\"/>\n     </defs>\n     <g transform=\"translate(14.798438 180.487344)rotate(-90)scale(0.1 -0.1)\">\n      <use xlink:href=\"#DejaVuSans-84\"/>\n      <use x=\"57.958984\" xlink:href=\"#DejaVuSans-105\"/>\n      <use x=\"85.742188\" xlink:href=\"#DejaVuSans-109\"/>\n      <use x=\"183.154297\" xlink:href=\"#DejaVuSans-101\"/>\n      <use x=\"244.677734\" xlink:href=\"#DejaVuSans-32\"/>\n      <use x=\"276.464844\" xlink:href=\"#DejaVuSans-111\"/>\n      <use x=\"337.646484\" xlink:href=\"#DejaVuSans-102\"/>\n      <use x=\"372.851562\" xlink:href=\"#DejaVuSans-32\"/>\n      <use x=\"404.638672\" xlink:href=\"#DejaVuSans-105\"/>\n      <use x=\"432.421875\" xlink:href=\"#DejaVuSans-116\"/>\n      <use x=\"471.630859\" xlink:href=\"#DejaVuSans-101\"/>\n      <use x=\"533.154297\" xlink:href=\"#DejaVuSans-114\"/>\n      <use x=\"574.267578\" xlink:href=\"#DejaVuSans-97\"/>\n      <use x=\"635.546875\" xlink:href=\"#DejaVuSans-116\"/>\n      <use x=\"674.755859\" xlink:href=\"#DejaVuSans-105\"/>\n      <use x=\"702.539062\" xlink:href=\"#DejaVuSans-111\"/>\n      <use x=\"763.720703\" xlink:href=\"#DejaVuSans-110\"/>\n      <use x=\"827.099609\" xlink:href=\"#DejaVuSans-32\"/>\n      <use x=\"858.886719\" xlink:href=\"#DejaVuSans-40\"/>\n      <use x=\"897.900391\" xlink:href=\"#DejaVuSans-115\"/>\n      <use x=\"950\" xlink:href=\"#DejaVuSans-41\"/>\n     </g>\n    </g>\n   </g>\n   <g id=\"line2d_15\">\n    <path clip-path=\"url(#p8f8de7ced4)\" d=\"M 58.999432 228.852985 \nL 69.49473 228.234417 \nL 79.990027 228.215293 \nL 90.485325 228.398594 \nL 100.980623 227.855967 \nL 111.475921 226.838913 \nL 121.971219 225.614614 \nL 132.466516 222.5637 \nL 142.961814 223.711425 \nL 153.457112 218.453421 \nL 163.95241 218.092333 \nL 174.447708 198.562579 \nL 184.943005 207.412565 \nL 195.438303 182.010069 \nL 205.933601 191.228712 \nL 216.428899 199.919511 \nL 226.924197 193.239355 \nL 237.419495 188.064412 \nL 247.914792 180.700623 \nL 258.41009 172.076512 \nL 268.905388 163.336513 \nL 279.400686 151.962839 \nL 289.895984 135.287614 \nL 300.391281 130.580594 \nL 310.886579 117.058268 \nL 321.381877 96.137628 \nL 331.877175 88.942218 \nL 342.372473 72.276524 \nL 352.86777 54.178437 \nL 363.363068 38.38408 \n\" style=\"fill:none;stroke:#1f77b4;stroke-linecap:square;stroke-width:1.5;\"/>\n   </g>\n   <g id=\"line2d_16\">\n    <path clip-path=\"url(#p8f8de7ced4)\" d=\"M 58.999432 226.836719 \nL 69.49473 228.730254 \nL 79.990027 228.745037 \nL 90.485325 228.449062 \nL 100.980623 228.67506 \nL 111.475921 227.768302 \nL 121.971219 227.947386 \nL 132.466516 227.906697 \nL 142.961814 227.995907 \nL 153.457112 227.442064 \nL 163.95241 223.429692 \nL 174.447708 225.980367 \nL 184.943005 226.791056 \nL 195.438303 222.591227 \nL 205.933601 226.464865 \nL 216.428899 226.54062 \nL 226.924197 226.100503 \nL 237.419495 225.76753 \nL 247.914792 225.497923 \nL 258.41009 225.069453 \nL 268.905388 224.885071 \nL 279.400686 224.368673 \nL 289.895984 223.933206 \nL 300.391281 223.462116 \nL 310.886579 223.137037 \nL 321.381877 222.570373 \nL 331.877175 222.020872 \nL 342.372473 221.536744 \nL 352.86777 221.011727 \nL 363.363068 220.505772 \n\" style=\"fill:none;stroke:#ff7f0e;stroke-linecap:square;stroke-width:1.5;\"/>\n   </g>\n   <g id=\"line2d_17\">\n    <path clip-path=\"url(#p8f8de7ced4)\" d=\"M 58.999432 229.874489 \nL 69.49473 229.823238 \nL 79.990027 229.68413 \nL 90.485325 229.413235 \nL 100.980623 228.966625 \nL 111.475921 228.30037 \nL 121.971219 227.370541 \nL 132.466516 226.133211 \nL 142.961814 224.544449 \nL 153.457112 222.560327 \nL 163.95241 220.136916 \nL 174.447708 217.230287 \nL 184.943005 213.796511 \nL 195.438303 209.79166 \nL 205.933601 205.171804 \nL 216.428899 199.893015 \nL 226.924197 193.911363 \nL 237.419495 187.18292 \nL 247.914792 179.663756 \nL 258.41009 171.309944 \nL 268.905388 162.077553 \nL 279.400686 151.922656 \nL 289.895984 140.801323 \nL 300.391281 128.669625 \nL 310.886579 115.483634 \nL 321.381877 101.19942 \nL 331.877175 85.773055 \nL 342.372473 69.160609 \nL 352.86777 51.318154 \nL 363.363068 32.201761 \n\" style=\"fill:none;stroke:#2ca02c;stroke-dasharray:5.55,2.4;stroke-dashoffset:0;stroke-width:1.5;\"/>\n   </g>\n   <g id=\"line2d_18\">\n    <path clip-path=\"url(#p8f8de7ced4)\" d=\"M 58.999432 228.577225 \nL 69.49473 228.550985 \nL 79.990027 228.50725 \nL 90.485325 228.446022 \nL 100.980623 228.3673 \nL 111.475921 228.271084 \nL 121.971219 228.157374 \nL 132.466516 228.02617 \nL 142.961814 227.877473 \nL 153.457112 227.711282 \nL 163.95241 227.527597 \nL 174.447708 227.326418 \nL 184.943005 227.107745 \nL 195.438303 226.871579 \nL 205.933601 226.617919 \nL 216.428899 226.346765 \nL 226.924197 226.058117 \nL 237.419495 225.751975 \nL 247.914792 225.42834 \nL 258.41009 225.08721 \nL 268.905388 224.728587 \nL 279.400686 224.35247 \nL 289.895984 223.95886 \nL 300.391281 223.547755 \nL 310.886579 223.119157 \nL 321.381877 222.673065 \nL 331.877175 222.209479 \nL 342.372473 221.728399 \nL 352.86777 221.229825 \nL 363.363068 220.713758 \n\" style=\"fill:none;stroke:#d62728;stroke-dasharray:5.55,2.4;stroke-dashoffset:0;stroke-width:1.5;\"/>\n   </g>\n   <g id=\"patch_3\">\n    <path d=\"M 43.78125 239.758125 \nL 43.78125 22.318125 \n\" style=\"fill:none;stroke:#000000;stroke-linecap:square;stroke-linejoin:miter;stroke-width:0.8;\"/>\n   </g>\n   <g id=\"patch_4\">\n    <path d=\"M 378.58125 239.758125 \nL 378.58125 22.318125 \n\" style=\"fill:none;stroke:#000000;stroke-linecap:square;stroke-linejoin:miter;stroke-width:0.8;\"/>\n   </g>\n   <g id=\"patch_5\">\n    <path d=\"M 43.78125 239.758125 \nL 378.58125 239.758125 \n\" style=\"fill:none;stroke:#000000;stroke-linecap:square;stroke-linejoin:miter;stroke-width:0.8;\"/>\n   </g>\n   <g id=\"patch_6\">\n    <path d=\"M 43.78125 22.318125 \nL 378.58125 22.318125 \n\" style=\"fill:none;stroke:#000000;stroke-linecap:square;stroke-linejoin:miter;stroke-width:0.8;\"/>\n   </g>\n   <g id=\"text_17\">\n    <!-- PHP time spent for each N -->\n    <defs>\n     <path d=\"M 19.671875 64.796875 \nL 19.671875 37.40625 \nL 32.078125 37.40625 \nQ 38.96875 37.40625 42.71875 40.96875 \nQ 46.484375 44.53125 46.484375 51.125 \nQ 46.484375 57.671875 42.71875 61.234375 \nQ 38.96875 64.796875 32.078125 64.796875 \nz\nM 9.8125 72.90625 \nL 32.078125 72.90625 \nQ 44.34375 72.90625 50.609375 67.359375 \nQ 56.890625 61.8125 56.890625 51.125 \nQ 56.890625 40.328125 50.609375 34.8125 \nQ 44.34375 29.296875 32.078125 29.296875 \nL 19.671875 29.296875 \nL 19.671875 0 \nL 9.8125 0 \nz\n\" id=\"DejaVuSans-80\"/>\n     <path d=\"M 9.8125 72.90625 \nL 19.671875 72.90625 \nL 19.671875 43.015625 \nL 55.515625 43.015625 \nL 55.515625 72.90625 \nL 65.375 72.90625 \nL 65.375 0 \nL 55.515625 0 \nL 55.515625 34.71875 \nL 19.671875 34.71875 \nL 19.671875 0 \nL 9.8125 0 \nz\n\" id=\"DejaVuSans-72\"/>\n     <path d=\"M 18.109375 8.203125 \nL 18.109375 -20.796875 \nL 9.078125 -20.796875 \nL 9.078125 54.6875 \nL 18.109375 54.6875 \nL 18.109375 46.390625 \nQ 20.953125 51.265625 25.265625 53.625 \nQ 29.59375 56 35.59375 56 \nQ 45.5625 56 51.78125 48.09375 \nQ 58.015625 40.1875 58.015625 27.296875 \nQ 58.015625 14.40625 51.78125 6.484375 \nQ 45.5625 -1.421875 35.59375 -1.421875 \nQ 29.59375 -1.421875 25.265625 0.953125 \nQ 20.953125 3.328125 18.109375 8.203125 \nz\nM 48.6875 27.296875 \nQ 48.6875 37.203125 44.609375 42.84375 \nQ 40.53125 48.484375 33.40625 48.484375 \nQ 26.265625 48.484375 22.1875 42.84375 \nQ 18.109375 37.203125 18.109375 27.296875 \nQ 18.109375 17.390625 22.1875 11.75 \nQ 26.265625 6.109375 33.40625 6.109375 \nQ 40.53125 6.109375 44.609375 11.75 \nQ 48.6875 17.390625 48.6875 27.296875 \nz\n\" id=\"DejaVuSans-112\"/>\n     <path d=\"M 48.78125 52.59375 \nL 48.78125 44.1875 \nQ 44.96875 46.296875 41.140625 47.34375 \nQ 37.3125 48.390625 33.40625 48.390625 \nQ 24.65625 48.390625 19.8125 42.84375 \nQ 14.984375 37.3125 14.984375 27.296875 \nQ 14.984375 17.28125 19.8125 11.734375 \nQ 24.65625 6.203125 33.40625 6.203125 \nQ 37.3125 6.203125 41.140625 7.25 \nQ 44.96875 8.296875 48.78125 10.40625 \nL 48.78125 2.09375 \nQ 45.015625 0.34375 40.984375 -0.53125 \nQ 36.96875 -1.421875 32.421875 -1.421875 \nQ 20.0625 -1.421875 12.78125 6.34375 \nQ 5.515625 14.109375 5.515625 27.296875 \nQ 5.515625 40.671875 12.859375 48.328125 \nQ 20.21875 56 33.015625 56 \nQ 37.15625 56 41.109375 55.140625 \nQ 45.0625 54.296875 48.78125 52.59375 \nz\n\" id=\"DejaVuSans-99\"/>\n     <path d=\"M 54.890625 33.015625 \nL 54.890625 0 \nL 45.90625 0 \nL 45.90625 32.71875 \nQ 45.90625 40.484375 42.875 44.328125 \nQ 39.84375 48.1875 33.796875 48.1875 \nQ 26.515625 48.1875 22.3125 43.546875 \nQ 18.109375 38.921875 18.109375 30.90625 \nL 18.109375 0 \nL 9.078125 0 \nL 9.078125 75.984375 \nL 18.109375 75.984375 \nL 18.109375 46.1875 \nQ 21.34375 51.125 25.703125 53.5625 \nQ 30.078125 56 35.796875 56 \nQ 45.21875 56 50.046875 50.171875 \nQ 54.890625 44.34375 54.890625 33.015625 \nz\n\" id=\"DejaVuSans-104\"/>\n     <path d=\"M 9.8125 72.90625 \nL 23.09375 72.90625 \nL 55.421875 11.921875 \nL 55.421875 72.90625 \nL 64.984375 72.90625 \nL 64.984375 0 \nL 51.703125 0 \nL 19.390625 60.984375 \nL 19.390625 0 \nL 9.8125 0 \nz\n\" id=\"DejaVuSans-78\"/>\n    </defs>\n    <g transform=\"translate(132.353438 16.318125)scale(0.12 -0.12)\">\n     <use xlink:href=\"#DejaVuSans-80\"/>\n     <use x=\"60.302734\" xlink:href=\"#DejaVuSans-72\"/>\n     <use x=\"135.498047\" xlink:href=\"#DejaVuSans-80\"/>\n     <use x=\"195.800781\" xlink:href=\"#DejaVuSans-32\"/>\n     <use x=\"227.587891\" xlink:href=\"#DejaVuSans-116\"/>\n     <use x=\"266.796875\" xlink:href=\"#DejaVuSans-105\"/>\n     <use x=\"294.580078\" xlink:href=\"#DejaVuSans-109\"/>\n     <use x=\"391.992188\" xlink:href=\"#DejaVuSans-101\"/>\n     <use x=\"453.515625\" xlink:href=\"#DejaVuSans-32\"/>\n     <use x=\"485.302734\" xlink:href=\"#DejaVuSans-115\"/>\n     <use x=\"537.402344\" xlink:href=\"#DejaVuSans-112\"/>\n     <use x=\"600.878906\" xlink:href=\"#DejaVuSans-101\"/>\n     <use x=\"662.402344\" xlink:href=\"#DejaVuSans-110\"/>\n     <use x=\"725.78125\" xlink:href=\"#DejaVuSans-116\"/>\n     <use x=\"764.990234\" xlink:href=\"#DejaVuSans-32\"/>\n     <use x=\"796.777344\" xlink:href=\"#DejaVuSans-102\"/>\n     <use x=\"831.982422\" xlink:href=\"#DejaVuSans-111\"/>\n     <use x=\"893.164062\" xlink:href=\"#DejaVuSans-114\"/>\n     <use x=\"934.277344\" xlink:href=\"#DejaVuSans-32\"/>\n     <use x=\"966.064453\" xlink:href=\"#DejaVuSans-101\"/>\n     <use x=\"1027.587891\" xlink:href=\"#DejaVuSans-97\"/>\n     <use x=\"1088.867188\" xlink:href=\"#DejaVuSans-99\"/>\n     <use x=\"1143.847656\" xlink:href=\"#DejaVuSans-104\"/>\n     <use x=\"1207.226562\" xlink:href=\"#DejaVuSans-32\"/>\n     <use x=\"1239.013672\" xlink:href=\"#DejaVuSans-78\"/>\n    </g>\n   </g>\n   <g id=\"legend_1\">\n    <g id=\"patch_7\">\n     <path d=\"M 50.78125 89.030625 \nL 110.307813 89.030625 \nQ 112.307813 89.030625 112.307813 87.030625 \nL 112.307813 29.318125 \nQ 112.307813 27.318125 110.307813 27.318125 \nL 50.78125 27.318125 \nQ 48.78125 27.318125 48.78125 29.318125 \nL 48.78125 87.030625 \nQ 48.78125 89.030625 50.78125 89.030625 \nz\n\" style=\"fill:#ffffff;opacity:0.8;stroke:#cccccc;stroke-linejoin:miter;\"/>\n    </g>\n    <g id=\"line2d_19\">\n     <path d=\"M 52.78125 35.416562 \nL 72.78125 35.416562 \n\" style=\"fill:none;stroke:#1f77b4;stroke-linecap:square;stroke-width:1.5;\"/>\n    </g>\n    <g id=\"line2d_20\"/>\n    <g id=\"text_18\">\n     <!-- bool -->\n     <defs>\n      <path d=\"M 48.6875 27.296875 \nQ 48.6875 37.203125 44.609375 42.84375 \nQ 40.53125 48.484375 33.40625 48.484375 \nQ 26.265625 48.484375 22.1875 42.84375 \nQ 18.109375 37.203125 18.109375 27.296875 \nQ 18.109375 17.390625 22.1875 11.75 \nQ 26.265625 6.109375 33.40625 6.109375 \nQ 40.53125 6.109375 44.609375 11.75 \nQ 48.6875 17.390625 48.6875 27.296875 \nz\nM 18.109375 46.390625 \nQ 20.953125 51.265625 25.265625 53.625 \nQ 29.59375 56 35.59375 56 \nQ 45.5625 56 51.78125 48.09375 \nQ 58.015625 40.1875 58.015625 27.296875 \nQ 58.015625 14.40625 51.78125 6.484375 \nQ 45.5625 -1.421875 35.59375 -1.421875 \nQ 29.59375 -1.421875 25.265625 0.953125 \nQ 20.953125 3.328125 18.109375 8.203125 \nL 18.109375 0 \nL 9.078125 0 \nL 9.078125 75.984375 \nL 18.109375 75.984375 \nz\n\" id=\"DejaVuSans-98\"/>\n      <path d=\"M 9.421875 75.984375 \nL 18.40625 75.984375 \nL 18.40625 0 \nL 9.421875 0 \nz\n\" id=\"DejaVuSans-108\"/>\n     </defs>\n     <g transform=\"translate(80.78125 38.916562)scale(0.1 -0.1)\">\n      <use xlink:href=\"#DejaVuSans-98\"/>\n      <use x=\"63.476562\" xlink:href=\"#DejaVuSans-111\"/>\n      <use x=\"124.658203\" xlink:href=\"#DejaVuSans-111\"/>\n      <use x=\"185.839844\" xlink:href=\"#DejaVuSans-108\"/>\n     </g>\n    </g>\n    <g id=\"line2d_21\">\n     <path d=\"M 52.78125 50.094687 \nL 72.78125 50.094687 \n\" style=\"fill:none;stroke:#ff7f0e;stroke-linecap:square;stroke-width:1.5;\"/>\n    </g>\n    <g id=\"line2d_22\"/>\n    <g id=\"text_19\">\n     <!-- int -->\n     <g transform=\"translate(80.78125 53.594687)scale(0.1 -0.1)\">\n      <use xlink:href=\"#DejaVuSans-105\"/>\n      <use x=\"27.783203\" xlink:href=\"#DejaVuSans-110\"/>\n      <use x=\"91.162109\" xlink:href=\"#DejaVuSans-116\"/>\n     </g>\n    </g>\n    <g id=\"line2d_23\">\n     <path d=\"M 52.78125 64.772812 \nL 72.78125 64.772812 \n\" style=\"fill:none;stroke:#2ca02c;stroke-dasharray:5.55,2.4;stroke-dashoffset:0;stroke-width:1.5;\"/>\n    </g>\n    <g id=\"line2d_24\"/>\n    <g id=\"text_20\">\n     <!-- poly3 -->\n     <defs>\n      <path d=\"M 32.171875 -5.078125 \nQ 28.375 -14.84375 24.75 -17.8125 \nQ 21.140625 -20.796875 15.09375 -20.796875 \nL 7.90625 -20.796875 \nL 7.90625 -13.28125 \nL 13.1875 -13.28125 \nQ 16.890625 -13.28125 18.9375 -11.515625 \nQ 21 -9.765625 23.484375 -3.21875 \nL 25.09375 0.875 \nL 2.984375 54.6875 \nL 12.5 54.6875 \nL 29.59375 11.921875 \nL 46.6875 54.6875 \nL 56.203125 54.6875 \nz\n\" id=\"DejaVuSans-121\"/>\n     </defs>\n     <g transform=\"translate(80.78125 68.272812)scale(0.1 -0.1)\">\n      <use xlink:href=\"#DejaVuSans-112\"/>\n      <use x=\"63.476562\" xlink:href=\"#DejaVuSans-111\"/>\n      <use x=\"124.658203\" xlink:href=\"#DejaVuSans-108\"/>\n      <use x=\"152.441406\" xlink:href=\"#DejaVuSans-121\"/>\n      <use x=\"211.621094\" xlink:href=\"#DejaVuSans-51\"/>\n     </g>\n    </g>\n    <g id=\"line2d_25\">\n     <path d=\"M 52.78125 79.450938 \nL 72.78125 79.450938 \n\" style=\"fill:none;stroke:#d62728;stroke-dasharray:5.55,2.4;stroke-dashoffset:0;stroke-width:1.5;\"/>\n    </g>\n    <g id=\"line2d_26\"/>\n    <g id=\"text_21\">\n     <!-- poly2 -->\n     <g transform=\"translate(80.78125 82.950938)scale(0.1 -0.1)\">\n      <use xlink:href=\"#DejaVuSans-112\"/>\n      <use x=\"63.476562\" xlink:href=\"#DejaVuSans-111\"/>\n      <use x=\"124.658203\" xlink:href=\"#DejaVuSans-108\"/>\n      <use x=\"152.441406\" xlink:href=\"#DejaVuSans-121\"/>\n      <use x=\"211.621094\" xlink:href=\"#DejaVuSans-50\"/>\n     </g>\n    </g>\n   </g>\n  </g>\n </g>\n <defs>\n  <clipPath id=\"p8f8de7ced4\">\n   <rect height=\"217.44\" width=\"334.8\" x=\"43.78125\" y=\"22.318125\"/>\n  </clipPath>\n </defs>\n</svg>\n"
     },
     "metadata": {
      "needs_background": "light"
     }
    }
   ],
   "source": [
    "x_axis = [i for i in range(1, num_max+1)]\n",
    "poly3 = [1.13e-4 * i**3 for i in range(1, num_max+1)]\n",
    "poly2 = [1.35e-4 * i**2 + 0.02 for i in range(1, num_max+1)]\n",
    "\n",
    "plt.title(\"PHP time spent for each N\")\n",
    "plt.plot(x_axis, times_bool, label=\"bool\")\n",
    "plt.plot(x_axis, times_int, label=\"int\")\n",
    "plt.plot(x_axis, poly3, \"--\", label=\"poly3\")\n",
    "plt.plot(x_axis, poly2, \"--\", label=\"poly2\")\n",
    "plt.ylabel(\"Time of iteration (s)\")\n",
    "plt.xlabel(\"$N$\")\n",
    "plt.legend()\n",
    "plt.show()"
   ]
  },
  {
   "cell_type": "code",
   "execution_count": null,
   "metadata": {},
   "outputs": [],
   "source": []
  }
 ],
 "metadata": {
  "kernelspec": {
   "display_name": "Python 3",
   "language": "python",
   "name": "python3"
  },
  "language_info": {
   "codemirror_mode": {
    "name": "ipython",
    "version": 3
   },
   "file_extension": ".py",
   "mimetype": "text/x-python",
   "name": "python",
   "nbconvert_exporter": "python",
   "pygments_lexer": "ipython3",
   "version": "3.8.3-final"
  }
 },
 "nbformat": 4,
 "nbformat_minor": 4
}