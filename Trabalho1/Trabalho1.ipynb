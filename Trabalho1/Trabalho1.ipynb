{
 "cells": [
  {
   "cell_type": "code",
   "execution_count": 1,
   "metadata": {},
   "outputs": [],
   "source": [
    "%config InlineBackend.figure_format = \"svg\"\n",
    "import matplotlib.pyplot as plt\n",
    "from tqdm import tqdm\n",
    "import numpy as np\n",
    "from aux import *\n",
    "from z3 import *\n",
    "import time"
   ]
  },
  {
   "cell_type": "markdown",
   "metadata": {},
   "source": [
    "# Problema 1: Horário de uma Startup"
   ]
  },
  {
   "cell_type": "markdown",
   "metadata": {},
   "source": [
    "Há $P$ projetos, enumerados de $(0, ..., P-1)$. \n",
    "\n",
    "Cada projeto $p$ tem $C_p$ colaboradores $(0, ..., C_p-1)$ dos quais um é líder.\n",
    "\n",
    "Para cada projeto $p$ há $N_p$ reuniões semanais.\n",
    "\n",
    "As reuniões têm de conter sempre o líder e pelo menos $50\\%$ dos colaboradores.\n",
    "\n",
    "As reuniões ocorrem em uma das $S$ salas enumeradas de $(0, ..., S-1)$.\n",
    "\n",
    "Os tempos são representados por slots $(\\mathit{hora}, \\mathit{dia})$."
   ]
  },
  {
   "cell_type": "markdown",
   "metadata": {},
   "source": [
    "## Variáveis do problema"
   ]
  },
  {
   "cell_type": "markdown",
   "metadata": {},
   "source": [
    "$x_{p, c, d, h}$: inteiro que representa a disponibilidade do colaborador $c$ do projeto $p$, onde $c=0$ é o líder, $d$ é o dia e $h$ a hora desse dia\n",
    "\n",
    "$y_{s, d, h, p}$: inteiro que representa a disponibilidade da sala $s$ no dia $d$ e hora $h$ para o projeto $p$.\n",
    "\n",
    "\n",
    "$r_{p, d, h, s}:$ inteiro que representa a existência de uma reunião para o projeto $p$ no dia $d$, hora $h$ e sala $s$."
   ]
  },
  {
   "cell_type": "markdown",
   "metadata": {},
   "source": [
    "## Condições inerentes ao problema"
   ]
  },
  {
   "cell_type": "markdown",
   "metadata": {},
   "source": [
    "1. Todos os valores são inteiros unitários ou nulos:\n",
    "$$ 0 \\le x_{p,c,d,h} \\le 1, \\forall_{p,c,d,h} $$\n",
    "$$ 0 \\le y_{s,d,h,p} \\le 1, \\forall_{s,d,h,p} $$\n",
    "$$ 0 \\le r_{p,d,h,s} \\le 1, \\forall_{p,d,h,s} $$\n",
    "\n",
    "2. Cada sala, por dia e hora, está disponível para reunião de apenas um projeto:\n",
    "$$ \\sum_{p=0}^{P-1} y_{s,d,h,p} = 1, \\forall_{s, d, h} $$\n",
    "\n",
    "3. Cada projeto só pode ter no máximo uma reunião por dia e hora:\n",
    "$$ \\sum_{s=0}^{S-1} r_{p,d,h,s} \\le 1, \\forall_{p,d,h} $$\n",
    "\n",
    "4. Para haver reunião de um projeto numa certa sala, dia e hora, o líder e pelo menos $50\\%$ dos colaboradores devem estar disponíveis e a sala também:\n",
    "$$ r_{p,d,h,s} = 1 \\rightarrow \\left( y_{s,d,h,p} = 1 \\wedge x_{p,0,d,h} = 1 \\wedge \\sum_{c=1}^{C_p-1} x_{p,c,d,h} \\ge \\frac{C_p-1}{2} \\right), \\forall_{p,d,h,s} $$"
   ]
  },
  {
   "cell_type": "markdown",
   "metadata": {},
   "source": [
    "## Condições de input"
   ]
  },
  {
   "cell_type": "markdown",
   "metadata": {},
   "source": [
    "1. A disponibilidade dos colaboradores de cada projeto $x_{p,c,d,h}^{(i)}$ é dada como input do problema:\n",
    "$$ x_{p,c,d,h} = x_{p,c,d,h}^{(i)}, \\forall_{p,c,d,h} $$\n",
    "\n",
    "2. Deve haver um número mínimo de reuniões semanais por projeto $N_p$, dada como input do problema:\n",
    "$$ \\sum_{d=0}^{D-1} \\sum_{h=h_i}^{h_f} \\sum_{s=0}^{S-1} r_{p,s,d,h} \\ge N_p, \\forall_p $$"
   ]
  },
  {
   "cell_type": "markdown",
   "metadata": {},
   "source": [
    "## Condição opcional"
   ]
  },
  {
   "cell_type": "markdown",
   "metadata": {},
   "source": [
    "1. Se possível, marcar no máximo uma reunião por dia:\n",
    "$$ \\sum_{h=h_i}^{h_f} \\sum_{s=0}^{S-1} r_{p,d,h,s} \\le 1, \\forall_{p,d} $$"
   ]
  },
  {
   "cell_type": "code",
   "execution_count": 6,
   "metadata": {},
   "outputs": [],
   "source": [
    "def get_meetings(self):\n",
    "    # Variáveis auxiliares\n",
    "    days = [\"mon\", \"tue\", \"wed\", \"thu\", \"fri\"]\n",
    "    rooms = self.rooms\n",
    "    x_in = self.x_in\n",
    "\n",
    "    solver = Solver()\n",
    "    # Criar os dicionários de inteiros x, y e r descritos anteriormente\n",
    "    x = {p: {c: {d: {h: Int(f'x:{p},{c},{d},{h}') for h in range(8, 17)} for d in days} for c in x_in[p]} for p in x_in}\n",
    "    y = {s: {d: {h: {p: Int(f'y:{s},{d},{h},{p}') for p in x_in} for h in range(8, 17)} for d in days} for s in rooms}\n",
    "    r = {p: {d: {h: {s: Int(f'r:{p},{s},{d},{h}') for s in rooms} for h in range(8, 17)} for d in days} for p in x_in}\n",
    "\n",
    "    # Condição inerente 1 e de input 1\n",
    "    for p in x:\n",
    "        for c in x[p]:\n",
    "            for d in x[p][c]:\n",
    "                for h in x[p][c][d]:\n",
    "                    solver.add(x[p][c][d][h] >= 0, x[p][c][d][h] <= 1)\n",
    "                    solver.add(x[p][c][d][h] == x_in[p][c][d][h])\n",
    "    for s in y:\n",
    "        for d in y[s]:\n",
    "            for h in y[s][d]:\n",
    "                for p in y[s][d][h]:\n",
    "                    solver.add(y[s][d][h][p] <= 1, y[s][d][h][p] >= 0)\n",
    "                    solver.add(r[p][d][h][s] <= 1, r[p][d][h][s] >= 0)\n",
    "\n",
    "    # Condição inerente 2\n",
    "    for s in y:\n",
    "        for d in y[s]:\n",
    "            for h in y[s][d]:\n",
    "                solver.add(sum([y[s][d][h][p] for p in y[s][d][h]]) == 1)\n",
    "                \n",
    "    # Condição inerente 3\n",
    "    for p in r:\n",
    "        for d in r[p]:\n",
    "            for h in r[p][d]:\n",
    "                solver.add(sum([r[p][d][h][s] for s in r[p][d][h]]) <= 1)\n",
    "\n",
    "    # Condição inerente 4\n",
    "    for p in r:\n",
    "        C = len(x_in[p])\n",
    "        for d in r[p]:\n",
    "            for h in r[p][d]:\n",
    "                for s in r[p][d][h]:\n",
    "                    solver.add(Implies(r[p][d][h][s] == 1, x[p][0][d][h] >= 1))\n",
    "                    solver.add(Implies(r[p][d][h][s] == 1, y[s][d][h][p] >= 1))\n",
    "                    solver.add(Implies(r[p][d][h][s] == 1, sum([x[p][c][d][h] for c in range(1, C)]) >= (C-1)/2))\n",
    "                    \n",
    "    # Condição de input 2\n",
    "    for p in r:\n",
    "        N = self.num_meetings[p]\n",
    "        soma = 0\n",
    "        for d in r[p]:\n",
    "            for h in r[p][d]:\n",
    "                for s in r[p][d][h]:\n",
    "                    soma += r[p][d][h][s]\n",
    "        solver.add(soma >= N)\n",
    "        \n",
    "    # Condição opcional de uma reunião máxima por dia\n",
    "    solver.push()\n",
    "    for p in r:\n",
    "        for d in r[p]:\n",
    "            soma = 0\n",
    "            for h in r[p][d]:\n",
    "                for s in r[p][d][h]:\n",
    "                    soma += r[p][d][h][s]\n",
    "            solver.add(soma <= 1)\n",
    "        \n",
    "    if solver.check() == sat:\n",
    "        print(\"This schedule is solvable.\\n\")\n",
    "        m = solver.model()\n",
    "    else:\n",
    "        # Condição opcional não verificada\n",
    "        solver.pop()\n",
    "        if solver.check() == sat:\n",
    "            print(\"This schedule is solvable with more than one meeting a day.\\n\")\n",
    "            m = solver.model()\n",
    "        else:\n",
    "            # Horário insatisfazível\n",
    "            print(\"This schedule is not solvable!\\n\")\n",
    "            m = None\n",
    "            \n",
    "    if m != None:\n",
    "        result = [tuple(str(elem).split(',')) for elem in m if \"r:\" in str(elem) and m[elem] == 1]\n",
    "        result = sorted([(r1.split(':')[1], r3, r4, r2) for (r1, r2, r3, r4) in result])\n",
    "        \n",
    "    return meeting_to_df(result)\n",
    "                    \n",
    "Schedule.get_meetings = get_meetings"
   ]
  },
  {
   "cell_type": "code",
   "execution_count": 8,
   "metadata": {},
   "outputs": [
    {
     "name": "stdin",
     "output_type": "stream",
     "text": [
      "How many meetings should be held for project Projeto_Logica this week? 4\n"
     ]
    },
    {
     "name": "stdout",
     "output_type": "stream",
     "text": [
      "This schedule is solvable.\n",
      "\n"
     ]
    },
    {
     "data": {
      "text/html": [
       "<style  type=\"text/css\" >\n",
       "    #T_d3a4d494_196d_11eb_a42d_8c8590687906 th {\n",
       "          text-align: center;\n",
       "    }    #T_d3a4d494_196d_11eb_a42d_8c8590687906 td {\n",
       "          text-align: center;\n",
       "    }</style><table id=\"T_d3a4d494_196d_11eb_a42d_8c8590687906\" ><thead>    <tr>        <th class=\"blank level0\" ></th>        <th class=\"col_heading level0 col0\" >mon</th>        <th class=\"col_heading level0 col1\" >tue</th>        <th class=\"col_heading level0 col2\" >wed</th>        <th class=\"col_heading level0 col3\" >thu</th>        <th class=\"col_heading level0 col4\" >fri</th>    </tr></thead><tbody>\n",
       "                <tr>\n",
       "                        <th id=\"T_d3a4d494_196d_11eb_a42d_8c8590687906level0_row0\" class=\"row_heading level0 row0\" >8h-9h</th>\n",
       "                        <td id=\"T_d3a4d494_196d_11eb_a42d_8c8590687906row0_col0\" class=\"data row0 col0\" ></td>\n",
       "                        <td id=\"T_d3a4d494_196d_11eb_a42d_8c8590687906row0_col1\" class=\"data row0 col1\" ></td>\n",
       "                        <td id=\"T_d3a4d494_196d_11eb_a42d_8c8590687906row0_col2\" class=\"data row0 col2\" >| Projeto_Logica | S_Inf |</td>\n",
       "                        <td id=\"T_d3a4d494_196d_11eb_a42d_8c8590687906row0_col3\" class=\"data row0 col3\" ></td>\n",
       "                        <td id=\"T_d3a4d494_196d_11eb_a42d_8c8590687906row0_col4\" class=\"data row0 col4\" >| Projeto_Logica | S_Inf |</td>\n",
       "            </tr>\n",
       "            <tr>\n",
       "                        <th id=\"T_d3a4d494_196d_11eb_a42d_8c8590687906level0_row1\" class=\"row_heading level0 row1\" >9h-10h</th>\n",
       "                        <td id=\"T_d3a4d494_196d_11eb_a42d_8c8590687906row1_col0\" class=\"data row1 col0\" ></td>\n",
       "                        <td id=\"T_d3a4d494_196d_11eb_a42d_8c8590687906row1_col1\" class=\"data row1 col1\" ></td>\n",
       "                        <td id=\"T_d3a4d494_196d_11eb_a42d_8c8590687906row1_col2\" class=\"data row1 col2\" ></td>\n",
       "                        <td id=\"T_d3a4d494_196d_11eb_a42d_8c8590687906row1_col3\" class=\"data row1 col3\" ></td>\n",
       "                        <td id=\"T_d3a4d494_196d_11eb_a42d_8c8590687906row1_col4\" class=\"data row1 col4\" ></td>\n",
       "            </tr>\n",
       "            <tr>\n",
       "                        <th id=\"T_d3a4d494_196d_11eb_a42d_8c8590687906level0_row2\" class=\"row_heading level0 row2\" >10h-11h</th>\n",
       "                        <td id=\"T_d3a4d494_196d_11eb_a42d_8c8590687906row2_col0\" class=\"data row2 col0\" ></td>\n",
       "                        <td id=\"T_d3a4d494_196d_11eb_a42d_8c8590687906row2_col1\" class=\"data row2 col1\" ></td>\n",
       "                        <td id=\"T_d3a4d494_196d_11eb_a42d_8c8590687906row2_col2\" class=\"data row2 col2\" ></td>\n",
       "                        <td id=\"T_d3a4d494_196d_11eb_a42d_8c8590687906row2_col3\" class=\"data row2 col3\" ></td>\n",
       "                        <td id=\"T_d3a4d494_196d_11eb_a42d_8c8590687906row2_col4\" class=\"data row2 col4\" ></td>\n",
       "            </tr>\n",
       "            <tr>\n",
       "                        <th id=\"T_d3a4d494_196d_11eb_a42d_8c8590687906level0_row3\" class=\"row_heading level0 row3\" >11h-12h</th>\n",
       "                        <td id=\"T_d3a4d494_196d_11eb_a42d_8c8590687906row3_col0\" class=\"data row3 col0\" ></td>\n",
       "                        <td id=\"T_d3a4d494_196d_11eb_a42d_8c8590687906row3_col1\" class=\"data row3 col1\" ></td>\n",
       "                        <td id=\"T_d3a4d494_196d_11eb_a42d_8c8590687906row3_col2\" class=\"data row3 col2\" ></td>\n",
       "                        <td id=\"T_d3a4d494_196d_11eb_a42d_8c8590687906row3_col3\" class=\"data row3 col3\" >| Projeto_Logica | S_Inf |</td>\n",
       "                        <td id=\"T_d3a4d494_196d_11eb_a42d_8c8590687906row3_col4\" class=\"data row3 col4\" ></td>\n",
       "            </tr>\n",
       "            <tr>\n",
       "                        <th id=\"T_d3a4d494_196d_11eb_a42d_8c8590687906level0_row4\" class=\"row_heading level0 row4\" >12h-13h</th>\n",
       "                        <td id=\"T_d3a4d494_196d_11eb_a42d_8c8590687906row4_col0\" class=\"data row4 col0\" ></td>\n",
       "                        <td id=\"T_d3a4d494_196d_11eb_a42d_8c8590687906row4_col1\" class=\"data row4 col1\" ></td>\n",
       "                        <td id=\"T_d3a4d494_196d_11eb_a42d_8c8590687906row4_col2\" class=\"data row4 col2\" ></td>\n",
       "                        <td id=\"T_d3a4d494_196d_11eb_a42d_8c8590687906row4_col3\" class=\"data row4 col3\" ></td>\n",
       "                        <td id=\"T_d3a4d494_196d_11eb_a42d_8c8590687906row4_col4\" class=\"data row4 col4\" ></td>\n",
       "            </tr>\n",
       "            <tr>\n",
       "                        <th id=\"T_d3a4d494_196d_11eb_a42d_8c8590687906level0_row5\" class=\"row_heading level0 row5\" >13h-14h</th>\n",
       "                        <td id=\"T_d3a4d494_196d_11eb_a42d_8c8590687906row5_col0\" class=\"data row5 col0\" ></td>\n",
       "                        <td id=\"T_d3a4d494_196d_11eb_a42d_8c8590687906row5_col1\" class=\"data row5 col1\" ></td>\n",
       "                        <td id=\"T_d3a4d494_196d_11eb_a42d_8c8590687906row5_col2\" class=\"data row5 col2\" ></td>\n",
       "                        <td id=\"T_d3a4d494_196d_11eb_a42d_8c8590687906row5_col3\" class=\"data row5 col3\" ></td>\n",
       "                        <td id=\"T_d3a4d494_196d_11eb_a42d_8c8590687906row5_col4\" class=\"data row5 col4\" ></td>\n",
       "            </tr>\n",
       "            <tr>\n",
       "                        <th id=\"T_d3a4d494_196d_11eb_a42d_8c8590687906level0_row6\" class=\"row_heading level0 row6\" >14h-15h</th>\n",
       "                        <td id=\"T_d3a4d494_196d_11eb_a42d_8c8590687906row6_col0\" class=\"data row6 col0\" ></td>\n",
       "                        <td id=\"T_d3a4d494_196d_11eb_a42d_8c8590687906row6_col1\" class=\"data row6 col1\" >| Projeto_Logica | S_Inf |</td>\n",
       "                        <td id=\"T_d3a4d494_196d_11eb_a42d_8c8590687906row6_col2\" class=\"data row6 col2\" ></td>\n",
       "                        <td id=\"T_d3a4d494_196d_11eb_a42d_8c8590687906row6_col3\" class=\"data row6 col3\" ></td>\n",
       "                        <td id=\"T_d3a4d494_196d_11eb_a42d_8c8590687906row6_col4\" class=\"data row6 col4\" ></td>\n",
       "            </tr>\n",
       "            <tr>\n",
       "                        <th id=\"T_d3a4d494_196d_11eb_a42d_8c8590687906level0_row7\" class=\"row_heading level0 row7\" >15h-16h</th>\n",
       "                        <td id=\"T_d3a4d494_196d_11eb_a42d_8c8590687906row7_col0\" class=\"data row7 col0\" ></td>\n",
       "                        <td id=\"T_d3a4d494_196d_11eb_a42d_8c8590687906row7_col1\" class=\"data row7 col1\" ></td>\n",
       "                        <td id=\"T_d3a4d494_196d_11eb_a42d_8c8590687906row7_col2\" class=\"data row7 col2\" ></td>\n",
       "                        <td id=\"T_d3a4d494_196d_11eb_a42d_8c8590687906row7_col3\" class=\"data row7 col3\" ></td>\n",
       "                        <td id=\"T_d3a4d494_196d_11eb_a42d_8c8590687906row7_col4\" class=\"data row7 col4\" ></td>\n",
       "            </tr>\n",
       "            <tr>\n",
       "                        <th id=\"T_d3a4d494_196d_11eb_a42d_8c8590687906level0_row8\" class=\"row_heading level0 row8\" >16h-17h</th>\n",
       "                        <td id=\"T_d3a4d494_196d_11eb_a42d_8c8590687906row8_col0\" class=\"data row8 col0\" ></td>\n",
       "                        <td id=\"T_d3a4d494_196d_11eb_a42d_8c8590687906row8_col1\" class=\"data row8 col1\" ></td>\n",
       "                        <td id=\"T_d3a4d494_196d_11eb_a42d_8c8590687906row8_col2\" class=\"data row8 col2\" ></td>\n",
       "                        <td id=\"T_d3a4d494_196d_11eb_a42d_8c8590687906row8_col3\" class=\"data row8 col3\" ></td>\n",
       "                        <td id=\"T_d3a4d494_196d_11eb_a42d_8c8590687906row8_col4\" class=\"data row8 col4\" ></td>\n",
       "            </tr>\n",
       "    </tbody></table>"
      ],
      "text/plain": [
       "<pandas.io.formats.style.Styler at 0x7fe7f6409fd0>"
      ]
     },
     "metadata": {},
     "output_type": "display_data"
    }
   ],
   "source": [
    "# Criar schedule\n",
    "rooms = [\"S_Fis\", \"S_Inf\"]\n",
    "startup = get_schedule(\"Projetos\", rooms)\n",
    "r = startup.get_meetings()\n",
    "display(pd_centered(r))\n",
    "r.to_csv(\"schedule.csv\")"
   ]
  },
  {
   "cell_type": "markdown",
   "metadata": {},
   "source": [
    "# Problema 2: Pidgeon Hole Principle"
   ]
  },
  {
   "cell_type": "markdown",
   "metadata": {},
   "source": [
    "Se disposermos de $N$ pombos e $N-1$ poleiros, é impossível colocar um pombo em cada poleiro.\n",
    "\n",
    "Seja $p_{n, m}$ a variável que representa a presença do pombo $n$ no poleiro $m$."
   ]
  },
  {
   "cell_type": "markdown",
   "metadata": {},
   "source": [
    "## Condições Lógica Inteira"
   ]
  },
  {
   "cell_type": "markdown",
   "metadata": {},
   "source": [
    "1. Cada pombo deve ocupar sempre um e um só poleiro:\n",
    "$$ \\sum_{m=0}^{N-2} p_{n,m} = 1, \\forall_n $$\n",
    "\n",
    "2. Cada poleiro pode apenas ter no máximo um pombo:\n",
    "$$ \\sum_{n=0}^{N-1} p_{n, m} \\le 1, \\forall_m $$"
   ]
  },
  {
   "cell_type": "code",
   "execution_count": null,
   "metadata": {},
   "outputs": [],
   "source": [
    "def php_int(N):\n",
    "    start = time.time()\n",
    "    \n",
    "    # Criar o solver e as variáveis\n",
    "    solver = Solver()\n",
    "    p = [[Int(f'{n},{m}') for m in range(N-1)] for n in range(N)]\n",
    "    \n",
    "    # Condição 1: Cada pombo deve ocupar sempre um poleiro\n",
    "    for n in p:\n",
    "        solver.add(sum([m for m in n]) == 1)\n",
    "    \n",
    "    # Condição 2: Cada poleiro deve conter no máximo um pombo\n",
    "    p = list(np.array(p).transpose())\n",
    "    for m in p:\n",
    "        solver.add(sum([n for n in m]) <= 1)\n",
    "        \n",
    "    # Verificar que é insatisfazível\n",
    "    assert solver.check() == unsat\n",
    "    \n",
    "    return time.time() - start"
   ]
  },
  {
   "cell_type": "markdown",
   "metadata": {},
   "source": [
    "## Condições Lógica Proposicional"
   ]
  },
  {
   "cell_type": "markdown",
   "metadata": {},
   "source": [
    "1. Cada pombo deve ocupar sempre um e um só poleiro, ou seja, cada pombo deve ocupar pelo menos um poleiro (1) e cada pombo deve ocupar no máximo um poleiro (2):\n",
    "\\begin{equation}\n",
    "\\bigvee_{m=0}^{N-2} p_{n,m}, \\forall_n\n",
    "\\tag{1}\n",
    "\\end{equation}\n",
    "\n",
    "\\begin{equation}\n",
    "p_{n, m} \\rightarrow \\bigwedge_{i=0, i \\neq m}^{N-2} \\left( \\neg p_{n, i} \\right) \\forall_{n,m}\n",
    "\\tag{2}\n",
    "\\end{equation}\n",
    "\n",
    "2. Cada poleiro tem no máximo um pombo:\n",
    "$$ p_{n, m} \\rightarrow \\bigwedge_{i=0, i \\neq n}^{N-1} \\left( \\neg p_{i, m} \\right), \\forall_{n, m} $$"
   ]
  },
  {
   "cell_type": "code",
   "execution_count": null,
   "metadata": {},
   "outputs": [],
   "source": [
    "def php_bool(N):\n",
    "    start = time.time()\n",
    "    \n",
    "    # Criar o solver e as variáveis\n",
    "    solver = Solver()\n",
    "    p = [[Bool(f'{n},{m}') for m in range(N-1)] for n in range(N)]\n",
    "    \n",
    "    # Condição 1: Cada pombo deve ocupar sempre um poleiro\n",
    "    for i in range(len(p)):\n",
    "        solver.add(Or([p[i][j] for j in range(len(p[i]))]))\n",
    "        for j in range(len(p[i])):\n",
    "            conds = []\n",
    "            for k in range(len(p[i])):\n",
    "                if j != k:\n",
    "                    conds.append(Not(p[i][k]))\n",
    "            solver.add(Implies(p[i][j], And(conds)))\n",
    "\n",
    "    # Condição 2: Cada oleiro deve conter no máximo um pombo\n",
    "    for i in range(len(p)):\n",
    "        for j in range(len(p[i])):\n",
    "            conds = []\n",
    "            for k in range(len(p)):\n",
    "                if j != k:\n",
    "                    conds.append(Not(p[k][j]))\n",
    "            solver.add(Implies(p[i][j], And(conds)))\n",
    "\n",
    "    # Verificar que é insatisfazível\n",
    "    assert solver.check() == unsat\n",
    "\n",
    "    return time.time() - start"
   ]
  },
  {
   "cell_type": "code",
   "execution_count": null,
   "metadata": {},
   "outputs": [],
   "source": [
    "num_max, times_int, times_bool = 30, [], []\n",
    "for i in tqdm(range(1, num_max+1), total=num_max, desc=\"PHP\"):\n",
    "    times_bool.append(php_bool(i))\n",
    "    times_int.append(php_int(i))"
   ]
  },
  {
   "cell_type": "code",
   "execution_count": null,
   "metadata": {},
   "outputs": [],
   "source": [
    "x_axis = [i for i in range(1, num_max+1)]\n",
    "poly3 = [1.13e-4 * i**3 for i in range(1, num_max+1)]\n",
    "poly2 = [1.35e-4 * i**2 + 0.02 for i in range(1, num_max+1)]\n",
    "\n",
    "plt.title(\"PHP time spent for each N\")\n",
    "plt.plot(x_axis, times_bool, label=\"bool\")\n",
    "plt.plot(x_axis, times_int, label=\"int\")\n",
    "plt.plot(x_axis, poly3, \"--\", label=\"poly3\")\n",
    "plt.plot(x_axis, poly2, \"--\", label=\"poly2\")\n",
    "plt.ylabel(\"Time of iteration (s)\")\n",
    "plt.xlabel(\"$N$\")\n",
    "plt.legend()\n",
    "plt.show()"
   ]
  },
  {
   "cell_type": "code",
   "execution_count": null,
   "metadata": {},
   "outputs": [],
   "source": []
  }
 ],
 "metadata": {
  "kernelspec": {
   "display_name": "Python 3",
   "language": "python",
   "name": "python3"
  },
  "language_info": {
   "codemirror_mode": {
    "name": "ipython",
    "version": 3
   },
   "file_extension": ".py",
   "mimetype": "text/x-python",
   "name": "python",
   "nbconvert_exporter": "python",
   "pygments_lexer": "ipython3",
   "version": "3.8.3"
  }
 },
 "nbformat": 4,
 "nbformat_minor": 4
}
